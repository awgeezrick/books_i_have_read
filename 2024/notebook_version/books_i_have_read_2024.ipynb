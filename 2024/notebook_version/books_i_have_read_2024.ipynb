{
 "cells": [
  {
   "cell_type": "code",
   "execution_count": 1,
   "metadata": {},
   "outputs": [],
   "source": [
    "import pandas as pd\n",
    "import json\n",
    "from IPython.core.display import HTML"
   ]
  },
  {
   "cell_type": "code",
   "execution_count": 2,
   "metadata": {},
   "outputs": [],
   "source": [
    "def books_json_to_dataframe(yr):\n",
    "    import os\n",
    "    main_dir = os.path.dirname(os.path.dirname(os.getcwd()))\n",
    "\n",
    "    with open(main_dir + '\\\\' + yr + '\\\\notebook_version\\\\book_data.json') as f:\n",
    "      books_data = json.load(f)\n",
    "    \n",
    "    df_ = pd.DataFrame(data=books_data['books'])\n",
    "    \n",
    "    return df_"
   ]
  },
  {
   "cell_type": "code",
   "execution_count": 3,
   "metadata": {},
   "outputs": [],
   "source": [
    "df_books = books_json_to_dataframe('2024')"
   ]
  },
  {
   "cell_type": "code",
   "execution_count": 4,
   "metadata": {},
   "outputs": [],
   "source": [
    "# Converting links to html tags\n",
    "def path_to_image_html(path):\n",
    "    return '<img src=\"'+ path + '\" width=\"240\" >'\n"
   ]
  },
  {
   "cell_type": "code",
   "execution_count": null,
   "metadata": {},
   "outputs": [],
   "source": []
  },
  {
   "cell_type": "code",
   "execution_count": 5,
   "metadata": {},
   "outputs": [
    {
     "data": {
      "text/html": [
       "<div>\n",
       "<style scoped>\n",
       "    .dataframe tbody tr th:only-of-type {\n",
       "        vertical-align: middle;\n",
       "    }\n",
       "\n",
       "    .dataframe tbody tr th {\n",
       "        vertical-align: top;\n",
       "    }\n",
       "\n",
       "    .dataframe thead th {\n",
       "        text-align: right;\n",
       "    }\n",
       "</style>\n",
       "<table border=\"1\" class=\"dataframe\">\n",
       "  <thead>\n",
       "    <tr style=\"text-align: right;\">\n",
       "      <th></th>\n",
       "      <th>title</th>\n",
       "      <th>author</th>\n",
       "      <th>cover</th>\n",
       "      <th>pages</th>\n",
       "      <th>main_genre</th>\n",
       "      <th>sub_genre</th>\n",
       "    </tr>\n",
       "  </thead>\n",
       "  <tbody>\n",
       "    <tr>\n",
       "      <th>0</th>\n",
       "      <td>Tempest Runner</td>\n",
       "      <td>Cavan Scott</td>\n",
       "      <td>https://m.media-amazon.com/images/I/81r1q8VTWX...</td>\n",
       "      <td>624</td>\n",
       "      <td>Fiction</td>\n",
       "      <td>Science Fiction</td>\n",
       "    </tr>\n",
       "    <tr>\n",
       "      <th>1</th>\n",
       "      <td>Ahsoka</td>\n",
       "      <td>E.K. Johnston</td>\n",
       "      <td>https://m.media-amazon.com/images/I/81D0a+JREe...</td>\n",
       "      <td>384</td>\n",
       "      <td>Fiction</td>\n",
       "      <td>Science Fiction</td>\n",
       "    </tr>\n",
       "    <tr>\n",
       "      <th>2</th>\n",
       "      <td>The Great Mortality: An Intimate History of th...</td>\n",
       "      <td>John Kelly</td>\n",
       "      <td>https://m.media-amazon.com/images/I/71oib5leOB...</td>\n",
       "      <td>364</td>\n",
       "      <td>Non-Fiction</td>\n",
       "      <td>History</td>\n",
       "    </tr>\n",
       "    <tr>\n",
       "      <th>3</th>\n",
       "      <td>The Graves Are Walking: The Great Famine and t...</td>\n",
       "      <td>John Kelly</td>\n",
       "      <td>https://m.media-amazon.com/images/I/91O0UcO6eb...</td>\n",
       "      <td>416</td>\n",
       "      <td>Non-Fiction</td>\n",
       "      <td>History</td>\n",
       "    </tr>\n",
       "    <tr>\n",
       "      <th>4</th>\n",
       "      <td>Darth Bane: Path of Destruction</td>\n",
       "      <td>Drew Karpyshyn</td>\n",
       "      <td>https://images-na.ssl-images-amazon.com/images...</td>\n",
       "      <td>324</td>\n",
       "      <td>Fiction</td>\n",
       "      <td>Science Fiction</td>\n",
       "    </tr>\n",
       "    <tr>\n",
       "      <th>5</th>\n",
       "      <td>Darth Bane: Rule of Two</td>\n",
       "      <td>Drew Karpyshyn</td>\n",
       "      <td>https://images-na.ssl-images-amazon.com/images...</td>\n",
       "      <td>352</td>\n",
       "      <td>Fiction</td>\n",
       "      <td>Science Fiction</td>\n",
       "    </tr>\n",
       "    <tr>\n",
       "      <th>6</th>\n",
       "      <td>Darth Bane: Dynasty of Evil</td>\n",
       "      <td>Drew Karpyshyn</td>\n",
       "      <td>https://images-na.ssl-images-amazon.com/images...</td>\n",
       "      <td>336</td>\n",
       "      <td>Fiction</td>\n",
       "      <td>Science Fiction</td>\n",
       "    </tr>\n",
       "    <tr>\n",
       "      <th>7</th>\n",
       "      <td>The Martian</td>\n",
       "      <td>Andy Weir</td>\n",
       "      <td>https://m.media-amazon.com/images/I/71SRkQ-DwZ...</td>\n",
       "      <td>387</td>\n",
       "      <td>Fiction</td>\n",
       "      <td>Science Fiction</td>\n",
       "    </tr>\n",
       "    <tr>\n",
       "      <th>8</th>\n",
       "      <td>Joyful Recollections of Trauma</td>\n",
       "      <td>Paul Scheer</td>\n",
       "      <td>https://m.media-amazon.com/images/I/81r7DZj3Qj...</td>\n",
       "      <td>256</td>\n",
       "      <td>Non-Fiction</td>\n",
       "      <td>Trauma</td>\n",
       "    </tr>\n",
       "    <tr>\n",
       "      <th>9</th>\n",
       "      <td>Project Hail Mary</td>\n",
       "      <td>Andy Weir</td>\n",
       "      <td>https://m.media-amazon.com/images/I/81gYjHx8Ym...</td>\n",
       "      <td>496</td>\n",
       "      <td>Fiction</td>\n",
       "      <td>Science Fiction</td>\n",
       "    </tr>\n",
       "    <tr>\n",
       "      <th>10</th>\n",
       "      <td>Recursion</td>\n",
       "      <td>Blake Crouch</td>\n",
       "      <td>https://m.media-amazon.com/images/I/81Hj5g9zmO...</td>\n",
       "      <td>336</td>\n",
       "      <td>Fiction</td>\n",
       "      <td>Science Fiction</td>\n",
       "    </tr>\n",
       "    <tr>\n",
       "      <th>11</th>\n",
       "      <td>Endless Forms: The Secret World of Wasps</td>\n",
       "      <td>Seirian Sumner</td>\n",
       "      <td>https://m.media-amazon.com/images/I/71IzHgUHSZ...</td>\n",
       "      <td>408</td>\n",
       "      <td>Non-Fiction</td>\n",
       "      <td>Entomology</td>\n",
       "    </tr>\n",
       "    <tr>\n",
       "      <th>12</th>\n",
       "      <td>From a Certain Point of View: The Empire Strik...</td>\n",
       "      <td>Seth Dickinson, et al.</td>\n",
       "      <td>https://m.media-amazon.com/images/I/81MOgObnwS...</td>\n",
       "      <td>576</td>\n",
       "      <td>Fiction</td>\n",
       "      <td>Science Fiction</td>\n",
       "    </tr>\n",
       "  </tbody>\n",
       "</table>\n",
       "</div>"
      ],
      "text/plain": [
       "                                                title                  author  \\\n",
       "0                                      Tempest Runner             Cavan Scott   \n",
       "1                                              Ahsoka           E.K. Johnston   \n",
       "2   The Great Mortality: An Intimate History of th...              John Kelly   \n",
       "3   The Graves Are Walking: The Great Famine and t...              John Kelly   \n",
       "4                     Darth Bane: Path of Destruction          Drew Karpyshyn   \n",
       "5                             Darth Bane: Rule of Two          Drew Karpyshyn   \n",
       "6                         Darth Bane: Dynasty of Evil          Drew Karpyshyn   \n",
       "7                                         The Martian               Andy Weir   \n",
       "8                      Joyful Recollections of Trauma             Paul Scheer   \n",
       "9                                   Project Hail Mary               Andy Weir   \n",
       "10                                          Recursion            Blake Crouch   \n",
       "11           Endless Forms: The Secret World of Wasps          Seirian Sumner   \n",
       "12  From a Certain Point of View: The Empire Strik...  Seth Dickinson, et al.   \n",
       "\n",
       "                                                cover  pages   main_genre  \\\n",
       "0   https://m.media-amazon.com/images/I/81r1q8VTWX...    624      Fiction   \n",
       "1   https://m.media-amazon.com/images/I/81D0a+JREe...    384      Fiction   \n",
       "2   https://m.media-amazon.com/images/I/71oib5leOB...    364  Non-Fiction   \n",
       "3   https://m.media-amazon.com/images/I/91O0UcO6eb...    416  Non-Fiction   \n",
       "4   https://images-na.ssl-images-amazon.com/images...    324      Fiction   \n",
       "5   https://images-na.ssl-images-amazon.com/images...    352      Fiction   \n",
       "6   https://images-na.ssl-images-amazon.com/images...    336      Fiction   \n",
       "7   https://m.media-amazon.com/images/I/71SRkQ-DwZ...    387      Fiction   \n",
       "8   https://m.media-amazon.com/images/I/81r7DZj3Qj...    256  Non-Fiction   \n",
       "9   https://m.media-amazon.com/images/I/81gYjHx8Ym...    496      Fiction   \n",
       "10  https://m.media-amazon.com/images/I/81Hj5g9zmO...    336      Fiction   \n",
       "11  https://m.media-amazon.com/images/I/71IzHgUHSZ...    408  Non-Fiction   \n",
       "12  https://m.media-amazon.com/images/I/81MOgObnwS...    576      Fiction   \n",
       "\n",
       "          sub_genre  \n",
       "0   Science Fiction  \n",
       "1   Science Fiction  \n",
       "2           History  \n",
       "3           History  \n",
       "4   Science Fiction  \n",
       "5   Science Fiction  \n",
       "6   Science Fiction  \n",
       "7   Science Fiction  \n",
       "8            Trauma  \n",
       "9   Science Fiction  \n",
       "10  Science Fiction  \n",
       "11       Entomology  \n",
       "12  Science Fiction  "
      ]
     },
     "execution_count": 5,
     "metadata": {},
     "output_type": "execute_result"
    }
   ],
   "source": [
    "df_books"
   ]
  },
  {
   "cell_type": "code",
   "execution_count": null,
   "metadata": {},
   "outputs": [],
   "source": []
  },
  {
   "cell_type": "code",
   "execution_count": 6,
   "metadata": {},
   "outputs": [],
   "source": [
    "# let's change the layout before moving on\n",
    "\n",
    "df_books = df_books[['cover','title','author','pages','main_genre','sub_genre']]"
   ]
  },
  {
   "cell_type": "code",
   "execution_count": 7,
   "metadata": {},
   "outputs": [
    {
     "data": {
      "text/html": [
       "<table border=\"1\" class=\"dataframe\">\n",
       "  <thead>\n",
       "    <tr style=\"text-align: right;\">\n",
       "      <th></th>\n",
       "      <th>cover</th>\n",
       "      <th>title</th>\n",
       "      <th>author</th>\n",
       "      <th>pages</th>\n",
       "      <th>main_genre</th>\n",
       "      <th>sub_genre</th>\n",
       "    </tr>\n",
       "  </thead>\n",
       "  <tbody>\n",
       "    <tr>\n",
       "      <th>0</th>\n",
       "      <td><img src=\"https://m.media-amazon.com/images/I/81r1q8VTWXL._SL1500_.jpg\" width=\"240\" ></td>\n",
       "      <td>Tempest Runner</td>\n",
       "      <td>Cavan Scott</td>\n",
       "      <td>624</td>\n",
       "      <td>Fiction</td>\n",
       "      <td>Science Fiction</td>\n",
       "    </tr>\n",
       "    <tr>\n",
       "      <th>1</th>\n",
       "      <td><img src=\"https://m.media-amazon.com/images/I/81D0a+JREeL._SL1500_.jpg\" width=\"240\" ></td>\n",
       "      <td>Ahsoka</td>\n",
       "      <td>E.K. Johnston</td>\n",
       "      <td>384</td>\n",
       "      <td>Fiction</td>\n",
       "      <td>Science Fiction</td>\n",
       "    </tr>\n",
       "    <tr>\n",
       "      <th>2</th>\n",
       "      <td><img src=\"https://m.media-amazon.com/images/I/71oib5leOBL._SL1360_.jpg\" width=\"240\" ></td>\n",
       "      <td>The Great Mortality: An Intimate History of the Black Death, the Most Devastating Plague of All Time</td>\n",
       "      <td>John Kelly</td>\n",
       "      <td>364</td>\n",
       "      <td>Non-Fiction</td>\n",
       "      <td>History</td>\n",
       "    </tr>\n",
       "    <tr>\n",
       "      <th>3</th>\n",
       "      <td><img src=\"https://m.media-amazon.com/images/I/91O0UcO6ebL._SL1500_.jpg\" width=\"240\" ></td>\n",
       "      <td>The Graves Are Walking: The Great Famine and the Saga of the Irish People</td>\n",
       "      <td>John Kelly</td>\n",
       "      <td>416</td>\n",
       "      <td>Non-Fiction</td>\n",
       "      <td>History</td>\n",
       "    </tr>\n",
       "    <tr>\n",
       "      <th>4</th>\n",
       "      <td><img src=\"https://images-na.ssl-images-amazon.com/images/I/919IhaKl1qL.jpg\" width=\"240\" ></td>\n",
       "      <td>Darth Bane: Path of Destruction</td>\n",
       "      <td>Drew Karpyshyn</td>\n",
       "      <td>324</td>\n",
       "      <td>Fiction</td>\n",
       "      <td>Science Fiction</td>\n",
       "    </tr>\n",
       "    <tr>\n",
       "      <th>5</th>\n",
       "      <td><img src=\"https://images-na.ssl-images-amazon.com/images/I/91Nsu5lwOkL.jpg\" width=\"240\" ></td>\n",
       "      <td>Darth Bane: Rule of Two</td>\n",
       "      <td>Drew Karpyshyn</td>\n",
       "      <td>352</td>\n",
       "      <td>Fiction</td>\n",
       "      <td>Science Fiction</td>\n",
       "    </tr>\n",
       "    <tr>\n",
       "      <th>6</th>\n",
       "      <td><img src=\"https://images-na.ssl-images-amazon.com/images/I/91hCdXC3yIL.jpg\" width=\"240\" ></td>\n",
       "      <td>Darth Bane: Dynasty of Evil</td>\n",
       "      <td>Drew Karpyshyn</td>\n",
       "      <td>336</td>\n",
       "      <td>Fiction</td>\n",
       "      <td>Science Fiction</td>\n",
       "    </tr>\n",
       "    <tr>\n",
       "      <th>7</th>\n",
       "      <td><img src=\"https://m.media-amazon.com/images/I/71SRkQ-DwZL._SL1500_.jpg\" width=\"240\" ></td>\n",
       "      <td>The Martian</td>\n",
       "      <td>Andy Weir</td>\n",
       "      <td>387</td>\n",
       "      <td>Fiction</td>\n",
       "      <td>Science Fiction</td>\n",
       "    </tr>\n",
       "    <tr>\n",
       "      <th>8</th>\n",
       "      <td><img src=\"https://m.media-amazon.com/images/I/81r7DZj3QjL._SL1500_.jpg\" width=\"240\" ></td>\n",
       "      <td>Joyful Recollections of Trauma</td>\n",
       "      <td>Paul Scheer</td>\n",
       "      <td>256</td>\n",
       "      <td>Non-Fiction</td>\n",
       "      <td>Trauma</td>\n",
       "    </tr>\n",
       "    <tr>\n",
       "      <th>9</th>\n",
       "      <td><img src=\"https://m.media-amazon.com/images/I/81gYjHx8YmL._SL1500_.jpg\" width=\"240\" ></td>\n",
       "      <td>Project Hail Mary</td>\n",
       "      <td>Andy Weir</td>\n",
       "      <td>496</td>\n",
       "      <td>Fiction</td>\n",
       "      <td>Science Fiction</td>\n",
       "    </tr>\n",
       "    <tr>\n",
       "      <th>10</th>\n",
       "      <td><img src=\"https://m.media-amazon.com/images/I/81Hj5g9zmOL._SL1500_.jpg\" width=\"240\" ></td>\n",
       "      <td>Recursion</td>\n",
       "      <td>Blake Crouch</td>\n",
       "      <td>336</td>\n",
       "      <td>Fiction</td>\n",
       "      <td>Science Fiction</td>\n",
       "    </tr>\n",
       "    <tr>\n",
       "      <th>11</th>\n",
       "      <td><img src=\"https://m.media-amazon.com/images/I/71IzHgUHSZL._SL1500_.jpg\" width=\"240\" ></td>\n",
       "      <td>Endless Forms: The Secret World of Wasps</td>\n",
       "      <td>Seirian Sumner</td>\n",
       "      <td>408</td>\n",
       "      <td>Non-Fiction</td>\n",
       "      <td>Entomology</td>\n",
       "    </tr>\n",
       "    <tr>\n",
       "      <th>12</th>\n",
       "      <td><img src=\"https://m.media-amazon.com/images/I/81MOgObnwSL._SL1500_.jpg\" width=\"240\" ></td>\n",
       "      <td>From a Certain Point of View: The Empire Strikes Back</td>\n",
       "      <td>Seth Dickinson, et al.</td>\n",
       "      <td>576</td>\n",
       "      <td>Fiction</td>\n",
       "      <td>Science Fiction</td>\n",
       "    </tr>\n",
       "  </tbody>\n",
       "</table>"
      ],
      "text/plain": [
       "<IPython.core.display.HTML object>"
      ]
     },
     "execution_count": 7,
     "metadata": {},
     "output_type": "execute_result"
    }
   ],
   "source": [
    "# Rendering the images in the dataframe using the HTML method with formatters\n",
    "\n",
    "HTML(df_books.to_html(escape=False,formatters=dict(cover=path_to_image_html)))"
   ]
  },
  {
   "cell_type": "code",
   "execution_count": null,
   "metadata": {},
   "outputs": [],
   "source": []
  },
  {
   "cell_type": "code",
   "execution_count": 8,
   "metadata": {},
   "outputs": [],
   "source": [
    "# you can also not use formatters but create the html in the field itself\n",
    "# the cover image sizes differ so I prefer setting a defined image size like above\n",
    "# I am chosing not to run this cell since it takes up a lot of space with the huge cover image sizes. =]\n",
    "# df_books_alt = df_books.copy()\n",
    "# df_books_alt['cover'] = '<img src=\"'+ df_books_alt['cover'] + '\">'\n",
    "# HTML(df_books_alt.to_html(escape=False))"
   ]
  },
  {
   "cell_type": "markdown",
   "metadata": {},
   "source": [
    "## Filtering"
   ]
  },
  {
   "cell_type": "code",
   "execution_count": 9,
   "metadata": {},
   "outputs": [
    {
     "data": {
      "text/html": [
       "<div>\n",
       "<style scoped>\n",
       "    .dataframe tbody tr th:only-of-type {\n",
       "        vertical-align: middle;\n",
       "    }\n",
       "\n",
       "    .dataframe tbody tr th {\n",
       "        vertical-align: top;\n",
       "    }\n",
       "\n",
       "    .dataframe thead th {\n",
       "        text-align: right;\n",
       "    }\n",
       "</style>\n",
       "<table border=\"1\" class=\"dataframe\">\n",
       "  <thead>\n",
       "    <tr style=\"text-align: right;\">\n",
       "      <th></th>\n",
       "      <th>cover</th>\n",
       "      <th>title</th>\n",
       "      <th>author</th>\n",
       "      <th>pages</th>\n",
       "      <th>main_genre</th>\n",
       "      <th>sub_genre</th>\n",
       "    </tr>\n",
       "  </thead>\n",
       "  <tbody>\n",
       "    <tr>\n",
       "      <th>0</th>\n",
       "      <td>https://m.media-amazon.com/images/I/81r1q8VTWX...</td>\n",
       "      <td>Tempest Runner</td>\n",
       "      <td>Cavan Scott</td>\n",
       "      <td>624</td>\n",
       "      <td>Fiction</td>\n",
       "      <td>Science Fiction</td>\n",
       "    </tr>\n",
       "    <tr>\n",
       "      <th>1</th>\n",
       "      <td>https://m.media-amazon.com/images/I/81D0a+JREe...</td>\n",
       "      <td>Ahsoka</td>\n",
       "      <td>E.K. Johnston</td>\n",
       "      <td>384</td>\n",
       "      <td>Fiction</td>\n",
       "      <td>Science Fiction</td>\n",
       "    </tr>\n",
       "    <tr>\n",
       "      <th>4</th>\n",
       "      <td>https://images-na.ssl-images-amazon.com/images...</td>\n",
       "      <td>Darth Bane: Path of Destruction</td>\n",
       "      <td>Drew Karpyshyn</td>\n",
       "      <td>324</td>\n",
       "      <td>Fiction</td>\n",
       "      <td>Science Fiction</td>\n",
       "    </tr>\n",
       "    <tr>\n",
       "      <th>5</th>\n",
       "      <td>https://images-na.ssl-images-amazon.com/images...</td>\n",
       "      <td>Darth Bane: Rule of Two</td>\n",
       "      <td>Drew Karpyshyn</td>\n",
       "      <td>352</td>\n",
       "      <td>Fiction</td>\n",
       "      <td>Science Fiction</td>\n",
       "    </tr>\n",
       "    <tr>\n",
       "      <th>6</th>\n",
       "      <td>https://images-na.ssl-images-amazon.com/images...</td>\n",
       "      <td>Darth Bane: Dynasty of Evil</td>\n",
       "      <td>Drew Karpyshyn</td>\n",
       "      <td>336</td>\n",
       "      <td>Fiction</td>\n",
       "      <td>Science Fiction</td>\n",
       "    </tr>\n",
       "    <tr>\n",
       "      <th>7</th>\n",
       "      <td>https://m.media-amazon.com/images/I/71SRkQ-DwZ...</td>\n",
       "      <td>The Martian</td>\n",
       "      <td>Andy Weir</td>\n",
       "      <td>387</td>\n",
       "      <td>Fiction</td>\n",
       "      <td>Science Fiction</td>\n",
       "    </tr>\n",
       "    <tr>\n",
       "      <th>9</th>\n",
       "      <td>https://m.media-amazon.com/images/I/81gYjHx8Ym...</td>\n",
       "      <td>Project Hail Mary</td>\n",
       "      <td>Andy Weir</td>\n",
       "      <td>496</td>\n",
       "      <td>Fiction</td>\n",
       "      <td>Science Fiction</td>\n",
       "    </tr>\n",
       "    <tr>\n",
       "      <th>10</th>\n",
       "      <td>https://m.media-amazon.com/images/I/81Hj5g9zmO...</td>\n",
       "      <td>Recursion</td>\n",
       "      <td>Blake Crouch</td>\n",
       "      <td>336</td>\n",
       "      <td>Fiction</td>\n",
       "      <td>Science Fiction</td>\n",
       "    </tr>\n",
       "    <tr>\n",
       "      <th>12</th>\n",
       "      <td>https://m.media-amazon.com/images/I/81MOgObnwS...</td>\n",
       "      <td>From a Certain Point of View: The Empire Strik...</td>\n",
       "      <td>Seth Dickinson, et al.</td>\n",
       "      <td>576</td>\n",
       "      <td>Fiction</td>\n",
       "      <td>Science Fiction</td>\n",
       "    </tr>\n",
       "  </tbody>\n",
       "</table>\n",
       "</div>"
      ],
      "text/plain": [
       "                                                cover  \\\n",
       "0   https://m.media-amazon.com/images/I/81r1q8VTWX...   \n",
       "1   https://m.media-amazon.com/images/I/81D0a+JREe...   \n",
       "4   https://images-na.ssl-images-amazon.com/images...   \n",
       "5   https://images-na.ssl-images-amazon.com/images...   \n",
       "6   https://images-na.ssl-images-amazon.com/images...   \n",
       "7   https://m.media-amazon.com/images/I/71SRkQ-DwZ...   \n",
       "9   https://m.media-amazon.com/images/I/81gYjHx8Ym...   \n",
       "10  https://m.media-amazon.com/images/I/81Hj5g9zmO...   \n",
       "12  https://m.media-amazon.com/images/I/81MOgObnwS...   \n",
       "\n",
       "                                                title                  author  \\\n",
       "0                                      Tempest Runner             Cavan Scott   \n",
       "1                                              Ahsoka           E.K. Johnston   \n",
       "4                     Darth Bane: Path of Destruction          Drew Karpyshyn   \n",
       "5                             Darth Bane: Rule of Two          Drew Karpyshyn   \n",
       "6                         Darth Bane: Dynasty of Evil          Drew Karpyshyn   \n",
       "7                                         The Martian               Andy Weir   \n",
       "9                                   Project Hail Mary               Andy Weir   \n",
       "10                                          Recursion            Blake Crouch   \n",
       "12  From a Certain Point of View: The Empire Strik...  Seth Dickinson, et al.   \n",
       "\n",
       "    pages main_genre        sub_genre  \n",
       "0     624    Fiction  Science Fiction  \n",
       "1     384    Fiction  Science Fiction  \n",
       "4     324    Fiction  Science Fiction  \n",
       "5     352    Fiction  Science Fiction  \n",
       "6     336    Fiction  Science Fiction  \n",
       "7     387    Fiction  Science Fiction  \n",
       "9     496    Fiction  Science Fiction  \n",
       "10    336    Fiction  Science Fiction  \n",
       "12    576    Fiction  Science Fiction  "
      ]
     },
     "execution_count": 9,
     "metadata": {},
     "output_type": "execute_result"
    }
   ],
   "source": [
    "# if we wanted to filter our list of books on certain criteria we can simply do this:\n",
    "\n",
    "df_books[df_books['main_genre'] == 'Fiction']"
   ]
  },
  {
   "cell_type": "code",
   "execution_count": 10,
   "metadata": {},
   "outputs": [],
   "source": [
    "# however, we can make filtering more fun and interactive by using WIDGETS\n",
    "\n",
    "import ipywidgets as widgets\n",
    "from IPython.display import display"
   ]
  },
  {
   "cell_type": "code",
   "execution_count": 11,
   "metadata": {},
   "outputs": [],
   "source": [
    "ALL = 'ALL'\n",
    "\n",
    "def unique_sorted_values_plus_ALL(array):\n",
    "    unique = array.unique().tolist()\n",
    "    unique.sort()\n",
    "    unique.insert(0, ALL)\n",
    "    return unique"
   ]
  },
  {
   "cell_type": "code",
   "execution_count": 12,
   "metadata": {},
   "outputs": [],
   "source": [
    "def dropdown_main_genre_eventhandler(change):\n",
    "    output_main_genre.clear_output()\n",
    "    with output_main_genre:\n",
    "        if (change.new == ALL):\n",
    "            display(df_books)\n",
    "        else:\n",
    "            display(df_books[df_books.main_genre == change.new])        \n",
    "        \n",
    "dropdown_main_genre = widgets.Dropdown(options = unique_sorted_values_plus_ALL(df_books.main_genre))\n",
    "\n",
    "output_main_genre = widgets.Output()\n",
    "\n",
    "dropdown_main_genre.observe(dropdown_main_genre_eventhandler, names='value')\n",
    "\n",
    "\n",
    "def dropdown_sub_genre_eventhandler(change):\n",
    "    output_sub_genre.clear_output()\n",
    "    with output_sub_genre:\n",
    "        if (change.new == ALL):\n",
    "            display(df_books)\n",
    "        else:\n",
    "            display(df_books[df_books.sub_genre == change.new])        \n",
    "        \n",
    "dropdown_sub_genre = widgets.Dropdown(options = unique_sorted_values_plus_ALL(df_books.sub_genre))\n",
    "\n",
    "output_sub_genre = widgets.Output()\n",
    "\n",
    "dropdown_sub_genre.observe(dropdown_sub_genre_eventhandler, names='value')\n",
    "\n",
    "\n",
    "\n",
    "def dropdown_author_eventhandler(change):\n",
    "    output_author.clear_output()\n",
    "    with output_author:\n",
    "        if (change.new == ALL):\n",
    "            display(df_books)\n",
    "        else:\n",
    "            display(df_books[df_books.author == change.new])        \n",
    "        \n",
    "dropdown_author = widgets.Dropdown(options = unique_sorted_values_plus_ALL(df_books.author))\n",
    "\n",
    "output_author = widgets.Output()\n",
    "\n",
    "dropdown_author.observe(dropdown_author_eventhandler, names='value')\n",
    "\n"
   ]
  },
  {
   "cell_type": "code",
   "execution_count": 13,
   "metadata": {},
   "outputs": [
    {
     "data": {
      "application/vnd.jupyter.widget-view+json": {
       "model_id": "4db8688d238e42b0921f1f5bb9370a5e",
       "version_major": 2,
       "version_minor": 0
      },
      "text/plain": [
       "Dropdown(options=('ALL', 'Fiction', 'Non-Fiction'), value='ALL')"
      ]
     },
     "metadata": {},
     "output_type": "display_data"
    }
   ],
   "source": [
    "display(dropdown_main_genre)"
   ]
  },
  {
   "cell_type": "code",
   "execution_count": 14,
   "metadata": {},
   "outputs": [
    {
     "data": {
      "application/vnd.jupyter.widget-view+json": {
       "model_id": "081dc1f362324dc8a2eb120ef9d916f8",
       "version_major": 2,
       "version_minor": 0
      },
      "text/plain": [
       "Output()"
      ]
     },
     "metadata": {},
     "output_type": "display_data"
    }
   ],
   "source": [
    "display(output_main_genre)"
   ]
  },
  {
   "cell_type": "code",
   "execution_count": null,
   "metadata": {},
   "outputs": [],
   "source": []
  },
  {
   "cell_type": "code",
   "execution_count": 15,
   "metadata": {},
   "outputs": [
    {
     "data": {
      "application/vnd.jupyter.widget-view+json": {
       "model_id": "ef5ca5d7eb894b91bb48c02654e5284a",
       "version_major": 2,
       "version_minor": 0
      },
      "text/plain": [
       "Dropdown(options=('ALL', 'Entomology', 'History', 'Science Fiction', 'Trauma'), value='ALL')"
      ]
     },
     "metadata": {},
     "output_type": "display_data"
    }
   ],
   "source": [
    "display(dropdown_sub_genre)"
   ]
  },
  {
   "cell_type": "code",
   "execution_count": 16,
   "metadata": {},
   "outputs": [
    {
     "data": {
      "application/vnd.jupyter.widget-view+json": {
       "model_id": "ab15f71acaa046c5b9724367b484bd11",
       "version_major": 2,
       "version_minor": 0
      },
      "text/plain": [
       "Output()"
      ]
     },
     "metadata": {},
     "output_type": "display_data"
    }
   ],
   "source": [
    "display(output_sub_genre)"
   ]
  },
  {
   "cell_type": "code",
   "execution_count": null,
   "metadata": {},
   "outputs": [],
   "source": []
  },
  {
   "cell_type": "code",
   "execution_count": 17,
   "metadata": {},
   "outputs": [
    {
     "data": {
      "application/vnd.jupyter.widget-view+json": {
       "model_id": "c1ddbfa2544f47879447d1677022ee65",
       "version_major": 2,
       "version_minor": 0
      },
      "text/plain": [
       "Dropdown(options=('ALL', 'Andy Weir', 'Blake Crouch', 'Cavan Scott', 'Drew Karpyshyn', 'E.K. Johnston', 'John …"
      ]
     },
     "metadata": {},
     "output_type": "display_data"
    }
   ],
   "source": [
    "display(dropdown_author)"
   ]
  },
  {
   "cell_type": "code",
   "execution_count": 18,
   "metadata": {},
   "outputs": [
    {
     "data": {
      "application/vnd.jupyter.widget-view+json": {
       "model_id": "b9569cbafa9e47b8ae2b1a7a80523f92",
       "version_major": 2,
       "version_minor": 0
      },
      "text/plain": [
       "Output()"
      ]
     },
     "metadata": {},
     "output_type": "display_data"
    }
   ],
   "source": [
    "display(output_author)"
   ]
  },
  {
   "cell_type": "markdown",
   "metadata": {},
   "source": [
    "## Stats"
   ]
  },
  {
   "cell_type": "code",
   "execution_count": 19,
   "metadata": {},
   "outputs": [
    {
     "name": "stdout",
     "output_type": "stream",
     "text": [
      "2024: \n",
      "Total Books Read : 13 \n",
      "Total Pages Read: 5259\n"
     ]
    }
   ],
   "source": [
    "total_books = df_books['title'].count()\n",
    "total_pages = df_books['pages'].sum()\n",
    "print('2024: \\nTotal Books Read : ' + str(total_books) + ' \\nTotal Pages Read: ' + str(total_pages))\n"
   ]
  },
  {
   "cell_type": "code",
   "execution_count": 20,
   "metadata": {},
   "outputs": [],
   "source": [
    "def get_percentage_of(part, whole):\n",
    "    \"\"\"\n",
    "    This function takes two numbers and returns the percentage of the first number from the second number. \n",
    "    \"\"\"\n",
    "    result = 100 * (float(part) / float(whole))\n",
    "    # return \"{:.1%}\".format(result)\n",
    "    final = '%' + \"{0:.2f}\".format(result)\n",
    "    return final\n",
    "\n",
    "\n",
    "def get_percentage_diff(current, previous):\n",
    "    \"\"\"\n",
    "    This returns the difference between 2 numbers and returns the result with visual formating.\n",
    "    \"\"\"\n",
    "    if current == previous:\n",
    "        return '%' + \"{0:.2f}\".format(100.0)\n",
    "    try:\n",
    "        return '%' + \"{0:.2f}\".format((abs(current - previous) / previous) * 100.0)\n",
    "    except ZeroDivisionError:\n",
    "        return 0"
   ]
  },
  {
   "cell_type": "code",
   "execution_count": 21,
   "metadata": {},
   "outputs": [],
   "source": [
    "# let's make a dataframe that contains all the different yearly 'books i have read' datasets so we can compare stuffs. =]\n",
    "\n",
    "\n",
    "def create_book_stats_dataframe():\n",
    "    book_stats = []\n",
    "    \n",
    "    df_books_2019 = books_json_to_dataframe('2019')\n",
    "    df_books_2020 = books_json_to_dataframe('2020')\n",
    "    df_books_2021 = books_json_to_dataframe('2021')\n",
    "    df_books_2022 = books_json_to_dataframe('2022')\n",
    "    df_books_2023 = books_json_to_dataframe('2023')\n",
    "    df_books_2024 = books_json_to_dataframe('2024')\n",
    "    \n",
    "    \n",
    "    book_stats.append([2019, df_books_2019['title'].count(), df_books_2019['pages'].sum()])\n",
    "    book_stats.append([2020, df_books_2020['title'].count(), df_books_2020['pages'].sum()])\n",
    "    book_stats.append([2021, df_books_2021['title'].count(), df_books_2021['pages'].sum()])\n",
    "    book_stats.append([2022, df_books_2022['title'].count(), df_books_2022['pages'].sum()])\n",
    "    book_stats.append([2023, df_books_2023['title'].count(), df_books_2023['pages'].sum()])\n",
    "    book_stats.append([2024, df_books_2024['title'].count(), df_books_2024['pages'].sum()])\n",
    "    \n",
    "    df_book_stats_ = pd.DataFrame(data=book_stats, columns=['year','total_books','total_pages'])\n",
    "    \n",
    "    return df_book_stats_"
   ]
  },
  {
   "cell_type": "code",
   "execution_count": 22,
   "metadata": {},
   "outputs": [],
   "source": [
    "df_book_stats = create_book_stats_dataframe()"
   ]
  },
  {
   "cell_type": "code",
   "execution_count": 23,
   "metadata": {},
   "outputs": [],
   "source": [
    "# i want to see some percentage differences between the years\n",
    "\n",
    "df_book_stats['total_pages_perc_of_prv_yr'] = ''\n",
    "df_book_stats['total_pages_perc_diff_prv_yr'] = ''\n",
    "df_book_stats['total_books_perc_of_prv_yr'] = ''\n",
    "df_book_stats['total_books_perc_diff_prv_yr'] = ''\n",
    "\n",
    "\n",
    "\n",
    "for index, row in df_book_stats.iterrows():\n",
    "    if row['year'] == 2019:\n",
    "        pass\n",
    "    else:\n",
    "        ttlpgs = row['total_pages']\n",
    "        prev_yr = row['year'] -1\n",
    "        prev_yr_ttlpgs = df_book_stats[df_book_stats['year'] == prev_yr]['total_pages'].iloc[0]\n",
    "        perc_off = get_percentage_of(ttlpgs, prev_yr_ttlpgs)\n",
    "        perc_diff = get_percentage_diff(ttlpgs, prev_yr_ttlpgs)\n",
    "        \n",
    "        df_book_stats.at[index, 'total_pages_perc_of_prv_yr'] = perc_off\n",
    "        df_book_stats.at[index, 'total_pages_perc_diff_prv_yr'] = perc_diff\n",
    "\n",
    "        ttlbks = row['total_books']\n",
    "        \n",
    "        prev_yr_ttlbks = df_book_stats[df_book_stats['year'] == prev_yr]['total_books'].iloc[0]\n",
    "        perc_off = get_percentage_of(ttlbks, prev_yr_ttlbks)\n",
    "        perc_diff = get_percentage_diff(ttlbks, prev_yr_ttlbks)\n",
    "        \n",
    "        df_book_stats.at[index, 'total_books_perc_of_prv_yr'] = perc_off\n",
    "        df_book_stats.at[index, 'total_books_perc_diff_prv_yr'] = perc_diff\n",
    "        \n",
    "        "
   ]
  },
  {
   "cell_type": "code",
   "execution_count": 24,
   "metadata": {},
   "outputs": [
    {
     "data": {
      "text/html": [
       "<div>\n",
       "<style scoped>\n",
       "    .dataframe tbody tr th:only-of-type {\n",
       "        vertical-align: middle;\n",
       "    }\n",
       "\n",
       "    .dataframe tbody tr th {\n",
       "        vertical-align: top;\n",
       "    }\n",
       "\n",
       "    .dataframe thead th {\n",
       "        text-align: right;\n",
       "    }\n",
       "</style>\n",
       "<table border=\"1\" class=\"dataframe\">\n",
       "  <thead>\n",
       "    <tr style=\"text-align: right;\">\n",
       "      <th></th>\n",
       "      <th>year</th>\n",
       "      <th>total_books</th>\n",
       "      <th>total_pages</th>\n",
       "      <th>total_pages_perc_of_prv_yr</th>\n",
       "      <th>total_pages_perc_diff_prv_yr</th>\n",
       "      <th>total_books_perc_of_prv_yr</th>\n",
       "      <th>total_books_perc_diff_prv_yr</th>\n",
       "    </tr>\n",
       "  </thead>\n",
       "  <tbody>\n",
       "    <tr>\n",
       "      <th>0</th>\n",
       "      <td>2019</td>\n",
       "      <td>22</td>\n",
       "      <td>6719</td>\n",
       "      <td></td>\n",
       "      <td></td>\n",
       "      <td></td>\n",
       "      <td></td>\n",
       "    </tr>\n",
       "    <tr>\n",
       "      <th>1</th>\n",
       "      <td>2020</td>\n",
       "      <td>24</td>\n",
       "      <td>9801</td>\n",
       "      <td>%145.87</td>\n",
       "      <td>%45.87</td>\n",
       "      <td>%109.09</td>\n",
       "      <td>%9.09</td>\n",
       "    </tr>\n",
       "    <tr>\n",
       "      <th>2</th>\n",
       "      <td>2021</td>\n",
       "      <td>33</td>\n",
       "      <td>13780</td>\n",
       "      <td>%140.60</td>\n",
       "      <td>%40.60</td>\n",
       "      <td>%137.50</td>\n",
       "      <td>%37.50</td>\n",
       "    </tr>\n",
       "    <tr>\n",
       "      <th>3</th>\n",
       "      <td>2022</td>\n",
       "      <td>32</td>\n",
       "      <td>12939</td>\n",
       "      <td>%93.90</td>\n",
       "      <td>%6.10</td>\n",
       "      <td>%96.97</td>\n",
       "      <td>%3.03</td>\n",
       "    </tr>\n",
       "    <tr>\n",
       "      <th>4</th>\n",
       "      <td>2023</td>\n",
       "      <td>32</td>\n",
       "      <td>13558</td>\n",
       "      <td>%104.78</td>\n",
       "      <td>%4.78</td>\n",
       "      <td>%100.00</td>\n",
       "      <td>%100.00</td>\n",
       "    </tr>\n",
       "    <tr>\n",
       "      <th>5</th>\n",
       "      <td>2024</td>\n",
       "      <td>13</td>\n",
       "      <td>5259</td>\n",
       "      <td>%38.79</td>\n",
       "      <td>%61.21</td>\n",
       "      <td>%40.62</td>\n",
       "      <td>%59.38</td>\n",
       "    </tr>\n",
       "  </tbody>\n",
       "</table>\n",
       "</div>"
      ],
      "text/plain": [
       "   year  total_books  total_pages total_pages_perc_of_prv_yr  \\\n",
       "0  2019           22         6719                              \n",
       "1  2020           24         9801                    %145.87   \n",
       "2  2021           33        13780                    %140.60   \n",
       "3  2022           32        12939                     %93.90   \n",
       "4  2023           32        13558                    %104.78   \n",
       "5  2024           13         5259                     %38.79   \n",
       "\n",
       "  total_pages_perc_diff_prv_yr total_books_perc_of_prv_yr  \\\n",
       "0                                                           \n",
       "1                       %45.87                    %109.09   \n",
       "2                       %40.60                    %137.50   \n",
       "3                        %6.10                     %96.97   \n",
       "4                        %4.78                    %100.00   \n",
       "5                       %61.21                     %40.62   \n",
       "\n",
       "  total_books_perc_diff_prv_yr  \n",
       "0                               \n",
       "1                        %9.09  \n",
       "2                       %37.50  \n",
       "3                        %3.03  \n",
       "4                      %100.00  \n",
       "5                       %59.38  "
      ]
     },
     "execution_count": 24,
     "metadata": {},
     "output_type": "execute_result"
    }
   ],
   "source": [
    "df_book_stats"
   ]
  },
  {
   "cell_type": "code",
   "execution_count": 25,
   "metadata": {},
   "outputs": [],
   "source": [
    "import matplotlib.pyplot as plt\n",
    "import seaborn as sns"
   ]
  },
  {
   "cell_type": "code",
   "execution_count": 26,
   "metadata": {},
   "outputs": [],
   "source": [
    "def create_basic_barplot(df, x_value, y_value, title, x_label, y_label):\n",
    "    plt.subplots(figsize=(15, 6))\n",
    "    chart = sns.barplot(x=x_value, y=y_value, data=df, palette=sns.color_palette(\"Set1\", n_colors=df.shape[0], desat=.5), hue=x_value, legend=False)\n",
    "    chart.axhline(df[y_value].mean())\n",
    "    chart = chart.set_title(title, fontsize = 18)\n",
    "    chart = plt.xlabel(x_label, fontsize = 12)\n",
    "    chart = plt.ylabel(y_label, fontsize = 12)\n",
    "    # chart = plt.ylim(0, df[y_value].max())\n",
    "\n",
    "    return"
   ]
  },
  {
   "cell_type": "code",
   "execution_count": 27,
   "metadata": {},
   "outputs": [
    {
     "data": {
      "image/png": "[encoded data removed]",
      "text/plain": [
       "<Figure size 1500x600 with 1 Axes>"
      ]
     },
     "metadata": {},
     "output_type": "display_data"
    }
   ],
   "source": [
    "create_basic_barplot(df_book_stats[['year','total_books']],'year','total_books','Total Books Read per Year','Year','Books Read')"
   ]
  },
  {
   "cell_type": "code",
   "execution_count": 28,
   "metadata": {},
   "outputs": [
    {
     "data": {
      "image/png": "[encoded data removed]",
      "text/plain": [
       "<Figure size 1500x600 with 1 Axes>"
      ]
     },
     "metadata": {},
     "output_type": "display_data"
    }
   ],
   "source": [
    "create_basic_barplot(df_book_stats[['year','total_pages']],'year','total_pages','Total Pages Read per Year','Year','Pages Read')"
   ]
  },
  {
   "cell_type": "code",
   "execution_count": 29,
   "metadata": {},
   "outputs": [],
   "source": [
    "# let's get an author count\n",
    "df_authors = pd.DataFrame({'total' : df_books.groupby(['author'])['author'].count()}).reset_index()\n",
    "df_authors.sort_values(by='total', ascending=False, inplace=True)"
   ]
  },
  {
   "cell_type": "code",
   "execution_count": 30,
   "metadata": {},
   "outputs": [
    {
     "data": {
      "text/html": [
       "<div>\n",
       "<style scoped>\n",
       "    .dataframe tbody tr th:only-of-type {\n",
       "        vertical-align: middle;\n",
       "    }\n",
       "\n",
       "    .dataframe tbody tr th {\n",
       "        vertical-align: top;\n",
       "    }\n",
       "\n",
       "    .dataframe thead th {\n",
       "        text-align: right;\n",
       "    }\n",
       "</style>\n",
       "<table border=\"1\" class=\"dataframe\">\n",
       "  <thead>\n",
       "    <tr style=\"text-align: right;\">\n",
       "      <th></th>\n",
       "      <th>author</th>\n",
       "      <th>total</th>\n",
       "    </tr>\n",
       "  </thead>\n",
       "  <tbody>\n",
       "    <tr>\n",
       "      <th>3</th>\n",
       "      <td>Drew Karpyshyn</td>\n",
       "      <td>3</td>\n",
       "    </tr>\n",
       "    <tr>\n",
       "      <th>0</th>\n",
       "      <td>Andy Weir</td>\n",
       "      <td>2</td>\n",
       "    </tr>\n",
       "    <tr>\n",
       "      <th>5</th>\n",
       "      <td>John Kelly</td>\n",
       "      <td>2</td>\n",
       "    </tr>\n",
       "    <tr>\n",
       "      <th>1</th>\n",
       "      <td>Blake Crouch</td>\n",
       "      <td>1</td>\n",
       "    </tr>\n",
       "    <tr>\n",
       "      <th>2</th>\n",
       "      <td>Cavan Scott</td>\n",
       "      <td>1</td>\n",
       "    </tr>\n",
       "    <tr>\n",
       "      <th>4</th>\n",
       "      <td>E.K. Johnston</td>\n",
       "      <td>1</td>\n",
       "    </tr>\n",
       "    <tr>\n",
       "      <th>6</th>\n",
       "      <td>Paul Scheer</td>\n",
       "      <td>1</td>\n",
       "    </tr>\n",
       "    <tr>\n",
       "      <th>7</th>\n",
       "      <td>Seirian Sumner</td>\n",
       "      <td>1</td>\n",
       "    </tr>\n",
       "    <tr>\n",
       "      <th>8</th>\n",
       "      <td>Seth Dickinson, et al.</td>\n",
       "      <td>1</td>\n",
       "    </tr>\n",
       "  </tbody>\n",
       "</table>\n",
       "</div>"
      ],
      "text/plain": [
       "                   author  total\n",
       "3          Drew Karpyshyn      3\n",
       "0               Andy Weir      2\n",
       "5              John Kelly      2\n",
       "1            Blake Crouch      1\n",
       "2             Cavan Scott      1\n",
       "4           E.K. Johnston      1\n",
       "6             Paul Scheer      1\n",
       "7          Seirian Sumner      1\n",
       "8  Seth Dickinson, et al.      1"
      ]
     },
     "execution_count": 30,
     "metadata": {},
     "output_type": "execute_result"
    }
   ],
   "source": [
    "df_authors"
   ]
  },
  {
   "cell_type": "code",
   "execution_count": 31,
   "metadata": {},
   "outputs": [
    {
     "data": {
      "text/html": [
       "<div>\n",
       "<style scoped>\n",
       "    .dataframe tbody tr th:only-of-type {\n",
       "        vertical-align: middle;\n",
       "    }\n",
       "\n",
       "    .dataframe tbody tr th {\n",
       "        vertical-align: top;\n",
       "    }\n",
       "\n",
       "    .dataframe thead th {\n",
       "        text-align: right;\n",
       "    }\n",
       "</style>\n",
       "<table border=\"1\" class=\"dataframe\">\n",
       "  <thead>\n",
       "    <tr style=\"text-align: right;\">\n",
       "      <th></th>\n",
       "      <th>author</th>\n",
       "      <th>total</th>\n",
       "    </tr>\n",
       "  </thead>\n",
       "  <tbody>\n",
       "    <tr>\n",
       "      <th>3</th>\n",
       "      <td>Drew Karpyshyn</td>\n",
       "      <td>3</td>\n",
       "    </tr>\n",
       "    <tr>\n",
       "      <th>0</th>\n",
       "      <td>Andy Weir</td>\n",
       "      <td>2</td>\n",
       "    </tr>\n",
       "    <tr>\n",
       "      <th>5</th>\n",
       "      <td>John Kelly</td>\n",
       "      <td>2</td>\n",
       "    </tr>\n",
       "  </tbody>\n",
       "</table>\n",
       "</div>"
      ],
      "text/plain": [
       "           author  total\n",
       "3  Drew Karpyshyn      3\n",
       "0       Andy Weir      2\n",
       "5      John Kelly      2"
      ]
     },
     "execution_count": 31,
     "metadata": {},
     "output_type": "execute_result"
    }
   ],
   "source": [
    "# top 3 authors\n",
    "df_authors[:3]"
   ]
  },
  {
   "cell_type": "code",
   "execution_count": 32,
   "metadata": {},
   "outputs": [],
   "source": [
    "# we can also look at timeline, era, storyline\n",
    "\n",
    "# let's get an author count\n",
    "df_sub_genres = pd.DataFrame({'total' : df_books.groupby(['sub_genre'])['sub_genre'].count()}).reset_index()\n",
    "df_sub_genres.sort_values(by='total', ascending=False, inplace=True)\n",
    "\n",
    "df_main_genres = pd.DataFrame({'total' : df_books.groupby(['main_genre'])['main_genre'].count()}).reset_index()\n",
    "df_main_genres.sort_values(by='total', ascending=False, inplace=True)"
   ]
  },
  {
   "cell_type": "code",
   "execution_count": 33,
   "metadata": {},
   "outputs": [
    {
     "data": {
      "text/html": [
       "<div>\n",
       "<style scoped>\n",
       "    .dataframe tbody tr th:only-of-type {\n",
       "        vertical-align: middle;\n",
       "    }\n",
       "\n",
       "    .dataframe tbody tr th {\n",
       "        vertical-align: top;\n",
       "    }\n",
       "\n",
       "    .dataframe thead th {\n",
       "        text-align: right;\n",
       "    }\n",
       "</style>\n",
       "<table border=\"1\" class=\"dataframe\">\n",
       "  <thead>\n",
       "    <tr style=\"text-align: right;\">\n",
       "      <th></th>\n",
       "      <th>main_genre</th>\n",
       "      <th>total</th>\n",
       "    </tr>\n",
       "  </thead>\n",
       "  <tbody>\n",
       "    <tr>\n",
       "      <th>0</th>\n",
       "      <td>Fiction</td>\n",
       "      <td>9</td>\n",
       "    </tr>\n",
       "    <tr>\n",
       "      <th>1</th>\n",
       "      <td>Non-Fiction</td>\n",
       "      <td>4</td>\n",
       "    </tr>\n",
       "  </tbody>\n",
       "</table>\n",
       "</div>"
      ],
      "text/plain": [
       "    main_genre  total\n",
       "0      Fiction      9\n",
       "1  Non-Fiction      4"
      ]
     },
     "execution_count": 33,
     "metadata": {},
     "output_type": "execute_result"
    }
   ],
   "source": [
    "df_main_genres"
   ]
  },
  {
   "cell_type": "code",
   "execution_count": 34,
   "metadata": {},
   "outputs": [
    {
     "data": {
      "text/html": [
       "<div>\n",
       "<style scoped>\n",
       "    .dataframe tbody tr th:only-of-type {\n",
       "        vertical-align: middle;\n",
       "    }\n",
       "\n",
       "    .dataframe tbody tr th {\n",
       "        vertical-align: top;\n",
       "    }\n",
       "\n",
       "    .dataframe thead th {\n",
       "        text-align: right;\n",
       "    }\n",
       "</style>\n",
       "<table border=\"1\" class=\"dataframe\">\n",
       "  <thead>\n",
       "    <tr style=\"text-align: right;\">\n",
       "      <th></th>\n",
       "      <th>sub_genre</th>\n",
       "      <th>total</th>\n",
       "    </tr>\n",
       "  </thead>\n",
       "  <tbody>\n",
       "    <tr>\n",
       "      <th>2</th>\n",
       "      <td>Science Fiction</td>\n",
       "      <td>9</td>\n",
       "    </tr>\n",
       "    <tr>\n",
       "      <th>1</th>\n",
       "      <td>History</td>\n",
       "      <td>2</td>\n",
       "    </tr>\n",
       "    <tr>\n",
       "      <th>0</th>\n",
       "      <td>Entomology</td>\n",
       "      <td>1</td>\n",
       "    </tr>\n",
       "    <tr>\n",
       "      <th>3</th>\n",
       "      <td>Trauma</td>\n",
       "      <td>1</td>\n",
       "    </tr>\n",
       "  </tbody>\n",
       "</table>\n",
       "</div>"
      ],
      "text/plain": [
       "         sub_genre  total\n",
       "2  Science Fiction      9\n",
       "1          History      2\n",
       "0       Entomology      1\n",
       "3           Trauma      1"
      ]
     },
     "execution_count": 34,
     "metadata": {},
     "output_type": "execute_result"
    }
   ],
   "source": [
    "df_sub_genres"
   ]
  },
  {
   "cell_type": "code",
   "execution_count": null,
   "metadata": {},
   "outputs": [],
   "source": []
  },
  {
   "cell_type": "code",
   "execution_count": null,
   "metadata": {},
   "outputs": [],
   "source": []
  },
  {
   "cell_type": "code",
   "execution_count": 35,
   "metadata": {},
   "outputs": [],
   "source": [
    "# to render the dataframe as an html table\n",
    "#df_books.to_html(escape=False, formatters=dict(cover=path_to_image_html))\n",
    "\n",
    "# Saving the dataframe as a webpage\n",
    "df_books.to_html('books_i_have_read_2024.html',escape=False, formatters=dict(cover=path_to_image_html))"
   ]
  }
 ],
 "metadata": {
  "kernelspec": {
   "display_name": "Python 3 (ipykernel)",
   "language": "python",
   "name": "python3"
  },
  "language_info": {
   "codemirror_mode": {
    "name": "ipython",
    "version": 3
   },
   "file_extension": ".py",
   "mimetype": "text/x-python",
   "name": "python",
   "nbconvert_exporter": "python",
   "pygments_lexer": "ipython3",
   "version": "3.11.6"
  }
 },
 "nbformat": 4,
 "nbformat_minor": 4
}
