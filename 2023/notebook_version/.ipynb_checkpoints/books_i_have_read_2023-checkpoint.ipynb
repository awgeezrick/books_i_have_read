{
 "cells": [
  {
   "cell_type": "code",
   "execution_count": 36,
   "metadata": {},
   "outputs": [],
   "source": [
    "import pandas as pd\n",
    "import json\n",
    "from IPython.core.display import HTML"
   ]
  },
  {
   "cell_type": "code",
   "execution_count": 37,
   "metadata": {},
   "outputs": [],
   "source": [
    "def books_json_to_dataframe(yr):\n",
    "    import os\n",
    "    main_dir = os.path.dirname(os.path.dirname(os.getcwd()))\n",
    "\n",
    "    with open(main_dir + '\\\\' + yr + '\\\\notebook_version\\\\book_data.json') as f:\n",
    "      books_data = json.load(f)\n",
    "    \n",
    "    df_ = pd.DataFrame(data=books_data['books'])\n",
    "    \n",
    "    return df_"
   ]
  },
  {
   "cell_type": "code",
   "execution_count": 38,
   "metadata": {},
   "outputs": [],
   "source": [
    "df_books = books_json_to_dataframe('2023')"
   ]
  },
  {
   "cell_type": "code",
   "execution_count": 39,
   "metadata": {},
   "outputs": [],
   "source": [
    "# Converting links to html tags\n",
    "def path_to_image_html(path):\n",
    "    return '<img src=\"'+ path + '\" width=\"240\" >'\n"
   ]
  },
  {
   "cell_type": "code",
   "execution_count": null,
   "metadata": {},
   "outputs": [],
   "source": []
  },
  {
   "cell_type": "code",
   "execution_count": 40,
   "metadata": {},
   "outputs": [
    {
     "data": {
      "text/html": [
       "<div>\n",
       "<style scoped>\n",
       "    .dataframe tbody tr th:only-of-type {\n",
       "        vertical-align: middle;\n",
       "    }\n",
       "\n",
       "    .dataframe tbody tr th {\n",
       "        vertical-align: top;\n",
       "    }\n",
       "\n",
       "    .dataframe thead th {\n",
       "        text-align: right;\n",
       "    }\n",
       "</style>\n",
       "<table border=\"1\" class=\"dataframe\">\n",
       "  <thead>\n",
       "    <tr style=\"text-align: right;\">\n",
       "      <th></th>\n",
       "      <th>title</th>\n",
       "      <th>author</th>\n",
       "      <th>cover</th>\n",
       "      <th>pages</th>\n",
       "      <th>main_genre</th>\n",
       "      <th>sub_genre</th>\n",
       "    </tr>\n",
       "  </thead>\n",
       "  <tbody>\n",
       "    <tr>\n",
       "      <th>0</th>\n",
       "      <td>Phasma</td>\n",
       "      <td>Delilah S. Dawson</td>\n",
       "      <td>https://m.media-amazon.com/images/I/81xWEb3ubS...</td>\n",
       "      <td>480</td>\n",
       "      <td>Fiction</td>\n",
       "      <td>Science Fiction</td>\n",
       "    </tr>\n",
       "    <tr>\n",
       "      <th>1</th>\n",
       "      <td>Star Wars: From a Certain Point of View</td>\n",
       "      <td>Cavan Scott, et al.</td>\n",
       "      <td>https://m.media-amazon.com/images/I/81G9gUCpS9...</td>\n",
       "      <td>496</td>\n",
       "      <td>Fiction</td>\n",
       "      <td>Science Fiction</td>\n",
       "    </tr>\n",
       "    <tr>\n",
       "      <th>2</th>\n",
       "      <td>The Cabin at the End of the World</td>\n",
       "      <td>Paul Tremblay</td>\n",
       "      <td>https://m.media-amazon.com/images/I/91nA6q3LGO...</td>\n",
       "      <td>336</td>\n",
       "      <td>Fiction</td>\n",
       "      <td>Thriller</td>\n",
       "    </tr>\n",
       "    <tr>\n",
       "      <th>3</th>\n",
       "      <td>Ambush at Corellia - Book 1 of the Corellian T...</td>\n",
       "      <td>Roger MacBride Allen</td>\n",
       "      <td>https://m.media-amazon.com/images/I/91u+MlV8NT...</td>\n",
       "      <td>320</td>\n",
       "      <td>Fiction</td>\n",
       "      <td>Science Fiction</td>\n",
       "    </tr>\n",
       "  </tbody>\n",
       "</table>\n",
       "</div>"
      ],
      "text/plain": [
       "                                               title                author  \\\n",
       "0                                             Phasma     Delilah S. Dawson   \n",
       "1            Star Wars: From a Certain Point of View   Cavan Scott, et al.   \n",
       "2                  The Cabin at the End of the World         Paul Tremblay   \n",
       "3  Ambush at Corellia - Book 1 of the Corellian T...  Roger MacBride Allen   \n",
       "\n",
       "                                               cover  pages main_genre  \\\n",
       "0  https://m.media-amazon.com/images/I/81xWEb3ubS...    480    Fiction   \n",
       "1  https://m.media-amazon.com/images/I/81G9gUCpS9...    496    Fiction   \n",
       "2  https://m.media-amazon.com/images/I/91nA6q3LGO...    336    Fiction   \n",
       "3  https://m.media-amazon.com/images/I/91u+MlV8NT...    320    Fiction   \n",
       "\n",
       "         sub_genre  \n",
       "0  Science Fiction  \n",
       "1  Science Fiction  \n",
       "2         Thriller  \n",
       "3  Science Fiction  "
      ]
     },
     "execution_count": 40,
     "metadata": {},
     "output_type": "execute_result"
    }
   ],
   "source": [
    "df_books"
   ]
  },
  {
   "cell_type": "code",
   "execution_count": null,
   "metadata": {},
   "outputs": [],
   "source": []
  },
  {
   "cell_type": "code",
   "execution_count": 41,
   "metadata": {},
   "outputs": [],
   "source": [
    "# let's change the layout before moving on\n",
    "\n",
    "df_books = df_books[['cover','title','author','pages','main_genre','sub_genre']]"
   ]
  },
  {
   "cell_type": "code",
   "execution_count": 42,
   "metadata": {
    "scrolled": false
   },
   "outputs": [
    {
     "data": {
      "text/html": [
       "<table border=\"1\" class=\"dataframe\">\n",
       "  <thead>\n",
       "    <tr style=\"text-align: right;\">\n",
       "      <th></th>\n",
       "      <th>cover</th>\n",
       "      <th>title</th>\n",
       "      <th>author</th>\n",
       "      <th>pages</th>\n",
       "      <th>main_genre</th>\n",
       "      <th>sub_genre</th>\n",
       "    </tr>\n",
       "  </thead>\n",
       "  <tbody>\n",
       "    <tr>\n",
       "      <th>0</th>\n",
       "      <td><img src=\"https://m.media-amazon.com/images/I/81xWEb3ubSL.jpg\" width=\"240\" ></td>\n",
       "      <td>Phasma</td>\n",
       "      <td>Delilah S. Dawson</td>\n",
       "      <td>480</td>\n",
       "      <td>Fiction</td>\n",
       "      <td>Science Fiction</td>\n",
       "    </tr>\n",
       "    <tr>\n",
       "      <th>1</th>\n",
       "      <td><img src=\"https://m.media-amazon.com/images/I/81G9gUCpS9L.jpg\" width=\"240\" ></td>\n",
       "      <td>Star Wars: From a Certain Point of View</td>\n",
       "      <td>Cavan Scott, et al.</td>\n",
       "      <td>496</td>\n",
       "      <td>Fiction</td>\n",
       "      <td>Science Fiction</td>\n",
       "    </tr>\n",
       "    <tr>\n",
       "      <th>2</th>\n",
       "      <td><img src=\"https://m.media-amazon.com/images/I/91nA6q3LGOL.jpg\" width=\"240\" ></td>\n",
       "      <td>The Cabin at the End of the World</td>\n",
       "      <td>Paul Tremblay</td>\n",
       "      <td>336</td>\n",
       "      <td>Fiction</td>\n",
       "      <td>Thriller</td>\n",
       "    </tr>\n",
       "    <tr>\n",
       "      <th>3</th>\n",
       "      <td><img src=\"https://m.media-amazon.com/images/I/91u+MlV8NTL.jpg\" width=\"240\" ></td>\n",
       "      <td>Ambush at Corellia - Book 1 of the Corellian Triology</td>\n",
       "      <td>Roger MacBride Allen</td>\n",
       "      <td>320</td>\n",
       "      <td>Fiction</td>\n",
       "      <td>Science Fiction</td>\n",
       "    </tr>\n",
       "  </tbody>\n",
       "</table>"
      ],
      "text/plain": [
       "<IPython.core.display.HTML object>"
      ]
     },
     "execution_count": 42,
     "metadata": {},
     "output_type": "execute_result"
    }
   ],
   "source": [
    "# Rendering the images in the dataframe using the HTML method with formatters\n",
    "\n",
    "HTML(df_books.to_html(escape=False,formatters=dict(cover=path_to_image_html)))"
   ]
  },
  {
   "cell_type": "code",
   "execution_count": null,
   "metadata": {},
   "outputs": [],
   "source": []
  },
  {
   "cell_type": "code",
   "execution_count": 43,
   "metadata": {},
   "outputs": [],
   "source": [
    "# you can also not use formatters but create the html in the field itself\n",
    "# the cover image sizes differ so I prefer setting a defined image size like above\n",
    "# I am chosing not to run this cell since it takes up a lot of space with the huge cover image sizes. =]\n",
    "# df_books_alt = df_books.copy()\n",
    "# df_books_alt['cover'] = '<img src=\"'+ df_books_alt['cover'] + '\">'\n",
    "# HTML(df_books_alt.to_html(escape=False))"
   ]
  },
  {
   "cell_type": "markdown",
   "metadata": {},
   "source": [
    "## Filtering"
   ]
  },
  {
   "cell_type": "code",
   "execution_count": 44,
   "metadata": {},
   "outputs": [
    {
     "data": {
      "text/html": [
       "<div>\n",
       "<style scoped>\n",
       "    .dataframe tbody tr th:only-of-type {\n",
       "        vertical-align: middle;\n",
       "    }\n",
       "\n",
       "    .dataframe tbody tr th {\n",
       "        vertical-align: top;\n",
       "    }\n",
       "\n",
       "    .dataframe thead th {\n",
       "        text-align: right;\n",
       "    }\n",
       "</style>\n",
       "<table border=\"1\" class=\"dataframe\">\n",
       "  <thead>\n",
       "    <tr style=\"text-align: right;\">\n",
       "      <th></th>\n",
       "      <th>cover</th>\n",
       "      <th>title</th>\n",
       "      <th>author</th>\n",
       "      <th>pages</th>\n",
       "      <th>main_genre</th>\n",
       "      <th>sub_genre</th>\n",
       "    </tr>\n",
       "  </thead>\n",
       "  <tbody>\n",
       "    <tr>\n",
       "      <th>0</th>\n",
       "      <td>https://m.media-amazon.com/images/I/81xWEb3ubS...</td>\n",
       "      <td>Phasma</td>\n",
       "      <td>Delilah S. Dawson</td>\n",
       "      <td>480</td>\n",
       "      <td>Fiction</td>\n",
       "      <td>Science Fiction</td>\n",
       "    </tr>\n",
       "    <tr>\n",
       "      <th>1</th>\n",
       "      <td>https://m.media-amazon.com/images/I/81G9gUCpS9...</td>\n",
       "      <td>Star Wars: From a Certain Point of View</td>\n",
       "      <td>Cavan Scott, et al.</td>\n",
       "      <td>496</td>\n",
       "      <td>Fiction</td>\n",
       "      <td>Science Fiction</td>\n",
       "    </tr>\n",
       "    <tr>\n",
       "      <th>2</th>\n",
       "      <td>https://m.media-amazon.com/images/I/91nA6q3LGO...</td>\n",
       "      <td>The Cabin at the End of the World</td>\n",
       "      <td>Paul Tremblay</td>\n",
       "      <td>336</td>\n",
       "      <td>Fiction</td>\n",
       "      <td>Thriller</td>\n",
       "    </tr>\n",
       "    <tr>\n",
       "      <th>3</th>\n",
       "      <td>https://m.media-amazon.com/images/I/91u+MlV8NT...</td>\n",
       "      <td>Ambush at Corellia - Book 1 of the Corellian T...</td>\n",
       "      <td>Roger MacBride Allen</td>\n",
       "      <td>320</td>\n",
       "      <td>Fiction</td>\n",
       "      <td>Science Fiction</td>\n",
       "    </tr>\n",
       "  </tbody>\n",
       "</table>\n",
       "</div>"
      ],
      "text/plain": [
       "                                               cover  \\\n",
       "0  https://m.media-amazon.com/images/I/81xWEb3ubS...   \n",
       "1  https://m.media-amazon.com/images/I/81G9gUCpS9...   \n",
       "2  https://m.media-amazon.com/images/I/91nA6q3LGO...   \n",
       "3  https://m.media-amazon.com/images/I/91u+MlV8NT...   \n",
       "\n",
       "                                               title                author  \\\n",
       "0                                             Phasma     Delilah S. Dawson   \n",
       "1            Star Wars: From a Certain Point of View   Cavan Scott, et al.   \n",
       "2                  The Cabin at the End of the World         Paul Tremblay   \n",
       "3  Ambush at Corellia - Book 1 of the Corellian T...  Roger MacBride Allen   \n",
       "\n",
       "   pages main_genre        sub_genre  \n",
       "0    480    Fiction  Science Fiction  \n",
       "1    496    Fiction  Science Fiction  \n",
       "2    336    Fiction         Thriller  \n",
       "3    320    Fiction  Science Fiction  "
      ]
     },
     "execution_count": 44,
     "metadata": {},
     "output_type": "execute_result"
    }
   ],
   "source": [
    "# if we wanted to filter our list of books on certain criteria we can simply do this:\n",
    "\n",
    "df_books[df_books['main_genre'] == 'Fiction']"
   ]
  },
  {
   "cell_type": "code",
   "execution_count": 45,
   "metadata": {},
   "outputs": [],
   "source": [
    "# however, we can make filtering more fun and interactive by using WIDGETS\n",
    "\n",
    "import ipywidgets as widgets\n",
    "from IPython.display import display"
   ]
  },
  {
   "cell_type": "code",
   "execution_count": 46,
   "metadata": {},
   "outputs": [],
   "source": [
    "ALL = 'ALL'\n",
    "\n",
    "def unique_sorted_values_plus_ALL(array):\n",
    "    unique = array.unique().tolist()\n",
    "    unique.sort()\n",
    "    unique.insert(0, ALL)\n",
    "    return unique"
   ]
  },
  {
   "cell_type": "code",
   "execution_count": 47,
   "metadata": {},
   "outputs": [],
   "source": [
    "def dropdown_main_genre_eventhandler(change):\n",
    "    output_main_genre.clear_output()\n",
    "    with output_main_genre:\n",
    "        if (change.new == ALL):\n",
    "            display(df_books)\n",
    "        else:\n",
    "            display(df_books[df_books.main_genre == change.new])        \n",
    "        \n",
    "dropdown_main_genre = widgets.Dropdown(options = unique_sorted_values_plus_ALL(df_books.main_genre))\n",
    "\n",
    "output_main_genre = widgets.Output()\n",
    "\n",
    "dropdown_main_genre.observe(dropdown_main_genre_eventhandler, names='value')\n",
    "\n",
    "\n",
    "def dropdown_sub_genre_eventhandler(change):\n",
    "    output_sub_genre.clear_output()\n",
    "    with output_sub_genre:\n",
    "        if (change.new == ALL):\n",
    "            display(df_books)\n",
    "        else:\n",
    "            display(df_books[df_books.sub_genre == change.new])        \n",
    "        \n",
    "dropdown_sub_genre = widgets.Dropdown(options = unique_sorted_values_plus_ALL(df_books.sub_genre))\n",
    "\n",
    "output_sub_genre = widgets.Output()\n",
    "\n",
    "dropdown_sub_genre.observe(dropdown_sub_genre_eventhandler, names='value')\n",
    "\n",
    "\n",
    "\n",
    "def dropdown_author_eventhandler(change):\n",
    "    output_author.clear_output()\n",
    "    with output_author:\n",
    "        if (change.new == ALL):\n",
    "            display(df_books)\n",
    "        else:\n",
    "            display(df_books[df_books.author == change.new])        \n",
    "        \n",
    "dropdown_author = widgets.Dropdown(options = unique_sorted_values_plus_ALL(df_books.author))\n",
    "\n",
    "output_author = widgets.Output()\n",
    "\n",
    "dropdown_author.observe(dropdown_author_eventhandler, names='value')\n",
    "\n"
   ]
  },
  {
   "cell_type": "code",
   "execution_count": 48,
   "metadata": {},
   "outputs": [
    {
     "data": {
      "application/vnd.jupyter.widget-view+json": {
       "model_id": "5805297c940146d9977655ffa8d91f33",
       "version_major": 2,
       "version_minor": 0
      },
      "text/plain": [
       "Dropdown(options=('ALL', 'Fiction'), value='ALL')"
      ]
     },
     "metadata": {},
     "output_type": "display_data"
    }
   ],
   "source": [
    "display(dropdown_main_genre)"
   ]
  },
  {
   "cell_type": "code",
   "execution_count": 49,
   "metadata": {},
   "outputs": [
    {
     "data": {
      "application/vnd.jupyter.widget-view+json": {
       "model_id": "7a723836fcc54c7186c17f4f167af434",
       "version_major": 2,
       "version_minor": 0
      },
      "text/plain": [
       "Output()"
      ]
     },
     "metadata": {},
     "output_type": "display_data"
    }
   ],
   "source": [
    "display(output_main_genre)"
   ]
  },
  {
   "cell_type": "code",
   "execution_count": null,
   "metadata": {},
   "outputs": [],
   "source": []
  },
  {
   "cell_type": "code",
   "execution_count": 50,
   "metadata": {},
   "outputs": [
    {
     "data": {
      "application/vnd.jupyter.widget-view+json": {
       "model_id": "adf8341b2b5c48d29404aa3f6b36df8a",
       "version_major": 2,
       "version_minor": 0
      },
      "text/plain": [
       "Dropdown(options=('ALL', 'Science Fiction', 'Thriller'), value='ALL')"
      ]
     },
     "metadata": {},
     "output_type": "display_data"
    }
   ],
   "source": [
    "display(dropdown_sub_genre)"
   ]
  },
  {
   "cell_type": "code",
   "execution_count": 51,
   "metadata": {},
   "outputs": [
    {
     "data": {
      "application/vnd.jupyter.widget-view+json": {
       "model_id": "199f7c7d424044f5b8f457f3bc3f9a99",
       "version_major": 2,
       "version_minor": 0
      },
      "text/plain": [
       "Output()"
      ]
     },
     "metadata": {},
     "output_type": "display_data"
    }
   ],
   "source": [
    "display(output_sub_genre)"
   ]
  },
  {
   "cell_type": "code",
   "execution_count": null,
   "metadata": {},
   "outputs": [],
   "source": []
  },
  {
   "cell_type": "code",
   "execution_count": 52,
   "metadata": {},
   "outputs": [
    {
     "data": {
      "application/vnd.jupyter.widget-view+json": {
       "model_id": "232b7c6e79de4fc1a415e215f93057d4",
       "version_major": 2,
       "version_minor": 0
      },
      "text/plain": [
       "Dropdown(options=('ALL', 'Cavan Scott, et al.', 'Delilah S. Dawson', 'Paul Tremblay', 'Roger MacBride Allen'),…"
      ]
     },
     "metadata": {},
     "output_type": "display_data"
    }
   ],
   "source": [
    "display(dropdown_author)"
   ]
  },
  {
   "cell_type": "code",
   "execution_count": 53,
   "metadata": {},
   "outputs": [
    {
     "data": {
      "application/vnd.jupyter.widget-view+json": {
       "model_id": "cc6c6abd394547d5b855b278ae4c5200",
       "version_major": 2,
       "version_minor": 0
      },
      "text/plain": [
       "Output()"
      ]
     },
     "metadata": {},
     "output_type": "display_data"
    }
   ],
   "source": [
    "display(output_author)"
   ]
  },
  {
   "cell_type": "markdown",
   "metadata": {},
   "source": [
    "## Stats"
   ]
  },
  {
   "cell_type": "code",
   "execution_count": 54,
   "metadata": {},
   "outputs": [
    {
     "name": "stdout",
     "output_type": "stream",
     "text": [
      "2023: \n",
      "Total Books Read : 4 \n",
      "Total Pages Read: 1632\n"
     ]
    }
   ],
   "source": [
    "total_books = df_books['title'].count()\n",
    "total_pages = df_books['pages'].sum()\n",
    "print('2023: \\nTotal Books Read : ' + str(total_books) + ' \\nTotal Pages Read: ' + str(total_pages))\n"
   ]
  },
  {
   "cell_type": "code",
   "execution_count": 55,
   "metadata": {},
   "outputs": [],
   "source": [
    "def get_percentage_of(part, whole):\n",
    "    \"\"\"\n",
    "    This function takes two numbers and returns the percentage of the first number from the second number. \n",
    "    \"\"\"\n",
    "    result = 100 * (float(part) / float(whole))\n",
    "    # return \"{:.1%}\".format(result)\n",
    "    final = '%' + \"{0:.2f}\".format(result)\n",
    "    return final\n",
    "\n",
    "\n",
    "def get_percentage_diff(current, previous):\n",
    "    \"\"\"\n",
    "    This returns the difference between 2 numbers and returns the result with visual formating.\n",
    "    \"\"\"\n",
    "    if current == previous:\n",
    "        return '%' + \"{0:.2f}\".format(100.0)\n",
    "    try:\n",
    "        return '%' + \"{0:.2f}\".format((abs(current - previous) / previous) * 100.0)\n",
    "    except ZeroDivisionError:\n",
    "        return 0"
   ]
  },
  {
   "cell_type": "code",
   "execution_count": 56,
   "metadata": {},
   "outputs": [],
   "source": [
    "# let's make a dataframe that contains all the different yearly 'books i have read' datasets so we can compare stuffs. =]\n",
    "\n",
    "\n",
    "def create_book_stats_dataframe():\n",
    "    book_stats = []\n",
    "    \n",
    "    df_books_2019 = books_json_to_dataframe('2019')\n",
    "    df_books_2020 = books_json_to_dataframe('2020')\n",
    "    df_books_2021 = books_json_to_dataframe('2021')\n",
    "    df_books_2022 = books_json_to_dataframe('2022')\n",
    "    df_books_2023 = books_json_to_dataframe('2023')\n",
    "    \n",
    "    \n",
    "    book_stats.append([2019, df_books_2019['title'].count(), df_books_2019['pages'].sum()])\n",
    "    book_stats.append([2020, df_books_2020['title'].count(), df_books_2020['pages'].sum()])\n",
    "    book_stats.append([2021, df_books_2021['title'].count(), df_books_2021['pages'].sum()])\n",
    "    book_stats.append([2022, df_books_2022['title'].count(), df_books_2022['pages'].sum()])\n",
    "    book_stats.append([2023, df_books_2023['title'].count(), df_books_2023['pages'].sum()])\n",
    "    \n",
    "    df_book_stats_ = pd.DataFrame(data=book_stats, columns=['year','total_books','total_pages'])\n",
    "    \n",
    "    return df_book_stats_"
   ]
  },
  {
   "cell_type": "code",
   "execution_count": 57,
   "metadata": {},
   "outputs": [],
   "source": [
    "df_book_stats = create_book_stats_dataframe()"
   ]
  },
  {
   "cell_type": "code",
   "execution_count": 58,
   "metadata": {},
   "outputs": [],
   "source": [
    "# i want to see some percentage differences between the years\n",
    "\n",
    "df_book_stats['total_pages_perc_of_prv_yr'] = ''\n",
    "df_book_stats['total_pages_perc_diff_prv_yr'] = ''\n",
    "df_book_stats['total_books_perc_of_prv_yr'] = ''\n",
    "df_book_stats['total_books_perc_diff_prv_yr'] = ''\n",
    "\n",
    "\n",
    "\n",
    "for index, row in df_book_stats.iterrows():\n",
    "    if row['year'] == 2019:\n",
    "        pass\n",
    "    else:\n",
    "        ttlpgs = row['total_pages']\n",
    "        prev_yr = row['year'] -1\n",
    "        prev_yr_ttlpgs = df_book_stats[df_book_stats['year'] == prev_yr]['total_pages'].iloc[0]\n",
    "        perc_off = get_percentage_of(ttlpgs, prev_yr_ttlpgs)\n",
    "        perc_diff = get_percentage_diff(ttlpgs, prev_yr_ttlpgs)\n",
    "        \n",
    "        df_book_stats.at[index, 'total_pages_perc_of_prv_yr'] = perc_off\n",
    "        df_book_stats.at[index, 'total_pages_perc_diff_prv_yr'] = perc_diff\n",
    "\n",
    "        ttlbks = row['total_books']\n",
    "        \n",
    "        prev_yr_ttlbks = df_book_stats[df_book_stats['year'] == prev_yr]['total_books'].iloc[0]\n",
    "        perc_off = get_percentage_of(ttlbks, prev_yr_ttlbks)\n",
    "        perc_diff = get_percentage_diff(ttlbks, prev_yr_ttlbks)\n",
    "        \n",
    "        df_book_stats.at[index, 'total_books_perc_of_prv_yr'] = perc_off\n",
    "        df_book_stats.at[index, 'total_books_perc_diff_prv_yr'] = perc_diff\n",
    "        \n",
    "        "
   ]
  },
  {
   "cell_type": "code",
   "execution_count": 59,
   "metadata": {},
   "outputs": [
    {
     "data": {
      "text/html": [
       "<div>\n",
       "<style scoped>\n",
       "    .dataframe tbody tr th:only-of-type {\n",
       "        vertical-align: middle;\n",
       "    }\n",
       "\n",
       "    .dataframe tbody tr th {\n",
       "        vertical-align: top;\n",
       "    }\n",
       "\n",
       "    .dataframe thead th {\n",
       "        text-align: right;\n",
       "    }\n",
       "</style>\n",
       "<table border=\"1\" class=\"dataframe\">\n",
       "  <thead>\n",
       "    <tr style=\"text-align: right;\">\n",
       "      <th></th>\n",
       "      <th>year</th>\n",
       "      <th>total_books</th>\n",
       "      <th>total_pages</th>\n",
       "      <th>total_pages_perc_of_prv_yr</th>\n",
       "      <th>total_pages_perc_diff_prv_yr</th>\n",
       "      <th>total_books_perc_of_prv_yr</th>\n",
       "      <th>total_books_perc_diff_prv_yr</th>\n",
       "    </tr>\n",
       "  </thead>\n",
       "  <tbody>\n",
       "    <tr>\n",
       "      <th>0</th>\n",
       "      <td>2019</td>\n",
       "      <td>22</td>\n",
       "      <td>6719</td>\n",
       "      <td></td>\n",
       "      <td></td>\n",
       "      <td></td>\n",
       "      <td></td>\n",
       "    </tr>\n",
       "    <tr>\n",
       "      <th>1</th>\n",
       "      <td>2020</td>\n",
       "      <td>24</td>\n",
       "      <td>9801</td>\n",
       "      <td>%145.87</td>\n",
       "      <td>%45.87</td>\n",
       "      <td>%109.09</td>\n",
       "      <td>%9.09</td>\n",
       "    </tr>\n",
       "    <tr>\n",
       "      <th>2</th>\n",
       "      <td>2021</td>\n",
       "      <td>33</td>\n",
       "      <td>13780</td>\n",
       "      <td>%140.60</td>\n",
       "      <td>%40.60</td>\n",
       "      <td>%137.50</td>\n",
       "      <td>%37.50</td>\n",
       "    </tr>\n",
       "    <tr>\n",
       "      <th>3</th>\n",
       "      <td>2022</td>\n",
       "      <td>32</td>\n",
       "      <td>12939</td>\n",
       "      <td>%93.90</td>\n",
       "      <td>%6.10</td>\n",
       "      <td>%96.97</td>\n",
       "      <td>%3.03</td>\n",
       "    </tr>\n",
       "    <tr>\n",
       "      <th>4</th>\n",
       "      <td>2023</td>\n",
       "      <td>4</td>\n",
       "      <td>1632</td>\n",
       "      <td>%12.61</td>\n",
       "      <td>%87.39</td>\n",
       "      <td>%12.50</td>\n",
       "      <td>%87.50</td>\n",
       "    </tr>\n",
       "  </tbody>\n",
       "</table>\n",
       "</div>"
      ],
      "text/plain": [
       "   year  total_books  total_pages total_pages_perc_of_prv_yr  \\\n",
       "0  2019           22         6719                              \n",
       "1  2020           24         9801                    %145.87   \n",
       "2  2021           33        13780                    %140.60   \n",
       "3  2022           32        12939                     %93.90   \n",
       "4  2023            4         1632                     %12.61   \n",
       "\n",
       "  total_pages_perc_diff_prv_yr total_books_perc_of_prv_yr  \\\n",
       "0                                                           \n",
       "1                       %45.87                    %109.09   \n",
       "2                       %40.60                    %137.50   \n",
       "3                        %6.10                     %96.97   \n",
       "4                       %87.39                     %12.50   \n",
       "\n",
       "  total_books_perc_diff_prv_yr  \n",
       "0                               \n",
       "1                        %9.09  \n",
       "2                       %37.50  \n",
       "3                        %3.03  \n",
       "4                       %87.50  "
      ]
     },
     "execution_count": 59,
     "metadata": {},
     "output_type": "execute_result"
    }
   ],
   "source": [
    "df_book_stats"
   ]
  },
  {
   "cell_type": "code",
   "execution_count": 60,
   "metadata": {},
   "outputs": [],
   "source": [
    "import matplotlib.pyplot as plt\n",
    "import seaborn as sns"
   ]
  },
  {
   "cell_type": "code",
   "execution_count": 61,
   "metadata": {},
   "outputs": [],
   "source": [
    "def create_basic_barplot(df, x_value, y_value, title, x_label, y_label):\n",
    "    plt.subplots(figsize=(15, 6))\n",
    "    chart = sns.barplot(x=x_value, y=y_value, data=df, palette=sns.color_palette(\"Set1\", n_colors=8, desat=.5))\n",
    "    chart.axhline(df[y_value].mean())\n",
    "    chart = chart.set_title(title, fontsize = 18)\n",
    "    chart = plt.xlabel(x_label, fontsize = 12)\n",
    "    chart = plt.ylabel(y_label, fontsize = 12)\n",
    "    # chart = plt.ylim(0, df[y_value].max())\n",
    "\n",
    "    return"
   ]
  },
  {
   "cell_type": "code",
   "execution_count": 62,
   "metadata": {},
   "outputs": [
    {
     "data": {
      "image/png": "[encoded data removed]",
      "text/plain": [
       "<Figure size 1080x432 with 1 Axes>"
      ]
     },
     "metadata": {
      "needs_background": "light"
     },
     "output_type": "display_data"
    }
   ],
   "source": [
    "create_basic_barplot(df_book_stats[['year','total_books']],'year','total_books','Total Books Read per Year','Year','Books Read')"
   ]
  },
  {
   "cell_type": "code",
   "execution_count": 63,
   "metadata": {},
   "outputs": [
    {
     "data": {
      "image/png": "[encoded data removed]",
      "text/plain": [
       "<Figure size 1080x432 with 1 Axes>"
      ]
     },
     "metadata": {
      "needs_background": "light"
     },
     "output_type": "display_data"
    }
   ],
   "source": [
    "create_basic_barplot(df_book_stats[['year','total_pages']],'year','total_pages','Total Pages Read per Year','Year','Pages Read')"
   ]
  },
  {
   "cell_type": "code",
   "execution_count": 64,
   "metadata": {},
   "outputs": [],
   "source": [
    "# let's get an author count\n",
    "df_authors = pd.DataFrame({'total' : df_books.groupby(['author'])['author'].count()}).reset_index()\n",
    "df_authors.sort_values(by='total', ascending=False, inplace=True)"
   ]
  },
  {
   "cell_type": "code",
   "execution_count": 65,
   "metadata": {},
   "outputs": [
    {
     "data": {
      "text/html": [
       "<div>\n",
       "<style scoped>\n",
       "    .dataframe tbody tr th:only-of-type {\n",
       "        vertical-align: middle;\n",
       "    }\n",
       "\n",
       "    .dataframe tbody tr th {\n",
       "        vertical-align: top;\n",
       "    }\n",
       "\n",
       "    .dataframe thead th {\n",
       "        text-align: right;\n",
       "    }\n",
       "</style>\n",
       "<table border=\"1\" class=\"dataframe\">\n",
       "  <thead>\n",
       "    <tr style=\"text-align: right;\">\n",
       "      <th></th>\n",
       "      <th>author</th>\n",
       "      <th>total</th>\n",
       "    </tr>\n",
       "  </thead>\n",
       "  <tbody>\n",
       "    <tr>\n",
       "      <th>0</th>\n",
       "      <td>Cavan Scott, et al.</td>\n",
       "      <td>1</td>\n",
       "    </tr>\n",
       "    <tr>\n",
       "      <th>1</th>\n",
       "      <td>Delilah S. Dawson</td>\n",
       "      <td>1</td>\n",
       "    </tr>\n",
       "    <tr>\n",
       "      <th>2</th>\n",
       "      <td>Paul Tremblay</td>\n",
       "      <td>1</td>\n",
       "    </tr>\n",
       "    <tr>\n",
       "      <th>3</th>\n",
       "      <td>Roger MacBride Allen</td>\n",
       "      <td>1</td>\n",
       "    </tr>\n",
       "  </tbody>\n",
       "</table>\n",
       "</div>"
      ],
      "text/plain": [
       "                 author  total\n",
       "0   Cavan Scott, et al.      1\n",
       "1     Delilah S. Dawson      1\n",
       "2         Paul Tremblay      1\n",
       "3  Roger MacBride Allen      1"
      ]
     },
     "execution_count": 65,
     "metadata": {},
     "output_type": "execute_result"
    }
   ],
   "source": [
    "df_authors"
   ]
  },
  {
   "cell_type": "code",
   "execution_count": 66,
   "metadata": {},
   "outputs": [
    {
     "data": {
      "text/html": [
       "<div>\n",
       "<style scoped>\n",
       "    .dataframe tbody tr th:only-of-type {\n",
       "        vertical-align: middle;\n",
       "    }\n",
       "\n",
       "    .dataframe tbody tr th {\n",
       "        vertical-align: top;\n",
       "    }\n",
       "\n",
       "    .dataframe thead th {\n",
       "        text-align: right;\n",
       "    }\n",
       "</style>\n",
       "<table border=\"1\" class=\"dataframe\">\n",
       "  <thead>\n",
       "    <tr style=\"text-align: right;\">\n",
       "      <th></th>\n",
       "      <th>author</th>\n",
       "      <th>total</th>\n",
       "    </tr>\n",
       "  </thead>\n",
       "  <tbody>\n",
       "    <tr>\n",
       "      <th>0</th>\n",
       "      <td>Cavan Scott, et al.</td>\n",
       "      <td>1</td>\n",
       "    </tr>\n",
       "    <tr>\n",
       "      <th>1</th>\n",
       "      <td>Delilah S. Dawson</td>\n",
       "      <td>1</td>\n",
       "    </tr>\n",
       "    <tr>\n",
       "      <th>2</th>\n",
       "      <td>Paul Tremblay</td>\n",
       "      <td>1</td>\n",
       "    </tr>\n",
       "  </tbody>\n",
       "</table>\n",
       "</div>"
      ],
      "text/plain": [
       "                author  total\n",
       "0  Cavan Scott, et al.      1\n",
       "1    Delilah S. Dawson      1\n",
       "2        Paul Tremblay      1"
      ]
     },
     "execution_count": 66,
     "metadata": {},
     "output_type": "execute_result"
    }
   ],
   "source": [
    "# top 3 authors\n",
    "df_authors[:3]"
   ]
  },
  {
   "cell_type": "code",
   "execution_count": 67,
   "metadata": {},
   "outputs": [],
   "source": [
    "# we can also look at timeline, era, storyline\n",
    "\n",
    "# let's get an author count\n",
    "df_sub_genres = pd.DataFrame({'total' : df_books.groupby(['sub_genre'])['sub_genre'].count()}).reset_index()\n",
    "df_sub_genres.sort_values(by='total', ascending=False, inplace=True)\n",
    "\n",
    "df_main_genres = pd.DataFrame({'total' : df_books.groupby(['main_genre'])['main_genre'].count()}).reset_index()\n",
    "df_main_genres.sort_values(by='total', ascending=False, inplace=True)"
   ]
  },
  {
   "cell_type": "code",
   "execution_count": 68,
   "metadata": {},
   "outputs": [
    {
     "data": {
      "text/html": [
       "<div>\n",
       "<style scoped>\n",
       "    .dataframe tbody tr th:only-of-type {\n",
       "        vertical-align: middle;\n",
       "    }\n",
       "\n",
       "    .dataframe tbody tr th {\n",
       "        vertical-align: top;\n",
       "    }\n",
       "\n",
       "    .dataframe thead th {\n",
       "        text-align: right;\n",
       "    }\n",
       "</style>\n",
       "<table border=\"1\" class=\"dataframe\">\n",
       "  <thead>\n",
       "    <tr style=\"text-align: right;\">\n",
       "      <th></th>\n",
       "      <th>main_genre</th>\n",
       "      <th>total</th>\n",
       "    </tr>\n",
       "  </thead>\n",
       "  <tbody>\n",
       "    <tr>\n",
       "      <th>0</th>\n",
       "      <td>Fiction</td>\n",
       "      <td>4</td>\n",
       "    </tr>\n",
       "  </tbody>\n",
       "</table>\n",
       "</div>"
      ],
      "text/plain": [
       "  main_genre  total\n",
       "0    Fiction      4"
      ]
     },
     "execution_count": 68,
     "metadata": {},
     "output_type": "execute_result"
    }
   ],
   "source": [
    "df_main_genres"
   ]
  },
  {
   "cell_type": "code",
   "execution_count": 69,
   "metadata": {},
   "outputs": [
    {
     "data": {
      "text/html": [
       "<div>\n",
       "<style scoped>\n",
       "    .dataframe tbody tr th:only-of-type {\n",
       "        vertical-align: middle;\n",
       "    }\n",
       "\n",
       "    .dataframe tbody tr th {\n",
       "        vertical-align: top;\n",
       "    }\n",
       "\n",
       "    .dataframe thead th {\n",
       "        text-align: right;\n",
       "    }\n",
       "</style>\n",
       "<table border=\"1\" class=\"dataframe\">\n",
       "  <thead>\n",
       "    <tr style=\"text-align: right;\">\n",
       "      <th></th>\n",
       "      <th>sub_genre</th>\n",
       "      <th>total</th>\n",
       "    </tr>\n",
       "  </thead>\n",
       "  <tbody>\n",
       "    <tr>\n",
       "      <th>0</th>\n",
       "      <td>Science Fiction</td>\n",
       "      <td>3</td>\n",
       "    </tr>\n",
       "    <tr>\n",
       "      <th>1</th>\n",
       "      <td>Thriller</td>\n",
       "      <td>1</td>\n",
       "    </tr>\n",
       "  </tbody>\n",
       "</table>\n",
       "</div>"
      ],
      "text/plain": [
       "         sub_genre  total\n",
       "0  Science Fiction      3\n",
       "1         Thriller      1"
      ]
     },
     "execution_count": 69,
     "metadata": {},
     "output_type": "execute_result"
    }
   ],
   "source": [
    "df_sub_genres"
   ]
  },
  {
   "cell_type": "code",
   "execution_count": null,
   "metadata": {},
   "outputs": [],
   "source": []
  },
  {
   "cell_type": "code",
   "execution_count": null,
   "metadata": {},
   "outputs": [],
   "source": []
  },
  {
   "cell_type": "code",
   "execution_count": 70,
   "metadata": {},
   "outputs": [],
   "source": [
    "# to render the dataframe as an html table\n",
    "#df_books.to_html(escape=False, formatters=dict(cover=path_to_image_html))\n",
    "\n",
    "# Saving the dataframe as a webpage\n",
    "df_books.to_html('books_i_have_read_2023.html',escape=False, formatters=dict(cover=path_to_image_html))"
   ]
  }
 ],
 "metadata": {
  "kernelspec": {
   "display_name": "Python 3 (ipykernel)",
   "language": "python",
   "name": "python3"
  },
  "language_info": {
   "codemirror_mode": {
    "name": "ipython",
    "version": 3
   },
   "file_extension": ".py",
   "mimetype": "text/x-python",
   "name": "python",
   "nbconvert_exporter": "python",
   "pygments_lexer": "ipython3",
   "version": "3.9.6"
  }
 },
 "nbformat": 4,
 "nbformat_minor": 2
}
