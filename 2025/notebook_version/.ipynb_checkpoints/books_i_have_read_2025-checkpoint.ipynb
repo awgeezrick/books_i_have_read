{
 "cells": [
  {
   "cell_type": "code",
   "execution_count": 2,
   "metadata": {},
   "outputs": [],
   "source": [
    "import pandas as pd\n",
    "import json\n",
    "from IPython.core.display import HTML"
   ]
  },
  {
   "cell_type": "code",
   "execution_count": 3,
   "metadata": {},
   "outputs": [],
   "source": [
    "def books_json_to_dataframe(yr):\n",
    "    import os\n",
    "    main_dir = os.path.dirname(os.path.dirname(os.getcwd()))\n",
    "\n",
    "    with open(main_dir + '\\\\' + yr + '\\\\notebook_version\\\\book_data.json') as f:\n",
    "      books_data = json.load(f)\n",
    "    \n",
    "    df_ = pd.DataFrame(data=books_data['books'])\n",
    "    \n",
    "    return df_"
   ]
  },
  {
   "cell_type": "code",
   "execution_count": 4,
   "metadata": {},
   "outputs": [],
   "source": [
    "df_books = books_json_to_dataframe('2025')"
   ]
  },
  {
   "cell_type": "code",
   "execution_count": 5,
   "metadata": {},
   "outputs": [],
   "source": [
    "# Converting links to html tags\n",
    "def path_to_image_html(path):\n",
    "    return '<img src=\"'+ path + '\" width=\"240\" >'\n"
   ]
  },
  {
   "cell_type": "code",
   "execution_count": null,
   "metadata": {},
   "outputs": [],
   "source": []
  },
  {
   "cell_type": "code",
   "execution_count": 6,
   "metadata": {},
   "outputs": [
    {
     "data": {
      "text/html": [
       "<div>\n",
       "<style scoped>\n",
       "    .dataframe tbody tr th:only-of-type {\n",
       "        vertical-align: middle;\n",
       "    }\n",
       "\n",
       "    .dataframe tbody tr th {\n",
       "        vertical-align: top;\n",
       "    }\n",
       "\n",
       "    .dataframe thead th {\n",
       "        text-align: right;\n",
       "    }\n",
       "</style>\n",
       "<table border=\"1\" class=\"dataframe\">\n",
       "  <thead>\n",
       "    <tr style=\"text-align: right;\">\n",
       "      <th></th>\n",
       "      <th>title</th>\n",
       "      <th>author</th>\n",
       "      <th>cover</th>\n",
       "      <th>pages</th>\n",
       "      <th>main_genre</th>\n",
       "      <th>sub_genre</th>\n",
       "    </tr>\n",
       "  </thead>\n",
       "  <tbody>\n",
       "    <tr>\n",
       "      <th>0</th>\n",
       "      <td>A New Dawn</td>\n",
       "      <td>John Jackson Miller</td>\n",
       "      <td>https://m.media-amazon.com/images/I/71a8lzJpiL...</td>\n",
       "      <td>416</td>\n",
       "      <td>Fiction</td>\n",
       "      <td>Science Fiction</td>\n",
       "    </tr>\n",
       "    <tr>\n",
       "      <th>1</th>\n",
       "      <td>Armada</td>\n",
       "      <td>Ernest Cline</td>\n",
       "      <td>https://m.media-amazon.com/images/I/61fuQ7f70U...</td>\n",
       "      <td>368</td>\n",
       "      <td>Fiction</td>\n",
       "      <td>Science Fiction</td>\n",
       "    </tr>\n",
       "    <tr>\n",
       "      <th>2</th>\n",
       "      <td>Vector Prime</td>\n",
       "      <td>R.A. Salvatore</td>\n",
       "      <td>https://m.media-amazon.com/images/I/71xqf9pwyg...</td>\n",
       "      <td>416</td>\n",
       "      <td>Fiction</td>\n",
       "      <td>Science Fiction</td>\n",
       "    </tr>\n",
       "    <tr>\n",
       "      <th>3</th>\n",
       "      <td>Onslaught: Dark Tide, Book 1</td>\n",
       "      <td>Michael A. Stackpole</td>\n",
       "      <td>https://m.media-amazon.com/images/I/811LMhhIYe...</td>\n",
       "      <td>304</td>\n",
       "      <td>Fiction</td>\n",
       "      <td>Science Fiction</td>\n",
       "    </tr>\n",
       "    <tr>\n",
       "      <th>4</th>\n",
       "      <td>Ruin: Dark Tide, Book 2</td>\n",
       "      <td>Michael A. Stackpole</td>\n",
       "      <td>https://m.media-amazon.com/images/I/61rBltnAQ5...</td>\n",
       "      <td>304</td>\n",
       "      <td>Fiction</td>\n",
       "      <td>Science Fiction</td>\n",
       "    </tr>\n",
       "    <tr>\n",
       "      <th>5</th>\n",
       "      <td>1984</td>\n",
       "      <td>George Orwell</td>\n",
       "      <td>https://images-na.ssl-images-amazon.com/images...</td>\n",
       "      <td>336</td>\n",
       "      <td>Fiction</td>\n",
       "      <td>Political Fiction</td>\n",
       "    </tr>\n",
       "    <tr>\n",
       "      <th>6</th>\n",
       "      <td>Stories of Your Life and Others</td>\n",
       "      <td>Ted Chiang</td>\n",
       "      <td>https://m.media-amazon.com/images/I/71ZRRZShcG...</td>\n",
       "      <td>304</td>\n",
       "      <td>Fiction</td>\n",
       "      <td>Science Fiction</td>\n",
       "    </tr>\n",
       "    <tr>\n",
       "      <th>7</th>\n",
       "      <td>Exhalation: Stories</td>\n",
       "      <td>Ted Chiang</td>\n",
       "      <td>https://m.media-amazon.com/images/I/71rxUxpcPg...</td>\n",
       "      <td>362</td>\n",
       "      <td>Fiction</td>\n",
       "      <td>Science Fiction</td>\n",
       "    </tr>\n",
       "    <tr>\n",
       "      <th>8</th>\n",
       "      <td>Meditations</td>\n",
       "      <td>Marcus Aurelius (Translated by David V.Hicks a...</td>\n",
       "      <td>https://m.media-amazon.com/images/I/71Hppm9uNx...</td>\n",
       "      <td>160</td>\n",
       "      <td>Non-Fiction</td>\n",
       "      <td>History</td>\n",
       "    </tr>\n",
       "    <tr>\n",
       "      <th>9</th>\n",
       "      <td>Two Suns Rising: A Collection of Sacred Writings</td>\n",
       "      <td>Johnathan Star</td>\n",
       "      <td>https://m.media-amazon.com/images/I/818xkKVI4q...</td>\n",
       "      <td>254</td>\n",
       "      <td>Non-Fiction</td>\n",
       "      <td>Spirituality</td>\n",
       "    </tr>\n",
       "    <tr>\n",
       "      <th>10</th>\n",
       "      <td>Tales from the New Republic: Star Wars Legends</td>\n",
       "      <td>Peter Schweighofer (Editor), Craig Carey (Editor)</td>\n",
       "      <td>https://m.media-amazon.com/images/I/81FbRTirnl...</td>\n",
       "      <td>432</td>\n",
       "      <td>Fiction</td>\n",
       "      <td>Science Fiction</td>\n",
       "    </tr>\n",
       "  </tbody>\n",
       "</table>\n",
       "</div>"
      ],
      "text/plain": [
       "                                               title  \\\n",
       "0                                         A New Dawn   \n",
       "1                                             Armada   \n",
       "2                                       Vector Prime   \n",
       "3                       Onslaught: Dark Tide, Book 1   \n",
       "4                            Ruin: Dark Tide, Book 2   \n",
       "5                                               1984   \n",
       "6                    Stories of Your Life and Others   \n",
       "7                                Exhalation: Stories   \n",
       "8                                        Meditations   \n",
       "9   Two Suns Rising: A Collection of Sacred Writings   \n",
       "10    Tales from the New Republic: Star Wars Legends   \n",
       "\n",
       "                                               author  \\\n",
       "0                                 John Jackson Miller   \n",
       "1                                        Ernest Cline   \n",
       "2                                      R.A. Salvatore   \n",
       "3                                Michael A. Stackpole   \n",
       "4                                Michael A. Stackpole   \n",
       "5                                       George Orwell   \n",
       "6                                          Ted Chiang   \n",
       "7                                          Ted Chiang   \n",
       "8   Marcus Aurelius (Translated by David V.Hicks a...   \n",
       "9                                      Johnathan Star   \n",
       "10  Peter Schweighofer (Editor), Craig Carey (Editor)   \n",
       "\n",
       "                                                cover  pages   main_genre  \\\n",
       "0   https://m.media-amazon.com/images/I/71a8lzJpiL...    416      Fiction   \n",
       "1   https://m.media-amazon.com/images/I/61fuQ7f70U...    368      Fiction   \n",
       "2   https://m.media-amazon.com/images/I/71xqf9pwyg...    416      Fiction   \n",
       "3   https://m.media-amazon.com/images/I/811LMhhIYe...    304      Fiction   \n",
       "4   https://m.media-amazon.com/images/I/61rBltnAQ5...    304      Fiction   \n",
       "5   https://images-na.ssl-images-amazon.com/images...    336      Fiction   \n",
       "6   https://m.media-amazon.com/images/I/71ZRRZShcG...    304      Fiction   \n",
       "7   https://m.media-amazon.com/images/I/71rxUxpcPg...    362      Fiction   \n",
       "8   https://m.media-amazon.com/images/I/71Hppm9uNx...    160  Non-Fiction   \n",
       "9   https://m.media-amazon.com/images/I/818xkKVI4q...    254  Non-Fiction   \n",
       "10  https://m.media-amazon.com/images/I/81FbRTirnl...    432      Fiction   \n",
       "\n",
       "            sub_genre  \n",
       "0     Science Fiction  \n",
       "1     Science Fiction  \n",
       "2     Science Fiction  \n",
       "3     Science Fiction  \n",
       "4     Science Fiction  \n",
       "5   Political Fiction  \n",
       "6     Science Fiction  \n",
       "7     Science Fiction  \n",
       "8             History  \n",
       "9        Spirituality  \n",
       "10    Science Fiction  "
      ]
     },
     "execution_count": 6,
     "metadata": {},
     "output_type": "execute_result"
    }
   ],
   "source": [
    "df_books"
   ]
  },
  {
   "cell_type": "code",
   "execution_count": null,
   "metadata": {},
   "outputs": [],
   "source": []
  },
  {
   "cell_type": "code",
   "execution_count": 7,
   "metadata": {},
   "outputs": [],
   "source": [
    "# let's change the layout before moving on\n",
    "\n",
    "df_books = df_books[['cover','title','author','pages','main_genre','sub_genre']]"
   ]
  },
  {
   "cell_type": "code",
   "execution_count": 8,
   "metadata": {},
   "outputs": [
    {
     "data": {
      "text/html": [
       "<table border=\"1\" class=\"dataframe\">\n",
       "  <thead>\n",
       "    <tr style=\"text-align: right;\">\n",
       "      <th></th>\n",
       "      <th>cover</th>\n",
       "      <th>title</th>\n",
       "      <th>author</th>\n",
       "      <th>pages</th>\n",
       "      <th>main_genre</th>\n",
       "      <th>sub_genre</th>\n",
       "    </tr>\n",
       "  </thead>\n",
       "  <tbody>\n",
       "    <tr>\n",
       "      <th>0</th>\n",
       "      <td><img src=\"https://m.media-amazon.com/images/I/71a8lzJpiLL._SL1200_.jpg\" width=\"240\" ></td>\n",
       "      <td>A New Dawn</td>\n",
       "      <td>John Jackson Miller</td>\n",
       "      <td>416</td>\n",
       "      <td>Fiction</td>\n",
       "      <td>Science Fiction</td>\n",
       "    </tr>\n",
       "    <tr>\n",
       "      <th>1</th>\n",
       "      <td><img src=\"https://m.media-amazon.com/images/I/61fuQ7f70UL._SL1200_.jpg\" width=\"240\" ></td>\n",
       "      <td>Armada</td>\n",
       "      <td>Ernest Cline</td>\n",
       "      <td>368</td>\n",
       "      <td>Fiction</td>\n",
       "      <td>Science Fiction</td>\n",
       "    </tr>\n",
       "    <tr>\n",
       "      <th>2</th>\n",
       "      <td><img src=\"https://m.media-amazon.com/images/I/71xqf9pwygL._SL1200_.jpg\" width=\"240\" ></td>\n",
       "      <td>Vector Prime</td>\n",
       "      <td>R.A. Salvatore</td>\n",
       "      <td>416</td>\n",
       "      <td>Fiction</td>\n",
       "      <td>Science Fiction</td>\n",
       "    </tr>\n",
       "    <tr>\n",
       "      <th>3</th>\n",
       "      <td><img src=\"https://m.media-amazon.com/images/I/811LMhhIYeL._SL1500_.jpg\" width=\"240\" ></td>\n",
       "      <td>Onslaught: Dark Tide, Book 1</td>\n",
       "      <td>Michael A. Stackpole</td>\n",
       "      <td>304</td>\n",
       "      <td>Fiction</td>\n",
       "      <td>Science Fiction</td>\n",
       "    </tr>\n",
       "    <tr>\n",
       "      <th>4</th>\n",
       "      <td><img src=\"https://m.media-amazon.com/images/I/61rBltnAQ5L._SL1200_.jpg\" width=\"240\" ></td>\n",
       "      <td>Ruin: Dark Tide, Book 2</td>\n",
       "      <td>Michael A. Stackpole</td>\n",
       "      <td>304</td>\n",
       "      <td>Fiction</td>\n",
       "      <td>Science Fiction</td>\n",
       "    </tr>\n",
       "    <tr>\n",
       "      <th>5</th>\n",
       "      <td><img src=\"https://images-na.ssl-images-amazon.com/images/I/51K84pomCRL._SX305_BO1,204,203,200_.jpg\" width=\"240\" ></td>\n",
       "      <td>1984</td>\n",
       "      <td>George Orwell</td>\n",
       "      <td>336</td>\n",
       "      <td>Fiction</td>\n",
       "      <td>Political Fiction</td>\n",
       "    </tr>\n",
       "    <tr>\n",
       "      <th>6</th>\n",
       "      <td><img src=\"https://m.media-amazon.com/images/I/71ZRRZShcGL._SL1200_.jpg\" width=\"240\" ></td>\n",
       "      <td>Stories of Your Life and Others</td>\n",
       "      <td>Ted Chiang</td>\n",
       "      <td>304</td>\n",
       "      <td>Fiction</td>\n",
       "      <td>Science Fiction</td>\n",
       "    </tr>\n",
       "    <tr>\n",
       "      <th>7</th>\n",
       "      <td><img src=\"https://m.media-amazon.com/images/I/71rxUxpcPgL._SL1500_.jpg\" width=\"240\" ></td>\n",
       "      <td>Exhalation: Stories</td>\n",
       "      <td>Ted Chiang</td>\n",
       "      <td>362</td>\n",
       "      <td>Fiction</td>\n",
       "      <td>Science Fiction</td>\n",
       "    </tr>\n",
       "    <tr>\n",
       "      <th>8</th>\n",
       "      <td><img src=\"https://m.media-amazon.com/images/I/71Hppm9uNxL._SL1500_.jpg\" width=\"240\" ></td>\n",
       "      <td>Meditations</td>\n",
       "      <td>Marcus Aurelius (Translated by David V.Hicks and C.Scot Hicks)</td>\n",
       "      <td>160</td>\n",
       "      <td>Non-Fiction</td>\n",
       "      <td>History</td>\n",
       "    </tr>\n",
       "    <tr>\n",
       "      <th>9</th>\n",
       "      <td><img src=\"https://m.media-amazon.com/images/I/818xkKVI4qL._SL1500_.jpg\" width=\"240\" ></td>\n",
       "      <td>Two Suns Rising: A Collection of Sacred Writings</td>\n",
       "      <td>Johnathan Star</td>\n",
       "      <td>254</td>\n",
       "      <td>Non-Fiction</td>\n",
       "      <td>Spirituality</td>\n",
       "    </tr>\n",
       "    <tr>\n",
       "      <th>10</th>\n",
       "      <td><img src=\"https://m.media-amazon.com/images/I/81FbRTirnlL._SL1500_.jpg\" width=\"240\" ></td>\n",
       "      <td>Tales from the New Republic: Star Wars Legends</td>\n",
       "      <td>Peter Schweighofer (Editor), Craig Carey (Editor)</td>\n",
       "      <td>432</td>\n",
       "      <td>Fiction</td>\n",
       "      <td>Science Fiction</td>\n",
       "    </tr>\n",
       "  </tbody>\n",
       "</table>"
      ],
      "text/plain": [
       "<IPython.core.display.HTML object>"
      ]
     },
     "execution_count": 8,
     "metadata": {},
     "output_type": "execute_result"
    }
   ],
   "source": [
    "# Rendering the images in the dataframe using the HTML method with formatters\n",
    "\n",
    "HTML(df_books.to_html(escape=False,formatters=dict(cover=path_to_image_html)))"
   ]
  },
  {
   "cell_type": "code",
   "execution_count": null,
   "metadata": {},
   "outputs": [],
   "source": []
  },
  {
   "cell_type": "code",
   "execution_count": 9,
   "metadata": {},
   "outputs": [],
   "source": [
    "# you can also not use formatters but create the html in the field itself\n",
    "# the cover image sizes differ so I prefer setting a defined image size like above\n",
    "# I am chosing not to run this cell since it takes up a lot of space with the huge cover image sizes. =]\n",
    "# df_books_alt = df_books.copy()\n",
    "# df_books_alt['cover'] = '<img src=\"'+ df_books_alt['cover'] + '\">'\n",
    "# HTML(df_books_alt.to_html(escape=False))"
   ]
  },
  {
   "cell_type": "markdown",
   "metadata": {},
   "source": [
    "## Filtering"
   ]
  },
  {
   "cell_type": "code",
   "execution_count": 10,
   "metadata": {},
   "outputs": [
    {
     "data": {
      "text/html": [
       "<div>\n",
       "<style scoped>\n",
       "    .dataframe tbody tr th:only-of-type {\n",
       "        vertical-align: middle;\n",
       "    }\n",
       "\n",
       "    .dataframe tbody tr th {\n",
       "        vertical-align: top;\n",
       "    }\n",
       "\n",
       "    .dataframe thead th {\n",
       "        text-align: right;\n",
       "    }\n",
       "</style>\n",
       "<table border=\"1\" class=\"dataframe\">\n",
       "  <thead>\n",
       "    <tr style=\"text-align: right;\">\n",
       "      <th></th>\n",
       "      <th>cover</th>\n",
       "      <th>title</th>\n",
       "      <th>author</th>\n",
       "      <th>pages</th>\n",
       "      <th>main_genre</th>\n",
       "      <th>sub_genre</th>\n",
       "    </tr>\n",
       "  </thead>\n",
       "  <tbody>\n",
       "    <tr>\n",
       "      <th>0</th>\n",
       "      <td>https://m.media-amazon.com/images/I/71a8lzJpiL...</td>\n",
       "      <td>A New Dawn</td>\n",
       "      <td>John Jackson Miller</td>\n",
       "      <td>416</td>\n",
       "      <td>Fiction</td>\n",
       "      <td>Science Fiction</td>\n",
       "    </tr>\n",
       "    <tr>\n",
       "      <th>1</th>\n",
       "      <td>https://m.media-amazon.com/images/I/61fuQ7f70U...</td>\n",
       "      <td>Armada</td>\n",
       "      <td>Ernest Cline</td>\n",
       "      <td>368</td>\n",
       "      <td>Fiction</td>\n",
       "      <td>Science Fiction</td>\n",
       "    </tr>\n",
       "    <tr>\n",
       "      <th>2</th>\n",
       "      <td>https://m.media-amazon.com/images/I/71xqf9pwyg...</td>\n",
       "      <td>Vector Prime</td>\n",
       "      <td>R.A. Salvatore</td>\n",
       "      <td>416</td>\n",
       "      <td>Fiction</td>\n",
       "      <td>Science Fiction</td>\n",
       "    </tr>\n",
       "    <tr>\n",
       "      <th>3</th>\n",
       "      <td>https://m.media-amazon.com/images/I/811LMhhIYe...</td>\n",
       "      <td>Onslaught: Dark Tide, Book 1</td>\n",
       "      <td>Michael A. Stackpole</td>\n",
       "      <td>304</td>\n",
       "      <td>Fiction</td>\n",
       "      <td>Science Fiction</td>\n",
       "    </tr>\n",
       "    <tr>\n",
       "      <th>4</th>\n",
       "      <td>https://m.media-amazon.com/images/I/61rBltnAQ5...</td>\n",
       "      <td>Ruin: Dark Tide, Book 2</td>\n",
       "      <td>Michael A. Stackpole</td>\n",
       "      <td>304</td>\n",
       "      <td>Fiction</td>\n",
       "      <td>Science Fiction</td>\n",
       "    </tr>\n",
       "    <tr>\n",
       "      <th>5</th>\n",
       "      <td>https://images-na.ssl-images-amazon.com/images...</td>\n",
       "      <td>1984</td>\n",
       "      <td>George Orwell</td>\n",
       "      <td>336</td>\n",
       "      <td>Fiction</td>\n",
       "      <td>Political Fiction</td>\n",
       "    </tr>\n",
       "    <tr>\n",
       "      <th>6</th>\n",
       "      <td>https://m.media-amazon.com/images/I/71ZRRZShcG...</td>\n",
       "      <td>Stories of Your Life and Others</td>\n",
       "      <td>Ted Chiang</td>\n",
       "      <td>304</td>\n",
       "      <td>Fiction</td>\n",
       "      <td>Science Fiction</td>\n",
       "    </tr>\n",
       "    <tr>\n",
       "      <th>7</th>\n",
       "      <td>https://m.media-amazon.com/images/I/71rxUxpcPg...</td>\n",
       "      <td>Exhalation: Stories</td>\n",
       "      <td>Ted Chiang</td>\n",
       "      <td>362</td>\n",
       "      <td>Fiction</td>\n",
       "      <td>Science Fiction</td>\n",
       "    </tr>\n",
       "    <tr>\n",
       "      <th>10</th>\n",
       "      <td>https://m.media-amazon.com/images/I/81FbRTirnl...</td>\n",
       "      <td>Tales from the New Republic: Star Wars Legends</td>\n",
       "      <td>Peter Schweighofer (Editor), Craig Carey (Editor)</td>\n",
       "      <td>432</td>\n",
       "      <td>Fiction</td>\n",
       "      <td>Science Fiction</td>\n",
       "    </tr>\n",
       "  </tbody>\n",
       "</table>\n",
       "</div>"
      ],
      "text/plain": [
       "                                                cover  \\\n",
       "0   https://m.media-amazon.com/images/I/71a8lzJpiL...   \n",
       "1   https://m.media-amazon.com/images/I/61fuQ7f70U...   \n",
       "2   https://m.media-amazon.com/images/I/71xqf9pwyg...   \n",
       "3   https://m.media-amazon.com/images/I/811LMhhIYe...   \n",
       "4   https://m.media-amazon.com/images/I/61rBltnAQ5...   \n",
       "5   https://images-na.ssl-images-amazon.com/images...   \n",
       "6   https://m.media-amazon.com/images/I/71ZRRZShcG...   \n",
       "7   https://m.media-amazon.com/images/I/71rxUxpcPg...   \n",
       "10  https://m.media-amazon.com/images/I/81FbRTirnl...   \n",
       "\n",
       "                                             title  \\\n",
       "0                                       A New Dawn   \n",
       "1                                           Armada   \n",
       "2                                     Vector Prime   \n",
       "3                     Onslaught: Dark Tide, Book 1   \n",
       "4                          Ruin: Dark Tide, Book 2   \n",
       "5                                             1984   \n",
       "6                  Stories of Your Life and Others   \n",
       "7                              Exhalation: Stories   \n",
       "10  Tales from the New Republic: Star Wars Legends   \n",
       "\n",
       "                                               author  pages main_genre  \\\n",
       "0                                 John Jackson Miller    416    Fiction   \n",
       "1                                        Ernest Cline    368    Fiction   \n",
       "2                                      R.A. Salvatore    416    Fiction   \n",
       "3                                Michael A. Stackpole    304    Fiction   \n",
       "4                                Michael A. Stackpole    304    Fiction   \n",
       "5                                       George Orwell    336    Fiction   \n",
       "6                                          Ted Chiang    304    Fiction   \n",
       "7                                          Ted Chiang    362    Fiction   \n",
       "10  Peter Schweighofer (Editor), Craig Carey (Editor)    432    Fiction   \n",
       "\n",
       "            sub_genre  \n",
       "0     Science Fiction  \n",
       "1     Science Fiction  \n",
       "2     Science Fiction  \n",
       "3     Science Fiction  \n",
       "4     Science Fiction  \n",
       "5   Political Fiction  \n",
       "6     Science Fiction  \n",
       "7     Science Fiction  \n",
       "10    Science Fiction  "
      ]
     },
     "execution_count": 10,
     "metadata": {},
     "output_type": "execute_result"
    }
   ],
   "source": [
    "# if we wanted to filter our list of books on certain criteria we can simply do this:\n",
    "\n",
    "df_books[df_books['main_genre'] == 'Fiction']"
   ]
  },
  {
   "cell_type": "code",
   "execution_count": 11,
   "metadata": {},
   "outputs": [],
   "source": [
    "# however, we can make filtering more fun and interactive by using WIDGETS\n",
    "\n",
    "import ipywidgets as widgets\n",
    "from IPython.display import display"
   ]
  },
  {
   "cell_type": "code",
   "execution_count": 12,
   "metadata": {},
   "outputs": [],
   "source": [
    "ALL = 'ALL'\n",
    "\n",
    "def unique_sorted_values_plus_ALL(array):\n",
    "    unique = array.unique().tolist()\n",
    "    unique.sort()\n",
    "    unique.insert(0, ALL)\n",
    "    return unique"
   ]
  },
  {
   "cell_type": "code",
   "execution_count": 13,
   "metadata": {},
   "outputs": [],
   "source": [
    "def dropdown_main_genre_eventhandler(change):\n",
    "    output_main_genre.clear_output()\n",
    "    with output_main_genre:\n",
    "        if (change.new == ALL):\n",
    "            display(df_books)\n",
    "        else:\n",
    "            display(df_books[df_books.main_genre == change.new])        \n",
    "        \n",
    "dropdown_main_genre = widgets.Dropdown(options = unique_sorted_values_plus_ALL(df_books.main_genre))\n",
    "\n",
    "output_main_genre = widgets.Output()\n",
    "\n",
    "dropdown_main_genre.observe(dropdown_main_genre_eventhandler, names='value')\n",
    "\n",
    "\n",
    "def dropdown_sub_genre_eventhandler(change):\n",
    "    output_sub_genre.clear_output()\n",
    "    with output_sub_genre:\n",
    "        if (change.new == ALL):\n",
    "            display(df_books)\n",
    "        else:\n",
    "            display(df_books[df_books.sub_genre == change.new])        \n",
    "        \n",
    "dropdown_sub_genre = widgets.Dropdown(options = unique_sorted_values_plus_ALL(df_books.sub_genre))\n",
    "\n",
    "output_sub_genre = widgets.Output()\n",
    "\n",
    "dropdown_sub_genre.observe(dropdown_sub_genre_eventhandler, names='value')\n",
    "\n",
    "\n",
    "\n",
    "def dropdown_author_eventhandler(change):\n",
    "    output_author.clear_output()\n",
    "    with output_author:\n",
    "        if (change.new == ALL):\n",
    "            display(df_books)\n",
    "        else:\n",
    "            display(df_books[df_books.author == change.new])        \n",
    "        \n",
    "dropdown_author = widgets.Dropdown(options = unique_sorted_values_plus_ALL(df_books.author))\n",
    "\n",
    "output_author = widgets.Output()\n",
    "\n",
    "dropdown_author.observe(dropdown_author_eventhandler, names='value')\n",
    "\n"
   ]
  },
  {
   "cell_type": "code",
   "execution_count": 14,
   "metadata": {},
   "outputs": [
    {
     "data": {
      "application/vnd.jupyter.widget-view+json": {
       "model_id": "30ab4055ddb84d808d7112420aabb347",
       "version_major": 2,
       "version_minor": 0
      },
      "text/plain": [
       "Dropdown(options=('ALL', 'Fiction', 'Non-Fiction'), value='ALL')"
      ]
     },
     "metadata": {},
     "output_type": "display_data"
    }
   ],
   "source": [
    "display(dropdown_main_genre)"
   ]
  },
  {
   "cell_type": "code",
   "execution_count": 15,
   "metadata": {},
   "outputs": [
    {
     "data": {
      "application/vnd.jupyter.widget-view+json": {
       "model_id": "64b5042b4b6e470bbcc091f831760676",
       "version_major": 2,
       "version_minor": 0
      },
      "text/plain": [
       "Output()"
      ]
     },
     "metadata": {},
     "output_type": "display_data"
    }
   ],
   "source": [
    "display(output_main_genre)"
   ]
  },
  {
   "cell_type": "code",
   "execution_count": null,
   "metadata": {},
   "outputs": [],
   "source": []
  },
  {
   "cell_type": "code",
   "execution_count": 16,
   "metadata": {},
   "outputs": [
    {
     "data": {
      "application/vnd.jupyter.widget-view+json": {
       "model_id": "7c18922a90ff44268630254e989ee5d9",
       "version_major": 2,
       "version_minor": 0
      },
      "text/plain": [
       "Dropdown(options=('ALL', 'History', 'Political Fiction', 'Science Fiction', 'Spirituality'), value='ALL')"
      ]
     },
     "metadata": {},
     "output_type": "display_data"
    }
   ],
   "source": [
    "display(dropdown_sub_genre)"
   ]
  },
  {
   "cell_type": "code",
   "execution_count": 17,
   "metadata": {},
   "outputs": [
    {
     "data": {
      "application/vnd.jupyter.widget-view+json": {
       "model_id": "13a15969ce5545059ac211dcc1afb184",
       "version_major": 2,
       "version_minor": 0
      },
      "text/plain": [
       "Output()"
      ]
     },
     "metadata": {},
     "output_type": "display_data"
    }
   ],
   "source": [
    "display(output_sub_genre)"
   ]
  },
  {
   "cell_type": "code",
   "execution_count": null,
   "metadata": {},
   "outputs": [],
   "source": []
  },
  {
   "cell_type": "code",
   "execution_count": 18,
   "metadata": {},
   "outputs": [
    {
     "data": {
      "application/vnd.jupyter.widget-view+json": {
       "model_id": "8c96b406996e4eab9c364fa5040da7b8",
       "version_major": 2,
       "version_minor": 0
      },
      "text/plain": [
       "Dropdown(options=('ALL', 'Ernest Cline', 'George Orwell', 'John Jackson Miller', 'Johnathan Star', 'Marcus Aur…"
      ]
     },
     "metadata": {},
     "output_type": "display_data"
    }
   ],
   "source": [
    "display(dropdown_author)"
   ]
  },
  {
   "cell_type": "code",
   "execution_count": 19,
   "metadata": {},
   "outputs": [
    {
     "data": {
      "application/vnd.jupyter.widget-view+json": {
       "model_id": "a3436c1168624310a1d161ac87de6524",
       "version_major": 2,
       "version_minor": 0
      },
      "text/plain": [
       "Output()"
      ]
     },
     "metadata": {},
     "output_type": "display_data"
    }
   ],
   "source": [
    "display(output_author)"
   ]
  },
  {
   "cell_type": "markdown",
   "metadata": {},
   "source": [
    "## Stats"
   ]
  },
  {
   "cell_type": "code",
   "execution_count": 20,
   "metadata": {},
   "outputs": [
    {
     "name": "stdout",
     "output_type": "stream",
     "text": [
      "2025: \n",
      "Total Books Read : 11 \n",
      "Total Pages Read: 3656\n"
     ]
    }
   ],
   "source": [
    "total_books = df_books['title'].count()\n",
    "total_pages = df_books['pages'].sum()\n",
    "print('2025: \\nTotal Books Read : ' + str(total_books) + ' \\nTotal Pages Read: ' + str(total_pages))\n"
   ]
  },
  {
   "cell_type": "code",
   "execution_count": 21,
   "metadata": {},
   "outputs": [],
   "source": [
    "def get_percentage_of(part, whole):\n",
    "    \"\"\"\n",
    "    This function takes two numbers and returns the percentage of the first number from the second number. \n",
    "    \"\"\"\n",
    "    result = 100 * (float(part) / float(whole))\n",
    "    # return \"{:.1%}\".format(result)\n",
    "    final = '%' + \"{0:.2f}\".format(result)\n",
    "    return final\n",
    "\n",
    "\n",
    "def get_percentage_diff(current, previous):\n",
    "    \"\"\"\n",
    "    This returns the difference between 2 numbers and returns the result with visual formating.\n",
    "    \"\"\"\n",
    "    if current == previous:\n",
    "        return '%' + \"{0:.2f}\".format(100.0)\n",
    "    try:\n",
    "        return '%' + \"{0:.2f}\".format((abs(current - previous) / previous) * 100.0)\n",
    "    except ZeroDivisionError:\n",
    "        return 0"
   ]
  },
  {
   "cell_type": "code",
   "execution_count": 22,
   "metadata": {},
   "outputs": [],
   "source": [
    "# let's make a dataframe that contains all the different yearly 'books i have read' datasets so we can compare stuffs. =]\n",
    "\n",
    "\n",
    "def create_book_stats_dataframe():\n",
    "    book_stats = []\n",
    "    \n",
    "    df_books_2019 = books_json_to_dataframe('2019')\n",
    "    df_books_2020 = books_json_to_dataframe('2020')\n",
    "    df_books_2021 = books_json_to_dataframe('2021')\n",
    "    df_books_2022 = books_json_to_dataframe('2022')\n",
    "    df_books_2023 = books_json_to_dataframe('2023')\n",
    "    df_books_2024 = books_json_to_dataframe('2024')\n",
    "    df_books_2025 = books_json_to_dataframe('2025')\n",
    "    \n",
    "    \n",
    "    book_stats.append([2019, df_books_2019['title'].count(), df_books_2019['pages'].sum()])\n",
    "    book_stats.append([2020, df_books_2020['title'].count(), df_books_2020['pages'].sum()])\n",
    "    book_stats.append([2021, df_books_2021['title'].count(), df_books_2021['pages'].sum()])\n",
    "    book_stats.append([2022, df_books_2022['title'].count(), df_books_2022['pages'].sum()])\n",
    "    book_stats.append([2023, df_books_2023['title'].count(), df_books_2023['pages'].sum()])\n",
    "    book_stats.append([2024, df_books_2024['title'].count(), df_books_2024['pages'].sum()])\n",
    "    book_stats.append([2025, df_books_2025['title'].count(), df_books_2025['pages'].sum()])\n",
    "    \n",
    "    df_book_stats_ = pd.DataFrame(data=book_stats, columns=['year','total_books','total_pages'])\n",
    "    \n",
    "    return df_book_stats_"
   ]
  },
  {
   "cell_type": "code",
   "execution_count": 23,
   "metadata": {},
   "outputs": [],
   "source": [
    "df_book_stats = create_book_stats_dataframe()"
   ]
  },
  {
   "cell_type": "code",
   "execution_count": 24,
   "metadata": {},
   "outputs": [],
   "source": [
    "# i want to see some percentage differences between the years\n",
    "\n",
    "df_book_stats['total_pages_perc_of_prv_yr'] = ''\n",
    "df_book_stats['total_pages_perc_diff_prv_yr'] = ''\n",
    "df_book_stats['total_books_perc_of_prv_yr'] = ''\n",
    "df_book_stats['total_books_perc_diff_prv_yr'] = ''\n",
    "\n",
    "\n",
    "\n",
    "for index, row in df_book_stats.iterrows():\n",
    "    if row['year'] == 2019:\n",
    "        pass\n",
    "    else:\n",
    "        ttlpgs = row['total_pages']\n",
    "        prev_yr = row['year'] -1\n",
    "        prev_yr_ttlpgs = df_book_stats[df_book_stats['year'] == prev_yr]['total_pages'].iloc[0]\n",
    "        perc_off = get_percentage_of(ttlpgs, prev_yr_ttlpgs)\n",
    "        perc_diff = get_percentage_diff(ttlpgs, prev_yr_ttlpgs)\n",
    "        \n",
    "        df_book_stats.at[index, 'total_pages_perc_of_prv_yr'] = perc_off\n",
    "        df_book_stats.at[index, 'total_pages_perc_diff_prv_yr'] = perc_diff\n",
    "\n",
    "        ttlbks = row['total_books']\n",
    "        \n",
    "        prev_yr_ttlbks = df_book_stats[df_book_stats['year'] == prev_yr]['total_books'].iloc[0]\n",
    "        perc_off = get_percentage_of(ttlbks, prev_yr_ttlbks)\n",
    "        perc_diff = get_percentage_diff(ttlbks, prev_yr_ttlbks)\n",
    "        \n",
    "        df_book_stats.at[index, 'total_books_perc_of_prv_yr'] = perc_off\n",
    "        df_book_stats.at[index, 'total_books_perc_diff_prv_yr'] = perc_diff\n",
    "        \n",
    "        "
   ]
  },
  {
   "cell_type": "code",
   "execution_count": 25,
   "metadata": {},
   "outputs": [
    {
     "data": {
      "text/html": [
       "<div>\n",
       "<style scoped>\n",
       "    .dataframe tbody tr th:only-of-type {\n",
       "        vertical-align: middle;\n",
       "    }\n",
       "\n",
       "    .dataframe tbody tr th {\n",
       "        vertical-align: top;\n",
       "    }\n",
       "\n",
       "    .dataframe thead th {\n",
       "        text-align: right;\n",
       "    }\n",
       "</style>\n",
       "<table border=\"1\" class=\"dataframe\">\n",
       "  <thead>\n",
       "    <tr style=\"text-align: right;\">\n",
       "      <th></th>\n",
       "      <th>year</th>\n",
       "      <th>total_books</th>\n",
       "      <th>total_pages</th>\n",
       "      <th>total_pages_perc_of_prv_yr</th>\n",
       "      <th>total_pages_perc_diff_prv_yr</th>\n",
       "      <th>total_books_perc_of_prv_yr</th>\n",
       "      <th>total_books_perc_diff_prv_yr</th>\n",
       "    </tr>\n",
       "  </thead>\n",
       "  <tbody>\n",
       "    <tr>\n",
       "      <th>0</th>\n",
       "      <td>2019</td>\n",
       "      <td>22</td>\n",
       "      <td>6719</td>\n",
       "      <td></td>\n",
       "      <td></td>\n",
       "      <td></td>\n",
       "      <td></td>\n",
       "    </tr>\n",
       "    <tr>\n",
       "      <th>1</th>\n",
       "      <td>2020</td>\n",
       "      <td>24</td>\n",
       "      <td>9801</td>\n",
       "      <td>%145.87</td>\n",
       "      <td>%45.87</td>\n",
       "      <td>%109.09</td>\n",
       "      <td>%9.09</td>\n",
       "    </tr>\n",
       "    <tr>\n",
       "      <th>2</th>\n",
       "      <td>2021</td>\n",
       "      <td>33</td>\n",
       "      <td>13780</td>\n",
       "      <td>%140.60</td>\n",
       "      <td>%40.60</td>\n",
       "      <td>%137.50</td>\n",
       "      <td>%37.50</td>\n",
       "    </tr>\n",
       "    <tr>\n",
       "      <th>3</th>\n",
       "      <td>2022</td>\n",
       "      <td>32</td>\n",
       "      <td>12939</td>\n",
       "      <td>%93.90</td>\n",
       "      <td>%6.10</td>\n",
       "      <td>%96.97</td>\n",
       "      <td>%3.03</td>\n",
       "    </tr>\n",
       "    <tr>\n",
       "      <th>4</th>\n",
       "      <td>2023</td>\n",
       "      <td>32</td>\n",
       "      <td>13558</td>\n",
       "      <td>%104.78</td>\n",
       "      <td>%4.78</td>\n",
       "      <td>%100.00</td>\n",
       "      <td>%100.00</td>\n",
       "    </tr>\n",
       "    <tr>\n",
       "      <th>5</th>\n",
       "      <td>2024</td>\n",
       "      <td>13</td>\n",
       "      <td>5259</td>\n",
       "      <td>%38.79</td>\n",
       "      <td>%61.21</td>\n",
       "      <td>%40.62</td>\n",
       "      <td>%59.38</td>\n",
       "    </tr>\n",
       "    <tr>\n",
       "      <th>6</th>\n",
       "      <td>2025</td>\n",
       "      <td>11</td>\n",
       "      <td>3656</td>\n",
       "      <td>%69.52</td>\n",
       "      <td>%30.48</td>\n",
       "      <td>%84.62</td>\n",
       "      <td>%15.38</td>\n",
       "    </tr>\n",
       "  </tbody>\n",
       "</table>\n",
       "</div>"
      ],
      "text/plain": [
       "   year  total_books  total_pages total_pages_perc_of_prv_yr  \\\n",
       "0  2019           22         6719                              \n",
       "1  2020           24         9801                    %145.87   \n",
       "2  2021           33        13780                    %140.60   \n",
       "3  2022           32        12939                     %93.90   \n",
       "4  2023           32        13558                    %104.78   \n",
       "5  2024           13         5259                     %38.79   \n",
       "6  2025           11         3656                     %69.52   \n",
       "\n",
       "  total_pages_perc_diff_prv_yr total_books_perc_of_prv_yr  \\\n",
       "0                                                           \n",
       "1                       %45.87                    %109.09   \n",
       "2                       %40.60                    %137.50   \n",
       "3                        %6.10                     %96.97   \n",
       "4                        %4.78                    %100.00   \n",
       "5                       %61.21                     %40.62   \n",
       "6                       %30.48                     %84.62   \n",
       "\n",
       "  total_books_perc_diff_prv_yr  \n",
       "0                               \n",
       "1                        %9.09  \n",
       "2                       %37.50  \n",
       "3                        %3.03  \n",
       "4                      %100.00  \n",
       "5                       %59.38  \n",
       "6                       %15.38  "
      ]
     },
     "execution_count": 25,
     "metadata": {},
     "output_type": "execute_result"
    }
   ],
   "source": [
    "df_book_stats"
   ]
  },
  {
   "cell_type": "code",
   "execution_count": 26,
   "metadata": {},
   "outputs": [],
   "source": [
    "import matplotlib.pyplot as plt\n",
    "import seaborn as sns"
   ]
  },
  {
   "cell_type": "code",
   "execution_count": 27,
   "metadata": {},
   "outputs": [],
   "source": [
    "def create_basic_barplot(df, x_value, y_value, title, x_label, y_label):\n",
    "    plt.subplots(figsize=(15, 6))\n",
    "    chart = sns.barplot(x=x_value, y=y_value, data=df, palette=sns.color_palette(\"Set1\", n_colors=df.shape[0], desat=.5), hue=x_value, legend=False)\n",
    "    chart.axhline(df[y_value].mean())\n",
    "    chart = chart.set_title(title, fontsize = 18)\n",
    "    chart = plt.xlabel(x_label, fontsize = 12)\n",
    "    chart = plt.ylabel(y_label, fontsize = 12)\n",
    "    # chart = plt.ylim(0, df[y_value].max())\n",
    "\n",
    "    return"
   ]
  },
  {
   "cell_type": "code",
   "execution_count": 28,
   "metadata": {},
   "outputs": [
    {
     "data": {
      "image/png": "[encoded data removed]",
      "text/plain": [
       "<Figure size 1500x600 with 1 Axes>"
      ]
     },
     "metadata": {},
     "output_type": "display_data"
    }
   ],
   "source": [
    "create_basic_barplot(df_book_stats[['year','total_books']],'year','total_books','Total Books Read per Year','Year','Books Read')"
   ]
  },
  {
   "cell_type": "code",
   "execution_count": 29,
   "metadata": {},
   "outputs": [
    {
     "data": {
      "image/png": "[encoded data removed]",
      "text/plain": [
       "<Figure size 1500x600 with 1 Axes>"
      ]
     },
     "metadata": {},
     "output_type": "display_data"
    }
   ],
   "source": [
    "create_basic_barplot(df_book_stats[['year','total_pages']],'year','total_pages','Total Pages Read per Year','Year','Pages Read')"
   ]
  },
  {
   "cell_type": "code",
   "execution_count": 30,
   "metadata": {},
   "outputs": [],
   "source": [
    "# let's get an author count\n",
    "df_authors = pd.DataFrame({'total' : df_books.groupby(['author'])['author'].count()}).reset_index()\n",
    "df_authors.sort_values(by='total', ascending=False, inplace=True)"
   ]
  },
  {
   "cell_type": "code",
   "execution_count": 31,
   "metadata": {},
   "outputs": [
    {
     "data": {
      "text/html": [
       "<div>\n",
       "<style scoped>\n",
       "    .dataframe tbody tr th:only-of-type {\n",
       "        vertical-align: middle;\n",
       "    }\n",
       "\n",
       "    .dataframe tbody tr th {\n",
       "        vertical-align: top;\n",
       "    }\n",
       "\n",
       "    .dataframe thead th {\n",
       "        text-align: right;\n",
       "    }\n",
       "</style>\n",
       "<table border=\"1\" class=\"dataframe\">\n",
       "  <thead>\n",
       "    <tr style=\"text-align: right;\">\n",
       "      <th></th>\n",
       "      <th>author</th>\n",
       "      <th>total</th>\n",
       "    </tr>\n",
       "  </thead>\n",
       "  <tbody>\n",
       "    <tr>\n",
       "      <th>5</th>\n",
       "      <td>Michael A. Stackpole</td>\n",
       "      <td>2</td>\n",
       "    </tr>\n",
       "    <tr>\n",
       "      <th>8</th>\n",
       "      <td>Ted Chiang</td>\n",
       "      <td>2</td>\n",
       "    </tr>\n",
       "    <tr>\n",
       "      <th>0</th>\n",
       "      <td>Ernest Cline</td>\n",
       "      <td>1</td>\n",
       "    </tr>\n",
       "    <tr>\n",
       "      <th>1</th>\n",
       "      <td>George Orwell</td>\n",
       "      <td>1</td>\n",
       "    </tr>\n",
       "    <tr>\n",
       "      <th>2</th>\n",
       "      <td>John Jackson Miller</td>\n",
       "      <td>1</td>\n",
       "    </tr>\n",
       "    <tr>\n",
       "      <th>3</th>\n",
       "      <td>Johnathan Star</td>\n",
       "      <td>1</td>\n",
       "    </tr>\n",
       "    <tr>\n",
       "      <th>4</th>\n",
       "      <td>Marcus Aurelius (Translated by David V.Hicks a...</td>\n",
       "      <td>1</td>\n",
       "    </tr>\n",
       "    <tr>\n",
       "      <th>6</th>\n",
       "      <td>Peter Schweighofer (Editor), Craig Carey (Editor)</td>\n",
       "      <td>1</td>\n",
       "    </tr>\n",
       "    <tr>\n",
       "      <th>7</th>\n",
       "      <td>R.A. Salvatore</td>\n",
       "      <td>1</td>\n",
       "    </tr>\n",
       "  </tbody>\n",
       "</table>\n",
       "</div>"
      ],
      "text/plain": [
       "                                              author  total\n",
       "5                               Michael A. Stackpole      2\n",
       "8                                         Ted Chiang      2\n",
       "0                                       Ernest Cline      1\n",
       "1                                      George Orwell      1\n",
       "2                                John Jackson Miller      1\n",
       "3                                     Johnathan Star      1\n",
       "4  Marcus Aurelius (Translated by David V.Hicks a...      1\n",
       "6  Peter Schweighofer (Editor), Craig Carey (Editor)      1\n",
       "7                                     R.A. Salvatore      1"
      ]
     },
     "execution_count": 31,
     "metadata": {},
     "output_type": "execute_result"
    }
   ],
   "source": [
    "df_authors"
   ]
  },
  {
   "cell_type": "code",
   "execution_count": 32,
   "metadata": {},
   "outputs": [
    {
     "data": {
      "text/html": [
       "<div>\n",
       "<style scoped>\n",
       "    .dataframe tbody tr th:only-of-type {\n",
       "        vertical-align: middle;\n",
       "    }\n",
       "\n",
       "    .dataframe tbody tr th {\n",
       "        vertical-align: top;\n",
       "    }\n",
       "\n",
       "    .dataframe thead th {\n",
       "        text-align: right;\n",
       "    }\n",
       "</style>\n",
       "<table border=\"1\" class=\"dataframe\">\n",
       "  <thead>\n",
       "    <tr style=\"text-align: right;\">\n",
       "      <th></th>\n",
       "      <th>author</th>\n",
       "      <th>total</th>\n",
       "    </tr>\n",
       "  </thead>\n",
       "  <tbody>\n",
       "    <tr>\n",
       "      <th>5</th>\n",
       "      <td>Michael A. Stackpole</td>\n",
       "      <td>2</td>\n",
       "    </tr>\n",
       "    <tr>\n",
       "      <th>8</th>\n",
       "      <td>Ted Chiang</td>\n",
       "      <td>2</td>\n",
       "    </tr>\n",
       "    <tr>\n",
       "      <th>0</th>\n",
       "      <td>Ernest Cline</td>\n",
       "      <td>1</td>\n",
       "    </tr>\n",
       "  </tbody>\n",
       "</table>\n",
       "</div>"
      ],
      "text/plain": [
       "                 author  total\n",
       "5  Michael A. Stackpole      2\n",
       "8            Ted Chiang      2\n",
       "0          Ernest Cline      1"
      ]
     },
     "execution_count": 32,
     "metadata": {},
     "output_type": "execute_result"
    }
   ],
   "source": [
    "# top 3 authors\n",
    "df_authors[:3]"
   ]
  },
  {
   "cell_type": "code",
   "execution_count": 33,
   "metadata": {},
   "outputs": [],
   "source": [
    "# we can also look at timeline, era, storyline\n",
    "\n",
    "# let's get an author count\n",
    "df_sub_genres = pd.DataFrame({'total' : df_books.groupby(['sub_genre'])['sub_genre'].count()}).reset_index()\n",
    "df_sub_genres.sort_values(by='total', ascending=False, inplace=True)\n",
    "\n",
    "df_main_genres = pd.DataFrame({'total' : df_books.groupby(['main_genre'])['main_genre'].count()}).reset_index()\n",
    "df_main_genres.sort_values(by='total', ascending=False, inplace=True)"
   ]
  },
  {
   "cell_type": "code",
   "execution_count": 34,
   "metadata": {},
   "outputs": [
    {
     "data": {
      "text/html": [
       "<div>\n",
       "<style scoped>\n",
       "    .dataframe tbody tr th:only-of-type {\n",
       "        vertical-align: middle;\n",
       "    }\n",
       "\n",
       "    .dataframe tbody tr th {\n",
       "        vertical-align: top;\n",
       "    }\n",
       "\n",
       "    .dataframe thead th {\n",
       "        text-align: right;\n",
       "    }\n",
       "</style>\n",
       "<table border=\"1\" class=\"dataframe\">\n",
       "  <thead>\n",
       "    <tr style=\"text-align: right;\">\n",
       "      <th></th>\n",
       "      <th>main_genre</th>\n",
       "      <th>total</th>\n",
       "    </tr>\n",
       "  </thead>\n",
       "  <tbody>\n",
       "    <tr>\n",
       "      <th>0</th>\n",
       "      <td>Fiction</td>\n",
       "      <td>9</td>\n",
       "    </tr>\n",
       "    <tr>\n",
       "      <th>1</th>\n",
       "      <td>Non-Fiction</td>\n",
       "      <td>2</td>\n",
       "    </tr>\n",
       "  </tbody>\n",
       "</table>\n",
       "</div>"
      ],
      "text/plain": [
       "    main_genre  total\n",
       "0      Fiction      9\n",
       "1  Non-Fiction      2"
      ]
     },
     "execution_count": 34,
     "metadata": {},
     "output_type": "execute_result"
    }
   ],
   "source": [
    "df_main_genres"
   ]
  },
  {
   "cell_type": "code",
   "execution_count": 35,
   "metadata": {},
   "outputs": [
    {
     "data": {
      "text/html": [
       "<div>\n",
       "<style scoped>\n",
       "    .dataframe tbody tr th:only-of-type {\n",
       "        vertical-align: middle;\n",
       "    }\n",
       "\n",
       "    .dataframe tbody tr th {\n",
       "        vertical-align: top;\n",
       "    }\n",
       "\n",
       "    .dataframe thead th {\n",
       "        text-align: right;\n",
       "    }\n",
       "</style>\n",
       "<table border=\"1\" class=\"dataframe\">\n",
       "  <thead>\n",
       "    <tr style=\"text-align: right;\">\n",
       "      <th></th>\n",
       "      <th>sub_genre</th>\n",
       "      <th>total</th>\n",
       "    </tr>\n",
       "  </thead>\n",
       "  <tbody>\n",
       "    <tr>\n",
       "      <th>2</th>\n",
       "      <td>Science Fiction</td>\n",
       "      <td>8</td>\n",
       "    </tr>\n",
       "    <tr>\n",
       "      <th>0</th>\n",
       "      <td>History</td>\n",
       "      <td>1</td>\n",
       "    </tr>\n",
       "    <tr>\n",
       "      <th>1</th>\n",
       "      <td>Political Fiction</td>\n",
       "      <td>1</td>\n",
       "    </tr>\n",
       "    <tr>\n",
       "      <th>3</th>\n",
       "      <td>Spirituality</td>\n",
       "      <td>1</td>\n",
       "    </tr>\n",
       "  </tbody>\n",
       "</table>\n",
       "</div>"
      ],
      "text/plain": [
       "           sub_genre  total\n",
       "2    Science Fiction      8\n",
       "0            History      1\n",
       "1  Political Fiction      1\n",
       "3       Spirituality      1"
      ]
     },
     "execution_count": 35,
     "metadata": {},
     "output_type": "execute_result"
    }
   ],
   "source": [
    "df_sub_genres"
   ]
  },
  {
   "cell_type": "code",
   "execution_count": null,
   "metadata": {},
   "outputs": [],
   "source": []
  },
  {
   "cell_type": "code",
   "execution_count": null,
   "metadata": {},
   "outputs": [],
   "source": []
  },
  {
   "cell_type": "code",
   "execution_count": 36,
   "metadata": {},
   "outputs": [],
   "source": [
    "# to render the dataframe as an html table\n",
    "#df_books.to_html(escape=False, formatters=dict(cover=path_to_image_html))\n",
    "\n",
    "# Saving the dataframe as a webpage\n",
    "df_books.to_html('books_i_have_read_2025.html',escape=False, formatters=dict(cover=path_to_image_html))"
   ]
  }
 ],
 "metadata": {
  "kernelspec": {
   "display_name": "Python 3 (ipykernel)",
   "language": "python",
   "name": "python3"
  },
  "language_info": {
   "codemirror_mode": {
    "name": "ipython",
    "version": 3
   },
   "file_extension": ".py",
   "mimetype": "text/x-python",
   "name": "python",
   "nbconvert_exporter": "python",
   "pygments_lexer": "ipython3",
   "version": "3.11.6"
  }
 },
 "nbformat": 4,
 "nbformat_minor": 4
}
