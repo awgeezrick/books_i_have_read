{
 "cells": [
  {
   "cell_type": "code",
   "execution_count": 1,
   "metadata": {},
   "outputs": [],
   "source": [
    "import pandas as pd\n",
    "import json\n",
    "from IPython.core.display import HTML"
   ]
  },
  {
   "cell_type": "code",
   "execution_count": 25,
   "metadata": {},
   "outputs": [],
   "source": [
    "with open('book_data.json') as f:\n",
    "  books_data = json.load(f)\n"
   ]
  },
  {
   "cell_type": "code",
   "execution_count": 15,
   "metadata": {},
   "outputs": [],
   "source": [
    "# Converting links to html tags\n",
    "def path_to_image_html(path):\n",
    "    return '<img src=\"'+ path + '\" width=\"120\" >'\n"
   ]
  },
  {
   "cell_type": "code",
   "execution_count": null,
   "metadata": {},
   "outputs": [],
   "source": []
  },
  {
   "cell_type": "code",
   "execution_count": 26,
   "metadata": {},
   "outputs": [],
   "source": [
    "df_books = pd.DataFrame(data=books_data['books'])"
   ]
  },
  {
   "cell_type": "code",
   "execution_count": 27,
   "metadata": {},
   "outputs": [
    {
     "data": {
      "text/html": [
       "<div>\n",
       "<style scoped>\n",
       "    .dataframe tbody tr th:only-of-type {\n",
       "        vertical-align: middle;\n",
       "    }\n",
       "\n",
       "    .dataframe tbody tr th {\n",
       "        vertical-align: top;\n",
       "    }\n",
       "\n",
       "    .dataframe thead th {\n",
       "        text-align: right;\n",
       "    }\n",
       "</style>\n",
       "<table border=\"1\" class=\"dataframe\">\n",
       "  <thead>\n",
       "    <tr style=\"text-align: right;\">\n",
       "      <th></th>\n",
       "      <th>title</th>\n",
       "      <th>author</th>\n",
       "      <th>cover</th>\n",
       "      <th>pages</th>\n",
       "    </tr>\n",
       "  </thead>\n",
       "  <tbody>\n",
       "    <tr>\n",
       "      <td>0</td>\n",
       "      <td>Tarkin</td>\n",
       "      <td>James Luceno</td>\n",
       "      <td>https://images-na.ssl-images-amazon.com/images...</td>\n",
       "      <td>354</td>\n",
       "    </tr>\n",
       "    <tr>\n",
       "      <td>1</td>\n",
       "      <td>Dark Lord</td>\n",
       "      <td>James Luceno</td>\n",
       "      <td>https://d188rgcu4zozwl.cloudfront.net/content/...</td>\n",
       "      <td>369</td>\n",
       "    </tr>\n",
       "    <tr>\n",
       "      <td>2</td>\n",
       "      <td>Revan</td>\n",
       "      <td>Drew Karpyshyn</td>\n",
       "      <td>https://images-na.ssl-images-amazon.com/images...</td>\n",
       "      <td>368</td>\n",
       "    </tr>\n",
       "    <tr>\n",
       "      <td>3</td>\n",
       "      <td>Darth Bane: Path of Destruction</td>\n",
       "      <td>Drew Karpyshyn</td>\n",
       "      <td>https://images-na.ssl-images-amazon.com/images...</td>\n",
       "      <td>324</td>\n",
       "    </tr>\n",
       "    <tr>\n",
       "      <td>4</td>\n",
       "      <td>Darth Bane: Rule of Two</td>\n",
       "      <td>Drew Karpyshyn</td>\n",
       "      <td>https://images-na.ssl-images-amazon.com/images...</td>\n",
       "      <td>352</td>\n",
       "    </tr>\n",
       "    <tr>\n",
       "      <td>5</td>\n",
       "      <td>Darth Bane: Dynasty of Evil</td>\n",
       "      <td>Drew Karpyshyn</td>\n",
       "      <td>https://images-na.ssl-images-amazon.com/images...</td>\n",
       "      <td>336</td>\n",
       "    </tr>\n",
       "    <tr>\n",
       "      <td>6</td>\n",
       "      <td>Heir to the Empire</td>\n",
       "      <td>Timothy Zahn</td>\n",
       "      <td>https://d188rgcu4zozwl.cloudfront.net/content/...</td>\n",
       "      <td>416</td>\n",
       "    </tr>\n",
       "    <tr>\n",
       "      <td>7</td>\n",
       "      <td>Dark Force Rising</td>\n",
       "      <td>Timothy Zahn</td>\n",
       "      <td>https://d188rgcu4zozwl.cloudfront.net/content/...</td>\n",
       "      <td>450</td>\n",
       "    </tr>\n",
       "  </tbody>\n",
       "</table>\n",
       "</div>"
      ],
      "text/plain": [
       "                             title          author  \\\n",
       "0                           Tarkin    James Luceno   \n",
       "1                        Dark Lord    James Luceno   \n",
       "2                            Revan  Drew Karpyshyn   \n",
       "3  Darth Bane: Path of Destruction  Drew Karpyshyn   \n",
       "4          Darth Bane: Rule of Two  Drew Karpyshyn   \n",
       "5      Darth Bane: Dynasty of Evil  Drew Karpyshyn   \n",
       "6               Heir to the Empire    Timothy Zahn   \n",
       "7                Dark Force Rising    Timothy Zahn   \n",
       "\n",
       "                                               cover  pages  \n",
       "0  https://images-na.ssl-images-amazon.com/images...    354  \n",
       "1  https://d188rgcu4zozwl.cloudfront.net/content/...    369  \n",
       "2  https://images-na.ssl-images-amazon.com/images...    368  \n",
       "3  https://images-na.ssl-images-amazon.com/images...    324  \n",
       "4  https://images-na.ssl-images-amazon.com/images...    352  \n",
       "5  https://images-na.ssl-images-amazon.com/images...    336  \n",
       "6  https://d188rgcu4zozwl.cloudfront.net/content/...    416  \n",
       "7  https://d188rgcu4zozwl.cloudfront.net/content/...    450  "
      ]
     },
     "execution_count": 27,
     "metadata": {},
     "output_type": "execute_result"
    }
   ],
   "source": [
    "df_books"
   ]
  },
  {
   "cell_type": "code",
   "execution_count": 18,
   "metadata": {},
   "outputs": [],
   "source": [
    "total_books = df_books['title'].count()\n",
    "total_pages = df_books['pages'].sum()"
   ]
  },
  {
   "cell_type": "code",
   "execution_count": 19,
   "metadata": {},
   "outputs": [
    {
     "name": "stdout",
     "output_type": "stream",
     "text": [
      "2021: \n",
      "Total Books Read : 8 \n",
      "Total Pages Read: 2969\n"
     ]
    }
   ],
   "source": [
    "print('2021: \\nTotal Books Read : ' + str(total_books) + ' \\nTotal Pages Read: ' + str(total_pages))"
   ]
  },
  {
   "cell_type": "code",
   "execution_count": 29,
   "metadata": {},
   "outputs": [],
   "source": [
    "# let's change the layout before moving on\n",
    "\n",
    "df_books = df_books[['cover','title','author','pages']]"
   ]
  },
  {
   "cell_type": "code",
   "execution_count": 30,
   "metadata": {
    "scrolled": false
   },
   "outputs": [
    {
     "data": {
      "text/html": [
       "<table border=\"1\" class=\"dataframe\">\n",
       "  <thead>\n",
       "    <tr style=\"text-align: right;\">\n",
       "      <th></th>\n",
       "      <th>cover</th>\n",
       "      <th>title</th>\n",
       "      <th>author</th>\n",
       "      <th>pages</th>\n",
       "    </tr>\n",
       "  </thead>\n",
       "  <tbody>\n",
       "    <tr>\n",
       "      <th>0</th>\n",
       "      <td><img src=\"https://images-na.ssl-images-amazon.com/images/I/81AwzEFa+dL.jpg\" width=\"120\" ></td>\n",
       "      <td>Tarkin</td>\n",
       "      <td>James Luceno</td>\n",
       "      <td>354</td>\n",
       "    </tr>\n",
       "    <tr>\n",
       "      <th>1</th>\n",
       "      <td><img src=\"https://d188rgcu4zozwl.cloudfront.net/content/B00513HXAG/resources/1713329629\" width=\"120\" ></td>\n",
       "      <td>Dark Lord</td>\n",
       "      <td>James Luceno</td>\n",
       "      <td>369</td>\n",
       "    </tr>\n",
       "    <tr>\n",
       "      <th>2</th>\n",
       "      <td><img src=\"https://images-na.ssl-images-amazon.com/images/I/81pVtrJRfhL.jpg\" width=\"120\" ></td>\n",
       "      <td>Revan</td>\n",
       "      <td>Drew Karpyshyn</td>\n",
       "      <td>368</td>\n",
       "    </tr>\n",
       "    <tr>\n",
       "      <th>3</th>\n",
       "      <td><img src=\"https://images-na.ssl-images-amazon.com/images/I/919IhaKl1qL.jpg\" width=\"120\" ></td>\n",
       "      <td>Darth Bane: Path of Destruction</td>\n",
       "      <td>Drew Karpyshyn</td>\n",
       "      <td>324</td>\n",
       "    </tr>\n",
       "    <tr>\n",
       "      <th>4</th>\n",
       "      <td><img src=\"https://images-na.ssl-images-amazon.com/images/I/91Nsu5lwOkL.jpg\" width=\"120\" ></td>\n",
       "      <td>Darth Bane: Rule of Two</td>\n",
       "      <td>Drew Karpyshyn</td>\n",
       "      <td>352</td>\n",
       "    </tr>\n",
       "    <tr>\n",
       "      <th>5</th>\n",
       "      <td><img src=\"https://images-na.ssl-images-amazon.com/images/I/91hCdXC3yIL.jpg\" width=\"120\" ></td>\n",
       "      <td>Darth Bane: Dynasty of Evil</td>\n",
       "      <td>Drew Karpyshyn</td>\n",
       "      <td>336</td>\n",
       "    </tr>\n",
       "    <tr>\n",
       "      <th>6</th>\n",
       "      <td><img src=\"https://d188rgcu4zozwl.cloudfront.net/content/B00513HX7Y/resources/366133765\" width=\"120\" ></td>\n",
       "      <td>Heir to the Empire</td>\n",
       "      <td>Timothy Zahn</td>\n",
       "      <td>416</td>\n",
       "    </tr>\n",
       "    <tr>\n",
       "      <th>7</th>\n",
       "      <td><img src=\"https://d188rgcu4zozwl.cloudfront.net/content/B00513HKF4/resources/1863583663\" width=\"120\" ></td>\n",
       "      <td>Dark Force Rising</td>\n",
       "      <td>Timothy Zahn</td>\n",
       "      <td>450</td>\n",
       "    </tr>\n",
       "  </tbody>\n",
       "</table>"
      ],
      "text/plain": [
       "<IPython.core.display.HTML object>"
      ]
     },
     "execution_count": 30,
     "metadata": {},
     "output_type": "execute_result"
    }
   ],
   "source": [
    "# Rendering the images in the dataframe using the HTML method with formatters\n",
    "\n",
    "HTML(df_books.to_html(escape=False,formatters=dict(cover=path_to_image_html)))"
   ]
  },
  {
   "cell_type": "code",
   "execution_count": null,
   "metadata": {},
   "outputs": [],
   "source": []
  },
  {
   "cell_type": "code",
   "execution_count": 31,
   "metadata": {},
   "outputs": [],
   "source": [
    "# you can also not use formatters but create the html in the field itself\n",
    "df_books_alt = df_books.copy()"
   ]
  },
  {
   "cell_type": "code",
   "execution_count": 32,
   "metadata": {},
   "outputs": [],
   "source": [
    "df_books_alt['cover'] = '<img src=\"'+ df_books_alt['cover'] + '\">'"
   ]
  },
  {
   "cell_type": "code",
   "execution_count": 33,
   "metadata": {
    "scrolled": false
   },
   "outputs": [
    {
     "data": {
      "text/html": [
       "<table border=\"1\" class=\"dataframe\">\n",
       "  <thead>\n",
       "    <tr style=\"text-align: right;\">\n",
       "      <th></th>\n",
       "      <th>cover</th>\n",
       "      <th>title</th>\n",
       "      <th>author</th>\n",
       "      <th>pages</th>\n",
       "    </tr>\n",
       "  </thead>\n",
       "  <tbody>\n",
       "    <tr>\n",
       "      <th>0</th>\n",
       "      <td><img src=\"https://images-na.ssl-images-amazon.com/images/I/81AwzEFa+dL.jpg\"></td>\n",
       "      <td>Tarkin</td>\n",
       "      <td>James Luceno</td>\n",
       "      <td>354</td>\n",
       "    </tr>\n",
       "    <tr>\n",
       "      <th>1</th>\n",
       "      <td><img src=\"https://d188rgcu4zozwl.cloudfront.net/content/B00513HXAG/resources/1713329629\"></td>\n",
       "      <td>Dark Lord</td>\n",
       "      <td>James Luceno</td>\n",
       "      <td>369</td>\n",
       "    </tr>\n",
       "    <tr>\n",
       "      <th>2</th>\n",
       "      <td><img src=\"https://images-na.ssl-images-amazon.com/images/I/81pVtrJRfhL.jpg\"></td>\n",
       "      <td>Revan</td>\n",
       "      <td>Drew Karpyshyn</td>\n",
       "      <td>368</td>\n",
       "    </tr>\n",
       "    <tr>\n",
       "      <th>3</th>\n",
       "      <td><img src=\"https://images-na.ssl-images-amazon.com/images/I/919IhaKl1qL.jpg\"></td>\n",
       "      <td>Darth Bane: Path of Destruction</td>\n",
       "      <td>Drew Karpyshyn</td>\n",
       "      <td>324</td>\n",
       "    </tr>\n",
       "    <tr>\n",
       "      <th>4</th>\n",
       "      <td><img src=\"https://images-na.ssl-images-amazon.com/images/I/91Nsu5lwOkL.jpg\"></td>\n",
       "      <td>Darth Bane: Rule of Two</td>\n",
       "      <td>Drew Karpyshyn</td>\n",
       "      <td>352</td>\n",
       "    </tr>\n",
       "    <tr>\n",
       "      <th>5</th>\n",
       "      <td><img src=\"https://images-na.ssl-images-amazon.com/images/I/91hCdXC3yIL.jpg\"></td>\n",
       "      <td>Darth Bane: Dynasty of Evil</td>\n",
       "      <td>Drew Karpyshyn</td>\n",
       "      <td>336</td>\n",
       "    </tr>\n",
       "    <tr>\n",
       "      <th>6</th>\n",
       "      <td><img src=\"https://d188rgcu4zozwl.cloudfront.net/content/B00513HX7Y/resources/366133765\"></td>\n",
       "      <td>Heir to the Empire</td>\n",
       "      <td>Timothy Zahn</td>\n",
       "      <td>416</td>\n",
       "    </tr>\n",
       "    <tr>\n",
       "      <th>7</th>\n",
       "      <td><img src=\"https://d188rgcu4zozwl.cloudfront.net/content/B00513HKF4/resources/1863583663\"></td>\n",
       "      <td>Dark Force Rising</td>\n",
       "      <td>Timothy Zahn</td>\n",
       "      <td>450</td>\n",
       "    </tr>\n",
       "  </tbody>\n",
       "</table>"
      ],
      "text/plain": [
       "<IPython.core.display.HTML object>"
      ]
     },
     "execution_count": 33,
     "metadata": {},
     "output_type": "execute_result"
    }
   ],
   "source": [
    "HTML(df_books_alt.to_html(escape=False))"
   ]
  },
  {
   "cell_type": "code",
   "execution_count": null,
   "metadata": {},
   "outputs": [],
   "source": []
  },
  {
   "cell_type": "code",
   "execution_count": 34,
   "metadata": {},
   "outputs": [
    {
     "data": {
      "text/plain": [
       "'<table border=\"1\" class=\"dataframe\">\\n  <thead>\\n    <tr style=\"text-align: right;\">\\n      <th></th>\\n      <th>cover</th>\\n      <th>title</th>\\n      <th>author</th>\\n      <th>pages</th>\\n    </tr>\\n  </thead>\\n  <tbody>\\n    <tr>\\n      <th>0</th>\\n      <td><img src=\"https://images-na.ssl-images-amazon.com/images/I/81AwzEFa+dL.jpg\" width=\"120\" ></td>\\n      <td>Tarkin</td>\\n      <td>James Luceno</td>\\n      <td>354</td>\\n    </tr>\\n    <tr>\\n      <th>1</th>\\n      <td><img src=\"https://d188rgcu4zozwl.cloudfront.net/content/B00513HXAG/resources/1713329629\" width=\"120\" ></td>\\n      <td>Dark Lord</td>\\n      <td>James Luceno</td>\\n      <td>369</td>\\n    </tr>\\n    <tr>\\n      <th>2</th>\\n      <td><img src=\"https://images-na.ssl-images-amazon.com/images/I/81pVtrJRfhL.jpg\" width=\"120\" ></td>\\n      <td>Revan</td>\\n      <td>Drew Karpyshyn</td>\\n      <td>368</td>\\n    </tr>\\n    <tr>\\n      <th>3</th>\\n      <td><img src=\"https://images-na.ssl-images-amazon.com/images/I/919IhaKl1qL.jpg\" width=\"120\" ></td>\\n      <td>Darth Bane: Path of Destruction</td>\\n      <td>Drew Karpyshyn</td>\\n      <td>324</td>\\n    </tr>\\n    <tr>\\n      <th>4</th>\\n      <td><img src=\"https://images-na.ssl-images-amazon.com/images/I/91Nsu5lwOkL.jpg\" width=\"120\" ></td>\\n      <td>Darth Bane: Rule of Two</td>\\n      <td>Drew Karpyshyn</td>\\n      <td>352</td>\\n    </tr>\\n    <tr>\\n      <th>5</th>\\n      <td><img src=\"https://images-na.ssl-images-amazon.com/images/I/91hCdXC3yIL.jpg\" width=\"120\" ></td>\\n      <td>Darth Bane: Dynasty of Evil</td>\\n      <td>Drew Karpyshyn</td>\\n      <td>336</td>\\n    </tr>\\n    <tr>\\n      <th>6</th>\\n      <td><img src=\"https://d188rgcu4zozwl.cloudfront.net/content/B00513HX7Y/resources/366133765\" width=\"120\" ></td>\\n      <td>Heir to the Empire</td>\\n      <td>Timothy Zahn</td>\\n      <td>416</td>\\n    </tr>\\n    <tr>\\n      <th>7</th>\\n      <td><img src=\"https://d188rgcu4zozwl.cloudfront.net/content/B00513HKF4/resources/1863583663\" width=\"120\" ></td>\\n      <td>Dark Force Rising</td>\\n      <td>Timothy Zahn</td>\\n      <td>450</td>\\n    </tr>\\n  </tbody>\\n</table>'"
      ]
     },
     "execution_count": 34,
     "metadata": {},
     "output_type": "execute_result"
    }
   ],
   "source": [
    "# to render the dataframe as an html table\n",
    "df_books.to_html(escape=False, formatters=dict(cover=path_to_image_html))"
   ]
  },
  {
   "cell_type": "code",
   "execution_count": null,
   "metadata": {},
   "outputs": [],
   "source": [
    "# Saving the dataframe as a webpage\n",
    "df_books.to_html('webpage.html',escape=False, formatters=dict(cover=path_to_image_html))"
   ]
  }
 ],
 "metadata": {
  "kernelspec": {
   "display_name": "Python 3",
   "language": "python",
   "name": "python3"
  },
  "language_info": {
   "codemirror_mode": {
    "name": "ipython",
    "version": 3
   },
   "file_extension": ".py",
   "mimetype": "text/x-python",
   "name": "python",
   "nbconvert_exporter": "python",
   "pygments_lexer": "ipython3",
   "version": "3.6.9"
  }
 },
 "nbformat": 4,
 "nbformat_minor": 2
}
