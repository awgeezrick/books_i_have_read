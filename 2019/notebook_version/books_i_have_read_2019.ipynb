{
 "cells": [
  {
   "cell_type": "code",
   "execution_count": 1,
   "metadata": {},
   "outputs": [],
   "source": [
    "import pandas as pd\n",
    "import json\n",
    "from IPython.core.display import HTML"
   ]
  },
  {
   "cell_type": "code",
   "execution_count": 2,
   "metadata": {},
   "outputs": [],
   "source": [
    "with open('book_data.json') as f:\n",
    "  books_data = json.load(f)\n"
   ]
  },
  {
   "cell_type": "code",
   "execution_count": 3,
   "metadata": {},
   "outputs": [],
   "source": [
    "# Converting links to html tags\n",
    "def path_to_image_html(path):\n",
    "    return '<img src=\"'+ path + '\" width=\"120\" >'\n"
   ]
  },
  {
   "cell_type": "code",
   "execution_count": null,
   "metadata": {},
   "outputs": [],
   "source": []
  },
  {
   "cell_type": "code",
   "execution_count": 4,
   "metadata": {},
   "outputs": [],
   "source": [
    "df_books = pd.DataFrame(data=books_data['books'])"
   ]
  },
  {
   "cell_type": "code",
   "execution_count": 5,
   "metadata": {},
   "outputs": [
    {
     "data": {
      "text/html": [
       "<div>\n",
       "<style scoped>\n",
       "    .dataframe tbody tr th:only-of-type {\n",
       "        vertical-align: middle;\n",
       "    }\n",
       "\n",
       "    .dataframe tbody tr th {\n",
       "        vertical-align: top;\n",
       "    }\n",
       "\n",
       "    .dataframe thead th {\n",
       "        text-align: right;\n",
       "    }\n",
       "</style>\n",
       "<table border=\"1\" class=\"dataframe\">\n",
       "  <thead>\n",
       "    <tr style=\"text-align: right;\">\n",
       "      <th></th>\n",
       "      <th>title</th>\n",
       "      <th>author</th>\n",
       "      <th>cover</th>\n",
       "      <th>pages</th>\n",
       "    </tr>\n",
       "  </thead>\n",
       "  <tbody>\n",
       "    <tr>\n",
       "      <td>0</td>\n",
       "      <td>Shantaram</td>\n",
       "      <td>Gregory David Robertson</td>\n",
       "      <td>https://images-na.ssl-images-amazon.com/images...</td>\n",
       "      <td>944</td>\n",
       "    </tr>\n",
       "    <tr>\n",
       "      <td>1</td>\n",
       "      <td>The Dinner</td>\n",
       "      <td>Herman Koch</td>\n",
       "      <td>https://images-na.ssl-images-amazon.com/images...</td>\n",
       "      <td>320</td>\n",
       "    </tr>\n",
       "    <tr>\n",
       "      <td>2</td>\n",
       "      <td>The Black Book</td>\n",
       "      <td>James Patterson</td>\n",
       "      <td>https://images-na.ssl-images-amazon.com/images...</td>\n",
       "      <td>448</td>\n",
       "    </tr>\n",
       "    <tr>\n",
       "      <td>3</td>\n",
       "      <td>Precious Cargo</td>\n",
       "      <td>Craig Davidson</td>\n",
       "      <td>https://images-na.ssl-images-amazon.com/images...</td>\n",
       "      <td>320</td>\n",
       "    </tr>\n",
       "    <tr>\n",
       "      <td>4</td>\n",
       "      <td>Night</td>\n",
       "      <td>Elie Wiesel</td>\n",
       "      <td>https://images-na.ssl-images-amazon.com/images...</td>\n",
       "      <td>120</td>\n",
       "    </tr>\n",
       "  </tbody>\n",
       "</table>\n",
       "</div>"
      ],
      "text/plain": [
       "            title                   author  \\\n",
       "0       Shantaram  Gregory David Robertson   \n",
       "1      The Dinner              Herman Koch   \n",
       "2  The Black Book          James Patterson   \n",
       "3  Precious Cargo           Craig Davidson   \n",
       "4           Night              Elie Wiesel   \n",
       "\n",
       "                                               cover  pages  \n",
       "0  https://images-na.ssl-images-amazon.com/images...    944  \n",
       "1  https://images-na.ssl-images-amazon.com/images...    320  \n",
       "2  https://images-na.ssl-images-amazon.com/images...    448  \n",
       "3  https://images-na.ssl-images-amazon.com/images...    320  \n",
       "4  https://images-na.ssl-images-amazon.com/images...    120  "
      ]
     },
     "execution_count": 5,
     "metadata": {},
     "output_type": "execute_result"
    }
   ],
   "source": [
    "df_books.head()"
   ]
  },
  {
   "cell_type": "code",
   "execution_count": 6,
   "metadata": {},
   "outputs": [],
   "source": [
    "total_books = df_books['title'].count()\n",
    "total_pages = df_books['pages'].sum()"
   ]
  },
  {
   "cell_type": "code",
   "execution_count": 7,
   "metadata": {},
   "outputs": [
    {
     "name": "stdout",
     "output_type": "stream",
     "text": [
      "2019: \n",
      "Total Books Read : 22 \n",
      "Total Pages Read: 6719\n"
     ]
    }
   ],
   "source": [
    "print('2019: \\nTotal Books Read : ' + str(total_books) + ' \\nTotal Pages Read: ' + str(total_pages))"
   ]
  },
  {
   "cell_type": "code",
   "execution_count": 8,
   "metadata": {},
   "outputs": [],
   "source": [
    "# let's change the layout before moving on\n",
    "\n",
    "df_books = df_books[['cover','title','author','pages']]"
   ]
  },
  {
   "cell_type": "code",
   "execution_count": 9,
   "metadata": {
    "scrolled": false
   },
   "outputs": [
    {
     "data": {
      "text/html": [
       "<table border=\"1\" class=\"dataframe\">\n",
       "  <thead>\n",
       "    <tr style=\"text-align: right;\">\n",
       "      <th></th>\n",
       "      <th>cover</th>\n",
       "      <th>title</th>\n",
       "      <th>author</th>\n",
       "      <th>pages</th>\n",
       "    </tr>\n",
       "  </thead>\n",
       "  <tbody>\n",
       "    <tr>\n",
       "      <th>0</th>\n",
       "      <td><img src=\"https://images-na.ssl-images-amazon.com/images/I/51fk-WfzitL._SX331_BO1,204,203,200_.jpg\" width=\"120\" ></td>\n",
       "      <td>Shantaram</td>\n",
       "      <td>Gregory David Robertson</td>\n",
       "      <td>944</td>\n",
       "    </tr>\n",
       "    <tr>\n",
       "      <th>1</th>\n",
       "      <td><img src=\"https://images-na.ssl-images-amazon.com/images/I/51aeM33DulL._SX322_BO1,204,203,200_.jpg\" width=\"120\" ></td>\n",
       "      <td>The Dinner</td>\n",
       "      <td>Herman Koch</td>\n",
       "      <td>320</td>\n",
       "    </tr>\n",
       "    <tr>\n",
       "      <th>2</th>\n",
       "      <td><img src=\"https://images-na.ssl-images-amazon.com/images/I/516fW+caq8L._SX327_BO1,204,203,200_.jpg\" width=\"120\" ></td>\n",
       "      <td>The Black Book</td>\n",
       "      <td>James Patterson</td>\n",
       "      <td>448</td>\n",
       "    </tr>\n",
       "    <tr>\n",
       "      <th>3</th>\n",
       "      <td><img src=\"https://images-na.ssl-images-amazon.com/images/I/51n7g4nRbAL._SX346_BO1,204,203,200_.jpg\" width=\"120\" ></td>\n",
       "      <td>Precious Cargo</td>\n",
       "      <td>Craig Davidson</td>\n",
       "      <td>320</td>\n",
       "    </tr>\n",
       "    <tr>\n",
       "      <th>4</th>\n",
       "      <td><img src=\"https://images-na.ssl-images-amazon.com/images/I/41kkT0WKkXL._SX310_BO1,204,203,200_.jpg\" width=\"120\" ></td>\n",
       "      <td>Night</td>\n",
       "      <td>Elie Wiesel</td>\n",
       "      <td>120</td>\n",
       "    </tr>\n",
       "    <tr>\n",
       "      <th>5</th>\n",
       "      <td><img src=\"https://images-na.ssl-images-amazon.com/images/I/41QOcVOusCL._SX327_BO1,204,203,200_.jpg\" width=\"120\" ></td>\n",
       "      <td>Dawn</td>\n",
       "      <td>Elie Wiesel</td>\n",
       "      <td>81</td>\n",
       "    </tr>\n",
       "    <tr>\n",
       "      <th>6</th>\n",
       "      <td><img src=\"https://images-na.ssl-images-amazon.com/images/I/41EG8BjvslL._SX331_BO1,204,203,200_.jpg\" width=\"120\" ></td>\n",
       "      <td>Day</td>\n",
       "      <td>Elie Wiesel</td>\n",
       "      <td>109</td>\n",
       "    </tr>\n",
       "    <tr>\n",
       "      <th>7</th>\n",
       "      <td><img src=\"https://images-na.ssl-images-amazon.com/images/I/41M+gZ-KLKL._SX322_BO1,204,203,200_.jpg\" width=\"120\" ></td>\n",
       "      <td>Overcoming Life's Disappointments</td>\n",
       "      <td>Harold S. Kushner</td>\n",
       "      <td>192</td>\n",
       "    </tr>\n",
       "    <tr>\n",
       "      <th>8</th>\n",
       "      <td><img src=\"https://images-na.ssl-images-amazon.com/images/I/51bcAiqnUlL._SX273_BO1,204,203,200_.jpg\" width=\"120\" ></td>\n",
       "      <td>The Girl Who Loved Tom Gordon</td>\n",
       "      <td>Stephen King</td>\n",
       "      <td>320</td>\n",
       "    </tr>\n",
       "    <tr>\n",
       "      <th>9</th>\n",
       "      <td><img src=\"https://refactoring.guru/images/patterns/book/web-cover-en-2x.png\" width=\"120\" ></td>\n",
       "      <td>Dive Into Design Patterns</td>\n",
       "      <td>Alexander Schvets</td>\n",
       "      <td>406</td>\n",
       "    </tr>\n",
       "    <tr>\n",
       "      <th>10</th>\n",
       "      <td><img src=\"https://images-na.ssl-images-amazon.com/images/I/41lZKXt1+ML._SX332_BO1,204,203,200_.jpg\" width=\"120\" ></td>\n",
       "      <td>Sapiens</td>\n",
       "      <td>Yuval Noah Harari</td>\n",
       "      <td>464</td>\n",
       "    </tr>\n",
       "    <tr>\n",
       "      <th>11</th>\n",
       "      <td><img src=\"https://images-na.ssl-images-amazon.com/images/I/51BR4QBBZ9L._SX323_BO1,204,203,200_.jpg\" width=\"120\" ></td>\n",
       "      <td>In A Cottage In A Wood</td>\n",
       "      <td>Cass Green</td>\n",
       "      <td>320</td>\n",
       "    </tr>\n",
       "    <tr>\n",
       "      <th>12</th>\n",
       "      <td><img src=\"https://images-na.ssl-images-amazon.com/images/I/51ALhG+PdAL._SY344_BO1,204,203,200_.jpg\" width=\"120\" ></td>\n",
       "      <td>The Soul of Sponsorship: The Friendship of Fr.Ed Dowling, S.J., and Bill Wilson in Letters</td>\n",
       "      <td>Robert Fitzgerald, S.J.</td>\n",
       "      <td>160</td>\n",
       "    </tr>\n",
       "    <tr>\n",
       "      <th>13</th>\n",
       "      <td><img src=\"https://images-na.ssl-images-amazon.com/images/I/51Md+Jj+MXL._SX321_BO1,204,203,200_.jpg\" width=\"120\" ></td>\n",
       "      <td>Duma Key</td>\n",
       "      <td>Stephen King</td>\n",
       "      <td>640</td>\n",
       "    </tr>\n",
       "    <tr>\n",
       "      <th>14</th>\n",
       "      <td><img src=\"https://images-na.ssl-images-amazon.com/images/I/41RoomWQmLL._SX308_BO1,204,203,200_.jpg\" width=\"120\" ></td>\n",
       "      <td>A New Pair of Glasses</td>\n",
       "      <td>Chuck 'C'</td>\n",
       "      <td>201</td>\n",
       "    </tr>\n",
       "    <tr>\n",
       "      <th>15</th>\n",
       "      <td><img src=\"https://images-na.ssl-images-amazon.com/images/I/51NJOD0ItCL._SX314_BO1,204,203,200_.jpg\" width=\"120\" ></td>\n",
       "      <td>Darth Plagueis</td>\n",
       "      <td>James Luceno</td>\n",
       "      <td>498</td>\n",
       "    </tr>\n",
       "    <tr>\n",
       "      <th>16</th>\n",
       "      <td><img src=\"https://images-na.ssl-images-amazon.com/images/I/41LA3932v4L._SX322_BO1,204,203,200_.jpg\" width=\"120\" ></td>\n",
       "      <td>Meditations</td>\n",
       "      <td>Macus Aurelius</td>\n",
       "      <td>256</td>\n",
       "    </tr>\n",
       "    <tr>\n",
       "      <th>17</th>\n",
       "      <td><img src=\"https://images-na.ssl-images-amazon.com/images/I/41YYbVCk+fL._SY344_BO1,204,203,200_.jpg\" width=\"120\" ></td>\n",
       "      <td>The Obstacle is the Way</td>\n",
       "      <td>Ryan Holiday</td>\n",
       "      <td>224</td>\n",
       "    </tr>\n",
       "    <tr>\n",
       "      <th>18</th>\n",
       "      <td><img src=\"https://images-na.ssl-images-amazon.com/images/I/51Ivgbp9teL._SX331_BO1,204,203,200_.jpg\" width=\"120\" ></td>\n",
       "      <td>Open Veins of Latin America</td>\n",
       "      <td>Eduardo Galeano</td>\n",
       "      <td>360</td>\n",
       "    </tr>\n",
       "    <tr>\n",
       "      <th>19</th>\n",
       "      <td><img src=\"https://images-na.ssl-images-amazon.com/images/I/51SxWYZ1C0L._SX311_BO1,204,203,200_.jpg\" width=\"120\" ></td>\n",
       "      <td>The Enchiridion</td>\n",
       "      <td>Epictetus</td>\n",
       "      <td>64</td>\n",
       "    </tr>\n",
       "    <tr>\n",
       "      <th>20</th>\n",
       "      <td><img src=\"https://images-na.ssl-images-amazon.com/images/I/412WMYR6s6L._SX326_BO1,204,203,200_.jpg\" width=\"120\" ></td>\n",
       "      <td>Old Man and the Sea</td>\n",
       "      <td>Ernest Hemingway</td>\n",
       "      <td>128</td>\n",
       "    </tr>\n",
       "    <tr>\n",
       "      <th>21</th>\n",
       "      <td><img src=\"https://images-na.ssl-images-amazon.com/images/I/41UhSraFSxL._SX311_BO1,204,203,200_.jpg\" width=\"120\" ></td>\n",
       "      <td>The Art of Living</td>\n",
       "      <td>Epictetus</td>\n",
       "      <td>144</td>\n",
       "    </tr>\n",
       "  </tbody>\n",
       "</table>"
      ],
      "text/plain": [
       "<IPython.core.display.HTML object>"
      ]
     },
     "execution_count": 9,
     "metadata": {},
     "output_type": "execute_result"
    }
   ],
   "source": [
    "# Rendering the images in the dataframe using the HTML method with formatters\n",
    "\n",
    "HTML(df_books.to_html(escape=False,formatters=dict(cover=path_to_image_html)))"
   ]
  },
  {
   "cell_type": "code",
   "execution_count": null,
   "metadata": {},
   "outputs": [],
   "source": []
  },
  {
   "cell_type": "code",
   "execution_count": null,
   "metadata": {},
   "outputs": [],
   "source": [
    "# you can also not use formatters but create the html in the field itself\n",
    "df_books_alt = df_books.copy()"
   ]
  },
  {
   "cell_type": "code",
   "execution_count": null,
   "metadata": {},
   "outputs": [],
   "source": [
    "df_books_alt['cover'] = '<img src=\"'+ df_books_alt['cover'] + '\">'"
   ]
  },
  {
   "cell_type": "code",
   "execution_count": null,
   "metadata": {
    "scrolled": false
   },
   "outputs": [],
   "source": [
    "HTML(df_books_alt.to_html(escape=False))"
   ]
  },
  {
   "cell_type": "code",
   "execution_count": null,
   "metadata": {},
   "outputs": [],
   "source": []
  },
  {
   "cell_type": "code",
   "execution_count": null,
   "metadata": {},
   "outputs": [],
   "source": [
    "# to render the dataframe as an html table\n",
    "df_books.to_html(escape=False, formatters=dict(cover=path_to_image_html))"
   ]
  },
  {
   "cell_type": "code",
   "execution_count": null,
   "metadata": {},
   "outputs": [],
   "source": [
    "# Saving the dataframe as a webpage\n",
    "df_books.to_html('webpage.html',escape=False, formatters=dict(cover=path_to_image_html))"
   ]
  }
 ],
 "metadata": {
  "kernelspec": {
   "display_name": "Python 3",
   "language": "python",
   "name": "python3"
  },
  "language_info": {
   "codemirror_mode": {
    "name": "ipython",
    "version": 3
   },
   "file_extension": ".py",
   "mimetype": "text/x-python",
   "name": "python",
   "nbconvert_exporter": "python",
   "pygments_lexer": "ipython3",
   "version": "3.6.9"
  }
 },
 "nbformat": 4,
 "nbformat_minor": 2
}
