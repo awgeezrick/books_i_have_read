{
 "cells": [
  {
   "cell_type": "code",
   "execution_count": 16,
   "metadata": {},
   "outputs": [],
   "source": [
    "import pandas as pd\n",
    "import json\n",
    "from IPython.core.display import HTML"
   ]
  },
  {
   "cell_type": "code",
   "execution_count": 17,
   "metadata": {},
   "outputs": [],
   "source": [
    "with open('book_data.json') as f:\n",
    "  books_data = json.load(f)\n"
   ]
  },
  {
   "cell_type": "code",
   "execution_count": 18,
   "metadata": {},
   "outputs": [],
   "source": [
    "# Converting links to html tags\n",
    "def path_to_image_html(path):\n",
    "    return '<img src=\"'+ path + '\" width=\"120\" >'\n"
   ]
  },
  {
   "cell_type": "code",
   "execution_count": null,
   "metadata": {},
   "outputs": [],
   "source": []
  },
  {
   "cell_type": "code",
   "execution_count": 19,
   "metadata": {},
   "outputs": [],
   "source": [
    "df_books = pd.DataFrame(data=books_data['books'])"
   ]
  },
  {
   "cell_type": "code",
   "execution_count": 20,
   "metadata": {},
   "outputs": [
    {
     "data": {
      "text/html": [
       "<div>\n",
       "<style scoped>\n",
       "    .dataframe tbody tr th:only-of-type {\n",
       "        vertical-align: middle;\n",
       "    }\n",
       "\n",
       "    .dataframe tbody tr th {\n",
       "        vertical-align: top;\n",
       "    }\n",
       "\n",
       "    .dataframe thead th {\n",
       "        text-align: right;\n",
       "    }\n",
       "</style>\n",
       "<table border=\"1\" class=\"dataframe\">\n",
       "  <thead>\n",
       "    <tr style=\"text-align: right;\">\n",
       "      <th></th>\n",
       "      <th>title</th>\n",
       "      <th>author</th>\n",
       "      <th>cover</th>\n",
       "      <th>pages</th>\n",
       "    </tr>\n",
       "  </thead>\n",
       "  <tbody>\n",
       "    <tr>\n",
       "      <td>0</td>\n",
       "      <td>1984</td>\n",
       "      <td>George Orwell</td>\n",
       "      <td>https://images-na.ssl-images-amazon.com/images...</td>\n",
       "      <td>336</td>\n",
       "    </tr>\n",
       "    <tr>\n",
       "      <td>1</td>\n",
       "      <td>Timescape</td>\n",
       "      <td>Gregory Benford</td>\n",
       "      <td>https://m.media-amazon.com/images/I/510gF2m-+D...</td>\n",
       "      <td>514</td>\n",
       "    </tr>\n",
       "    <tr>\n",
       "      <td>2</td>\n",
       "      <td>The Judgement and In the Penal Colony</td>\n",
       "      <td>Franz Kafka</td>\n",
       "      <td>https://images-na.ssl-images-amazon.com/images...</td>\n",
       "      <td>55</td>\n",
       "    </tr>\n",
       "    <tr>\n",
       "      <td>3</td>\n",
       "      <td>On the Otherside of Hyperactivity: An Anthropo...</td>\n",
       "      <td>Marc Andrew Goodwin</td>\n",
       "      <td>https://via.placeholder.com/230x338?text=No+Cover</td>\n",
       "      <td>152</td>\n",
       "    </tr>\n",
       "    <tr>\n",
       "      <td>4</td>\n",
       "      <td>Otherland Vol.1</td>\n",
       "      <td>Tad Williams</td>\n",
       "      <td>https://images-na.ssl-images-amazon.com/images...</td>\n",
       "      <td>800</td>\n",
       "    </tr>\n",
       "  </tbody>\n",
       "</table>\n",
       "</div>"
      ],
      "text/plain": [
       "                                               title               author  \\\n",
       "0                                               1984        George Orwell   \n",
       "1                                          Timescape      Gregory Benford   \n",
       "2              The Judgement and In the Penal Colony          Franz Kafka   \n",
       "3  On the Otherside of Hyperactivity: An Anthropo...  Marc Andrew Goodwin   \n",
       "4                                    Otherland Vol.1         Tad Williams   \n",
       "\n",
       "                                               cover  pages  \n",
       "0  https://images-na.ssl-images-amazon.com/images...    336  \n",
       "1  https://m.media-amazon.com/images/I/510gF2m-+D...    514  \n",
       "2  https://images-na.ssl-images-amazon.com/images...     55  \n",
       "3  https://via.placeholder.com/230x338?text=No+Cover    152  \n",
       "4  https://images-na.ssl-images-amazon.com/images...    800  "
      ]
     },
     "execution_count": 20,
     "metadata": {},
     "output_type": "execute_result"
    }
   ],
   "source": [
    "df_books.head()"
   ]
  },
  {
   "cell_type": "code",
   "execution_count": 21,
   "metadata": {},
   "outputs": [],
   "source": [
    "total_books = df_books['title'].count()\n",
    "total_pages = df_books['pages'].sum()"
   ]
  },
  {
   "cell_type": "code",
   "execution_count": 22,
   "metadata": {},
   "outputs": [
    {
     "name": "stdout",
     "output_type": "stream",
     "text": [
      "2020: \n",
      "Total Books Read : 24 \n",
      "Total Pages Read: 9801\n"
     ]
    }
   ],
   "source": [
    "print('2020: \\nTotal Books Read : ' + str(total_books) + ' \\nTotal Pages Read: ' + str(total_pages))"
   ]
  },
  {
   "cell_type": "code",
   "execution_count": 23,
   "metadata": {},
   "outputs": [],
   "source": [
    "# let's change the layout before moving on\n",
    "\n",
    "df_books = df_books[['cover','title','author','pages']]"
   ]
  },
  {
   "cell_type": "code",
   "execution_count": 24,
   "metadata": {
    "scrolled": false
   },
   "outputs": [
    {
     "data": {
      "text/html": [
       "<table border=\"1\" class=\"dataframe\">\n",
       "  <thead>\n",
       "    <tr style=\"text-align: right;\">\n",
       "      <th></th>\n",
       "      <th>cover</th>\n",
       "      <th>title</th>\n",
       "      <th>author</th>\n",
       "      <th>pages</th>\n",
       "    </tr>\n",
       "  </thead>\n",
       "  <tbody>\n",
       "    <tr>\n",
       "      <th>0</th>\n",
       "      <td><img src=\"https://images-na.ssl-images-amazon.com/images/I/51K84pomCRL._SX305_BO1,204,203,200_.jpg\" width=\"120\" ></td>\n",
       "      <td>1984</td>\n",
       "      <td>George Orwell</td>\n",
       "      <td>336</td>\n",
       "    </tr>\n",
       "    <tr>\n",
       "      <th>1</th>\n",
       "      <td><img src=\"https://m.media-amazon.com/images/I/510gF2m-+DL.jpg\" width=\"120\" ></td>\n",
       "      <td>Timescape</td>\n",
       "      <td>Gregory Benford</td>\n",
       "      <td>514</td>\n",
       "    </tr>\n",
       "    <tr>\n",
       "      <th>2</th>\n",
       "      <td><img src=\"https://images-na.ssl-images-amazon.com/images/I/51wtznVSb4L._SX372_BO1,204,203,200_.jpg\" width=\"120\" ></td>\n",
       "      <td>The Judgement and In the Penal Colony</td>\n",
       "      <td>Franz Kafka</td>\n",
       "      <td>55</td>\n",
       "    </tr>\n",
       "    <tr>\n",
       "      <th>3</th>\n",
       "      <td><img src=\"https://via.placeholder.com/230x338?text=No+Cover\" width=\"120\" ></td>\n",
       "      <td>On the Otherside of Hyperactivity: An Anthropology of ADHD</td>\n",
       "      <td>Marc Andrew Goodwin</td>\n",
       "      <td>152</td>\n",
       "    </tr>\n",
       "    <tr>\n",
       "      <th>4</th>\n",
       "      <td><img src=\"https://images-na.ssl-images-amazon.com/images/I/51kjPMqNXwL._SX298_BO1,204,203,200_.jpg\" width=\"120\" ></td>\n",
       "      <td>Otherland Vol.1</td>\n",
       "      <td>Tad Williams</td>\n",
       "      <td>800</td>\n",
       "    </tr>\n",
       "    <tr>\n",
       "      <th>5</th>\n",
       "      <td><img src=\"https://images-na.ssl-images-amazon.com/images/I/51dosvdSlQL._SX320_BO1,204,203,200_.jpg\" width=\"120\" ></td>\n",
       "      <td>The Outsider</td>\n",
       "      <td>Stephen King</td>\n",
       "      <td>576</td>\n",
       "    </tr>\n",
       "    <tr>\n",
       "      <th>6</th>\n",
       "      <td><img src=\"https://images-na.ssl-images-amazon.com/images/I/41d+aa6UYCL._SX352_BO1,204,203,200_.jpg\" width=\"120\" ></td>\n",
       "      <td>The Obstacle is the Way</td>\n",
       "      <td>Ryan Holiday</td>\n",
       "      <td>224</td>\n",
       "    </tr>\n",
       "    <tr>\n",
       "      <th>7</th>\n",
       "      <td><img src=\"https://images-na.ssl-images-amazon.com/images/I/41UJYnqgwjL._SX355_BO1,204,203,200_.jpg\" width=\"120\" ></td>\n",
       "      <td>A Guide to the Good Life</td>\n",
       "      <td>William B. Irvine</td>\n",
       "      <td>336</td>\n",
       "    </tr>\n",
       "    <tr>\n",
       "      <th>8</th>\n",
       "      <td><img src=\"https://images-na.ssl-images-amazon.com/images/I/41MJoxwmKfL._SX327_BO1,204,203,200_.jpg\" width=\"120\" ></td>\n",
       "      <td>Homo Deus: A Brief History of Tomorrow</td>\n",
       "      <td>Yuval Noah Harari</td>\n",
       "      <td>528</td>\n",
       "    </tr>\n",
       "    <tr>\n",
       "      <th>9</th>\n",
       "      <td><img src=\"https://images-na.ssl-images-amazon.com/images/I/51VtCVGia9L._SX304_BO1,204,203,200_.jpg\" width=\"120\" ></td>\n",
       "      <td>Otherland Vol.2</td>\n",
       "      <td>Tad Williams</td>\n",
       "      <td>784</td>\n",
       "    </tr>\n",
       "    <tr>\n",
       "      <th>10</th>\n",
       "      <td><img src=\"https://images-na.ssl-images-amazon.com/images/I/513Z20c3xaL._SX311_BO1,204,203,200_.jpg\" width=\"120\" ></td>\n",
       "      <td>Otherland Vol.3</td>\n",
       "      <td>Tad Williams</td>\n",
       "      <td>704</td>\n",
       "    </tr>\n",
       "    <tr>\n",
       "      <th>11</th>\n",
       "      <td><img src=\"https://images4.penguinrandomhouse.com/cover/9780807047415\" width=\"120\" ></td>\n",
       "      <td>White Fragility</td>\n",
       "      <td>Robin Diangelo</td>\n",
       "      <td>192</td>\n",
       "    </tr>\n",
       "    <tr>\n",
       "      <th>12</th>\n",
       "      <td><img src=\"https://images-na.ssl-images-amazon.com/images/I/51r4PnxF4ZL._SX301_BO1,204,203,200_.jpg\" width=\"120\" ></td>\n",
       "      <td>The Damnation Game</td>\n",
       "      <td>Clive Barker</td>\n",
       "      <td>433</td>\n",
       "    </tr>\n",
       "    <tr>\n",
       "      <th>13</th>\n",
       "      <td><img src=\"https://m.media-amazon.com/images/I/51xQqhA4EzL.jpg\" width=\"120\" ></td>\n",
       "      <td>Otherland Vol.4</td>\n",
       "      <td>Tad Williams</td>\n",
       "      <td>1072</td>\n",
       "    </tr>\n",
       "    <tr>\n",
       "      <th>14</th>\n",
       "      <td><img src=\"https://m.media-amazon.com/images/I/41kmGKd4CxL.jpg\" width=\"120\" ></td>\n",
       "      <td>Past the Shallows</td>\n",
       "      <td>Favel Parrett</td>\n",
       "      <td>288</td>\n",
       "    </tr>\n",
       "    <tr>\n",
       "      <th>15</th>\n",
       "      <td><img src=\"https://m.media-amazon.com/images/I/41t8hPSY0oL.jpg\" width=\"120\" ></td>\n",
       "      <td>It's Not About You</td>\n",
       "      <td>Tom Rath</td>\n",
       "      <td>34</td>\n",
       "    </tr>\n",
       "    <tr>\n",
       "      <th>16</th>\n",
       "      <td><img src=\"https://i.gr-assets.com/images/S/compressed.photo.goodreads.com/books/1562257627l/76919._SY475_.jpg\" width=\"120\" ></td>\n",
       "      <td>Guns, Germs, and Steel</td>\n",
       "      <td>Jared Diamond</td>\n",
       "      <td>496</td>\n",
       "    </tr>\n",
       "    <tr>\n",
       "      <th>17</th>\n",
       "      <td><img src=\"https://i.gr-assets.com/images/S/compressed.photo.goodreads.com/books/1405546838l/77566.jpg\" width=\"120\" ></td>\n",
       "      <td>Hyperion</td>\n",
       "      <td>Dan Simmons</td>\n",
       "      <td>482</td>\n",
       "    </tr>\n",
       "    <tr>\n",
       "      <th>18</th>\n",
       "      <td><img src=\"https://images-na.ssl-images-amazon.com/images/I/51sSpOJwVpL._SX329_BO1,204,203,200_.jpg\" width=\"120\" ></td>\n",
       "      <td>QBQ! The Question Behind the Question</td>\n",
       "      <td>John G. Miller</td>\n",
       "      <td>115</td>\n",
       "    </tr>\n",
       "    <tr>\n",
       "      <th>19</th>\n",
       "      <td><img src=\"https://images-na.ssl-images-amazon.com/images/I/51Pwj4CrP4L._SX305_BO1,204,203,200_.jpg\" width=\"120\" ></td>\n",
       "      <td>Animal Farm</td>\n",
       "      <td>George Orwell</td>\n",
       "      <td>112</td>\n",
       "    </tr>\n",
       "    <tr>\n",
       "      <th>20</th>\n",
       "      <td><img src=\"https://images-na.ssl-images-amazon.com/images/I/51OVMT60y4L._SX300_BO1,204,203,200_.jpg\" width=\"120\" ></td>\n",
       "      <td>The Fall of Hyperion</td>\n",
       "      <td>Dan Simmons</td>\n",
       "      <td>528</td>\n",
       "    </tr>\n",
       "    <tr>\n",
       "      <th>21</th>\n",
       "      <td><img src=\"https://images-na.ssl-images-amazon.com/images/I/31lJMlO2ZwL._SX400_BO1,204,203,200_.jpg\" width=\"120\" ></td>\n",
       "      <td>Time Travel</td>\n",
       "      <td>James Gleick</td>\n",
       "      <td>352</td>\n",
       "    </tr>\n",
       "    <tr>\n",
       "      <th>22</th>\n",
       "      <td><img src=\"https://images-na.ssl-images-amazon.com/images/I/511P1YFJVVL._SX308_BO1,204,203,200_.jpg\" width=\"120\" ></td>\n",
       "      <td>Time Machines</td>\n",
       "      <td>Bill Adler, Jr.</td>\n",
       "      <td>400</td>\n",
       "    </tr>\n",
       "    <tr>\n",
       "      <th>23</th>\n",
       "      <td><img src=\"https://images-na.ssl-images-amazon.com/images/I/41utBtkGdTL._SX326_BO1,204,203,200_.jpg\" width=\"120\" ></td>\n",
       "      <td>Slaughterhouse-Five</td>\n",
       "      <td>Kurt Vonnegut</td>\n",
       "      <td>288</td>\n",
       "    </tr>\n",
       "  </tbody>\n",
       "</table>"
      ],
      "text/plain": [
       "<IPython.core.display.HTML object>"
      ]
     },
     "execution_count": 24,
     "metadata": {},
     "output_type": "execute_result"
    }
   ],
   "source": [
    "# Rendering the images in the dataframe using the HTML method with formatters\n",
    "\n",
    "HTML(df_books.to_html(escape=False,formatters=dict(cover=path_to_image_html)))"
   ]
  },
  {
   "cell_type": "code",
   "execution_count": null,
   "metadata": {},
   "outputs": [],
   "source": []
  },
  {
   "cell_type": "code",
   "execution_count": null,
   "metadata": {},
   "outputs": [],
   "source": [
    "# you can also not use formatters but create the html in the field itself\n",
    "df_books_alt = df_books.copy()"
   ]
  },
  {
   "cell_type": "code",
   "execution_count": null,
   "metadata": {},
   "outputs": [],
   "source": [
    "df_books_alt['cover'] = '<img src=\"'+ df_books_alt['cover'] + '\">'"
   ]
  },
  {
   "cell_type": "code",
   "execution_count": null,
   "metadata": {
    "scrolled": false
   },
   "outputs": [],
   "source": [
    "HTML(df_books_alt.to_html(escape=False))"
   ]
  },
  {
   "cell_type": "code",
   "execution_count": null,
   "metadata": {},
   "outputs": [],
   "source": []
  },
  {
   "cell_type": "code",
   "execution_count": null,
   "metadata": {},
   "outputs": [],
   "source": [
    "# to render the dataframe as an html table\n",
    "df_books.to_html(escape=False, formatters=dict(cover=path_to_image_html))"
   ]
  },
  {
   "cell_type": "code",
   "execution_count": null,
   "metadata": {},
   "outputs": [],
   "source": [
    "# Saving the dataframe as a webpage\n",
    "df_books.to_html('webpage.html',escape=False, formatters=dict(cover=path_to_image_html))"
   ]
  }
 ],
 "metadata": {
  "kernelspec": {
   "display_name": "Python 3",
   "language": "python",
   "name": "python3"
  },
  "language_info": {
   "codemirror_mode": {
    "name": "ipython",
    "version": 3
   },
   "file_extension": ".py",
   "mimetype": "text/x-python",
   "name": "python",
   "nbconvert_exporter": "python",
   "pygments_lexer": "ipython3",
   "version": "3.6.9"
  }
 },
 "nbformat": 4,
 "nbformat_minor": 2
}
