{
 "cells": [
  {
   "cell_type": "code",
   "execution_count": 1,
   "metadata": {},
   "outputs": [],
   "source": [
    "import pandas as pd\n",
    "import json\n",
    "from IPython.core.display import HTML"
   ]
  },
  {
   "cell_type": "code",
   "execution_count": 2,
   "metadata": {},
   "outputs": [],
   "source": [
    "def books_json_to_dataframe(yr):\n",
    "    import os\n",
    "    main_dir = os.path.dirname(os.path.dirname(os.getcwd()))\n",
    "\n",
    "    with open(main_dir + '\\\\' + yr + '\\\\notebook_version\\\\book_data.json') as f:\n",
    "      books_data = json.load(f)\n",
    "    \n",
    "    df_ = pd.DataFrame(data=books_data['books'])\n",
    "    \n",
    "    return df_"
   ]
  },
  {
   "cell_type": "code",
   "execution_count": 3,
   "metadata": {},
   "outputs": [],
   "source": [
    "df_books = books_json_to_dataframe('2022')"
   ]
  },
  {
   "cell_type": "code",
   "execution_count": 4,
   "metadata": {},
   "outputs": [],
   "source": [
    "# Converting links to html tags\n",
    "def path_to_image_html(path):\n",
    "    return '<img src=\"'+ path + '\" width=\"240\" >'\n"
   ]
  },
  {
   "cell_type": "code",
   "execution_count": null,
   "metadata": {},
   "outputs": [],
   "source": []
  },
  {
   "cell_type": "code",
   "execution_count": 5,
   "metadata": {},
   "outputs": [
    {
     "data": {
      "text/html": [
       "<div>\n",
       "<style scoped>\n",
       "    .dataframe tbody tr th:only-of-type {\n",
       "        vertical-align: middle;\n",
       "    }\n",
       "\n",
       "    .dataframe tbody tr th {\n",
       "        vertical-align: top;\n",
       "    }\n",
       "\n",
       "    .dataframe thead th {\n",
       "        text-align: right;\n",
       "    }\n",
       "</style>\n",
       "<table border=\"1\" class=\"dataframe\">\n",
       "  <thead>\n",
       "    <tr style=\"text-align: right;\">\n",
       "      <th></th>\n",
       "      <th>title</th>\n",
       "      <th>author</th>\n",
       "      <th>cover</th>\n",
       "      <th>pages</th>\n",
       "      <th>main_genre</th>\n",
       "      <th>sub_genre</th>\n",
       "    </tr>\n",
       "  </thead>\n",
       "  <tbody>\n",
       "    <tr>\n",
       "      <th>0</th>\n",
       "      <td>Darth Plagueis</td>\n",
       "      <td>James Luceno</td>\n",
       "      <td>https://images-na.ssl-images-amazon.com/images...</td>\n",
       "      <td>498</td>\n",
       "      <td>Fiction</td>\n",
       "      <td>Science Fiction</td>\n",
       "    </tr>\n",
       "    <tr>\n",
       "      <th>1</th>\n",
       "      <td>Dooku: Jedi Lost</td>\n",
       "      <td>Cavan Scott</td>\n",
       "      <td>https://images-na.ssl-images-amazon.com/images...</td>\n",
       "      <td>480</td>\n",
       "      <td>Fiction</td>\n",
       "      <td>Science Fiction</td>\n",
       "    </tr>\n",
       "    <tr>\n",
       "      <th>2</th>\n",
       "      <td>Fahrenheit 451</td>\n",
       "      <td>Ray Bradbury</td>\n",
       "      <td>https://images-na.ssl-images-amazon.com/images...</td>\n",
       "      <td>249</td>\n",
       "      <td>Fiction</td>\n",
       "      <td>Science Fiction</td>\n",
       "    </tr>\n",
       "    <tr>\n",
       "      <th>3</th>\n",
       "      <td>Master and Apprentice</td>\n",
       "      <td>Claudia Gray</td>\n",
       "      <td>https://images-na.ssl-images-amazon.com/images...</td>\n",
       "      <td>480</td>\n",
       "      <td>Fiction</td>\n",
       "      <td>Science Fiction</td>\n",
       "    </tr>\n",
       "    <tr>\n",
       "      <th>4</th>\n",
       "      <td>The Strain</td>\n",
       "      <td>Guillermo Del Toro, Chuck Hogan</td>\n",
       "      <td>https://images-na.ssl-images-amazon.com/images...</td>\n",
       "      <td>432</td>\n",
       "      <td>Fiction</td>\n",
       "      <td>Horror</td>\n",
       "    </tr>\n",
       "    <tr>\n",
       "      <th>5</th>\n",
       "      <td>The Fall</td>\n",
       "      <td>Guillermo Del Toro, Chuck Hogan</td>\n",
       "      <td>https://images-na.ssl-images-amazon.com/images...</td>\n",
       "      <td>480</td>\n",
       "      <td>Fiction</td>\n",
       "      <td>Horror</td>\n",
       "    </tr>\n",
       "    <tr>\n",
       "      <th>6</th>\n",
       "      <td>The Night Eternal</td>\n",
       "      <td>Guillermo Del Toro, Chuck Hogan</td>\n",
       "      <td>https://images-na.ssl-images-amazon.com/images...</td>\n",
       "      <td>560</td>\n",
       "      <td>Fiction</td>\n",
       "      <td>Horror</td>\n",
       "    </tr>\n",
       "    <tr>\n",
       "      <th>7</th>\n",
       "      <td>Zen and the Art of Motorcycle Maintenance</td>\n",
       "      <td>Robert M. Pirsig</td>\n",
       "      <td>https://images-na.ssl-images-amazon.com/images...</td>\n",
       "      <td>464</td>\n",
       "      <td>Fiction</td>\n",
       "      <td>Philosophy</td>\n",
       "    </tr>\n",
       "  </tbody>\n",
       "</table>\n",
       "</div>"
      ],
      "text/plain": [
       "                                       title                           author  \\\n",
       "0                             Darth Plagueis                     James Luceno   \n",
       "1                           Dooku: Jedi Lost                      Cavan Scott   \n",
       "2                             Fahrenheit 451                     Ray Bradbury   \n",
       "3                      Master and Apprentice                     Claudia Gray   \n",
       "4                                 The Strain  Guillermo Del Toro, Chuck Hogan   \n",
       "5                                   The Fall  Guillermo Del Toro, Chuck Hogan   \n",
       "6                          The Night Eternal  Guillermo Del Toro, Chuck Hogan   \n",
       "7  Zen and the Art of Motorcycle Maintenance                 Robert M. Pirsig   \n",
       "\n",
       "                                               cover  pages main_genre  \\\n",
       "0  https://images-na.ssl-images-amazon.com/images...    498    Fiction   \n",
       "1  https://images-na.ssl-images-amazon.com/images...    480    Fiction   \n",
       "2  https://images-na.ssl-images-amazon.com/images...    249    Fiction   \n",
       "3  https://images-na.ssl-images-amazon.com/images...    480    Fiction   \n",
       "4  https://images-na.ssl-images-amazon.com/images...    432    Fiction   \n",
       "5  https://images-na.ssl-images-amazon.com/images...    480    Fiction   \n",
       "6  https://images-na.ssl-images-amazon.com/images...    560    Fiction   \n",
       "7  https://images-na.ssl-images-amazon.com/images...    464    Fiction   \n",
       "\n",
       "         sub_genre  \n",
       "0  Science Fiction  \n",
       "1  Science Fiction  \n",
       "2  Science Fiction  \n",
       "3  Science Fiction  \n",
       "4           Horror  \n",
       "5           Horror  \n",
       "6           Horror  \n",
       "7       Philosophy  "
      ]
     },
     "execution_count": 5,
     "metadata": {},
     "output_type": "execute_result"
    }
   ],
   "source": [
    "df_books"
   ]
  },
  {
   "cell_type": "code",
   "execution_count": null,
   "metadata": {},
   "outputs": [],
   "source": []
  },
  {
   "cell_type": "code",
   "execution_count": 6,
   "metadata": {},
   "outputs": [],
   "source": [
    "# let's change the layout before moving on\n",
    "\n",
    "df_books = df_books[['cover','title','author','pages','main_genre','sub_genre']]"
   ]
  },
  {
   "cell_type": "code",
   "execution_count": 7,
   "metadata": {
    "scrolled": false
   },
   "outputs": [
    {
     "data": {
      "text/html": [
       "<table border=\"1\" class=\"dataframe\">\n",
       "  <thead>\n",
       "    <tr style=\"text-align: right;\">\n",
       "      <th></th>\n",
       "      <th>cover</th>\n",
       "      <th>title</th>\n",
       "      <th>author</th>\n",
       "      <th>pages</th>\n",
       "      <th>main_genre</th>\n",
       "      <th>sub_genre</th>\n",
       "    </tr>\n",
       "  </thead>\n",
       "  <tbody>\n",
       "    <tr>\n",
       "      <th>0</th>\n",
       "      <td><img src=\"https://images-na.ssl-images-amazon.com/images/I/91Ks5hTuBeL.jpg\" width=\"240\" ></td>\n",
       "      <td>Darth Plagueis</td>\n",
       "      <td>James Luceno</td>\n",
       "      <td>498</td>\n",
       "      <td>Fiction</td>\n",
       "      <td>Science Fiction</td>\n",
       "    </tr>\n",
       "    <tr>\n",
       "      <th>1</th>\n",
       "      <td><img src=\"https://images-na.ssl-images-amazon.com/images/I/81pH9p7BqNL.jpg\" width=\"240\" ></td>\n",
       "      <td>Dooku: Jedi Lost</td>\n",
       "      <td>Cavan Scott</td>\n",
       "      <td>480</td>\n",
       "      <td>Fiction</td>\n",
       "      <td>Science Fiction</td>\n",
       "    </tr>\n",
       "    <tr>\n",
       "      <th>2</th>\n",
       "      <td><img src=\"https://images-na.ssl-images-amazon.com/images/I/71OFqSRFDgL.jpg\" width=\"240\" ></td>\n",
       "      <td>Fahrenheit 451</td>\n",
       "      <td>Ray Bradbury</td>\n",
       "      <td>249</td>\n",
       "      <td>Fiction</td>\n",
       "      <td>Science Fiction</td>\n",
       "    </tr>\n",
       "    <tr>\n",
       "      <th>3</th>\n",
       "      <td><img src=\"https://images-na.ssl-images-amazon.com/images/I/91ygGYf+iGL.jpg\" width=\"240\" ></td>\n",
       "      <td>Master and Apprentice</td>\n",
       "      <td>Claudia Gray</td>\n",
       "      <td>480</td>\n",
       "      <td>Fiction</td>\n",
       "      <td>Science Fiction</td>\n",
       "    </tr>\n",
       "    <tr>\n",
       "      <th>4</th>\n",
       "      <td><img src=\"https://images-na.ssl-images-amazon.com/images/I/5131u2N5LjL.jpg\" width=\"240\" ></td>\n",
       "      <td>The Strain</td>\n",
       "      <td>Guillermo Del Toro, Chuck Hogan</td>\n",
       "      <td>432</td>\n",
       "      <td>Fiction</td>\n",
       "      <td>Horror</td>\n",
       "    </tr>\n",
       "    <tr>\n",
       "      <th>5</th>\n",
       "      <td><img src=\"https://images-na.ssl-images-amazon.com/images/I/71EKigt2JoL.jpg\" width=\"240\" ></td>\n",
       "      <td>The Fall</td>\n",
       "      <td>Guillermo Del Toro, Chuck Hogan</td>\n",
       "      <td>480</td>\n",
       "      <td>Fiction</td>\n",
       "      <td>Horror</td>\n",
       "    </tr>\n",
       "    <tr>\n",
       "      <th>6</th>\n",
       "      <td><img src=\"https://images-na.ssl-images-amazon.com/images/I/71PCoE9ac1L.jpg\" width=\"240\" ></td>\n",
       "      <td>The Night Eternal</td>\n",
       "      <td>Guillermo Del Toro, Chuck Hogan</td>\n",
       "      <td>560</td>\n",
       "      <td>Fiction</td>\n",
       "      <td>Horror</td>\n",
       "    </tr>\n",
       "    <tr>\n",
       "      <th>7</th>\n",
       "      <td><img src=\"https://images-na.ssl-images-amazon.com/images/I/61Geec7n-zL.jpg\" width=\"240\" ></td>\n",
       "      <td>Zen and the Art of Motorcycle Maintenance</td>\n",
       "      <td>Robert M. Pirsig</td>\n",
       "      <td>464</td>\n",
       "      <td>Fiction</td>\n",
       "      <td>Philosophy</td>\n",
       "    </tr>\n",
       "  </tbody>\n",
       "</table>"
      ],
      "text/plain": [
       "<IPython.core.display.HTML object>"
      ]
     },
     "execution_count": 7,
     "metadata": {},
     "output_type": "execute_result"
    }
   ],
   "source": [
    "# Rendering the images in the dataframe using the HTML method with formatters\n",
    "\n",
    "HTML(df_books.to_html(escape=False,formatters=dict(cover=path_to_image_html)))"
   ]
  },
  {
   "cell_type": "code",
   "execution_count": null,
   "metadata": {},
   "outputs": [],
   "source": []
  },
  {
   "cell_type": "code",
   "execution_count": 8,
   "metadata": {},
   "outputs": [],
   "source": [
    "# you can also not use formatters but create the html in the field itself\n",
    "# the cover image sizes differ so I prefer setting a defined image size like above\n",
    "# I am chosing not to run this cell since it takes up a lot of space with the huge cover image sizes. =]\n",
    "# df_books_alt = df_books.copy()\n",
    "# df_books_alt['cover'] = '<img src=\"'+ df_books_alt['cover'] + '\">'\n",
    "# HTML(df_books_alt.to_html(escape=False))"
   ]
  },
  {
   "cell_type": "markdown",
   "metadata": {},
   "source": [
    "## Filtering"
   ]
  },
  {
   "cell_type": "code",
   "execution_count": 9,
   "metadata": {},
   "outputs": [
    {
     "data": {
      "text/html": [
       "<div>\n",
       "<style scoped>\n",
       "    .dataframe tbody tr th:only-of-type {\n",
       "        vertical-align: middle;\n",
       "    }\n",
       "\n",
       "    .dataframe tbody tr th {\n",
       "        vertical-align: top;\n",
       "    }\n",
       "\n",
       "    .dataframe thead th {\n",
       "        text-align: right;\n",
       "    }\n",
       "</style>\n",
       "<table border=\"1\" class=\"dataframe\">\n",
       "  <thead>\n",
       "    <tr style=\"text-align: right;\">\n",
       "      <th></th>\n",
       "      <th>cover</th>\n",
       "      <th>title</th>\n",
       "      <th>author</th>\n",
       "      <th>pages</th>\n",
       "      <th>main_genre</th>\n",
       "      <th>sub_genre</th>\n",
       "    </tr>\n",
       "  </thead>\n",
       "  <tbody>\n",
       "    <tr>\n",
       "      <th>0</th>\n",
       "      <td>https://images-na.ssl-images-amazon.com/images...</td>\n",
       "      <td>Darth Plagueis</td>\n",
       "      <td>James Luceno</td>\n",
       "      <td>498</td>\n",
       "      <td>Fiction</td>\n",
       "      <td>Science Fiction</td>\n",
       "    </tr>\n",
       "    <tr>\n",
       "      <th>1</th>\n",
       "      <td>https://images-na.ssl-images-amazon.com/images...</td>\n",
       "      <td>Dooku: Jedi Lost</td>\n",
       "      <td>Cavan Scott</td>\n",
       "      <td>480</td>\n",
       "      <td>Fiction</td>\n",
       "      <td>Science Fiction</td>\n",
       "    </tr>\n",
       "    <tr>\n",
       "      <th>2</th>\n",
       "      <td>https://images-na.ssl-images-amazon.com/images...</td>\n",
       "      <td>Fahrenheit 451</td>\n",
       "      <td>Ray Bradbury</td>\n",
       "      <td>249</td>\n",
       "      <td>Fiction</td>\n",
       "      <td>Science Fiction</td>\n",
       "    </tr>\n",
       "    <tr>\n",
       "      <th>3</th>\n",
       "      <td>https://images-na.ssl-images-amazon.com/images...</td>\n",
       "      <td>Master and Apprentice</td>\n",
       "      <td>Claudia Gray</td>\n",
       "      <td>480</td>\n",
       "      <td>Fiction</td>\n",
       "      <td>Science Fiction</td>\n",
       "    </tr>\n",
       "    <tr>\n",
       "      <th>4</th>\n",
       "      <td>https://images-na.ssl-images-amazon.com/images...</td>\n",
       "      <td>The Strain</td>\n",
       "      <td>Guillermo Del Toro, Chuck Hogan</td>\n",
       "      <td>432</td>\n",
       "      <td>Fiction</td>\n",
       "      <td>Horror</td>\n",
       "    </tr>\n",
       "    <tr>\n",
       "      <th>5</th>\n",
       "      <td>https://images-na.ssl-images-amazon.com/images...</td>\n",
       "      <td>The Fall</td>\n",
       "      <td>Guillermo Del Toro, Chuck Hogan</td>\n",
       "      <td>480</td>\n",
       "      <td>Fiction</td>\n",
       "      <td>Horror</td>\n",
       "    </tr>\n",
       "    <tr>\n",
       "      <th>6</th>\n",
       "      <td>https://images-na.ssl-images-amazon.com/images...</td>\n",
       "      <td>The Night Eternal</td>\n",
       "      <td>Guillermo Del Toro, Chuck Hogan</td>\n",
       "      <td>560</td>\n",
       "      <td>Fiction</td>\n",
       "      <td>Horror</td>\n",
       "    </tr>\n",
       "    <tr>\n",
       "      <th>7</th>\n",
       "      <td>https://images-na.ssl-images-amazon.com/images...</td>\n",
       "      <td>Zen and the Art of Motorcycle Maintenance</td>\n",
       "      <td>Robert M. Pirsig</td>\n",
       "      <td>464</td>\n",
       "      <td>Fiction</td>\n",
       "      <td>Philosophy</td>\n",
       "    </tr>\n",
       "  </tbody>\n",
       "</table>\n",
       "</div>"
      ],
      "text/plain": [
       "                                               cover  \\\n",
       "0  https://images-na.ssl-images-amazon.com/images...   \n",
       "1  https://images-na.ssl-images-amazon.com/images...   \n",
       "2  https://images-na.ssl-images-amazon.com/images...   \n",
       "3  https://images-na.ssl-images-amazon.com/images...   \n",
       "4  https://images-na.ssl-images-amazon.com/images...   \n",
       "5  https://images-na.ssl-images-amazon.com/images...   \n",
       "6  https://images-na.ssl-images-amazon.com/images...   \n",
       "7  https://images-na.ssl-images-amazon.com/images...   \n",
       "\n",
       "                                       title                           author  \\\n",
       "0                             Darth Plagueis                     James Luceno   \n",
       "1                           Dooku: Jedi Lost                      Cavan Scott   \n",
       "2                             Fahrenheit 451                     Ray Bradbury   \n",
       "3                      Master and Apprentice                     Claudia Gray   \n",
       "4                                 The Strain  Guillermo Del Toro, Chuck Hogan   \n",
       "5                                   The Fall  Guillermo Del Toro, Chuck Hogan   \n",
       "6                          The Night Eternal  Guillermo Del Toro, Chuck Hogan   \n",
       "7  Zen and the Art of Motorcycle Maintenance                 Robert M. Pirsig   \n",
       "\n",
       "   pages main_genre        sub_genre  \n",
       "0    498    Fiction  Science Fiction  \n",
       "1    480    Fiction  Science Fiction  \n",
       "2    249    Fiction  Science Fiction  \n",
       "3    480    Fiction  Science Fiction  \n",
       "4    432    Fiction           Horror  \n",
       "5    480    Fiction           Horror  \n",
       "6    560    Fiction           Horror  \n",
       "7    464    Fiction       Philosophy  "
      ]
     },
     "execution_count": 9,
     "metadata": {},
     "output_type": "execute_result"
    }
   ],
   "source": [
    "# if we wanted to filter our list of books on certain criteria we can simply do this:\n",
    "\n",
    "df_books[df_books['main_genre'] == 'Fiction']"
   ]
  },
  {
   "cell_type": "code",
   "execution_count": 10,
   "metadata": {},
   "outputs": [],
   "source": [
    "# however, we can make filtering more fun and interactive by using WIDGETS\n",
    "\n",
    "import ipywidgets as widgets\n",
    "from IPython.display import display"
   ]
  },
  {
   "cell_type": "code",
   "execution_count": 11,
   "metadata": {},
   "outputs": [],
   "source": [
    "ALL = 'ALL'\n",
    "\n",
    "def unique_sorted_values_plus_ALL(array):\n",
    "    unique = array.unique().tolist()\n",
    "    unique.sort()\n",
    "    unique.insert(0, ALL)\n",
    "    return unique"
   ]
  },
  {
   "cell_type": "code",
   "execution_count": 12,
   "metadata": {},
   "outputs": [],
   "source": [
    "def dropdown_main_genre_eventhandler(change):\n",
    "    output_main_genre.clear_output()\n",
    "    with output_main_genre:\n",
    "        if (change.new == ALL):\n",
    "            display(df_books)\n",
    "        else:\n",
    "            display(df_books[df_books.main_genre == change.new])        \n",
    "        \n",
    "dropdown_main_genre = widgets.Dropdown(options = unique_sorted_values_plus_ALL(df_books.main_genre))\n",
    "\n",
    "output_main_genre = widgets.Output()\n",
    "\n",
    "dropdown_main_genre.observe(dropdown_main_genre_eventhandler, names='value')\n",
    "\n",
    "\n",
    "def dropdown_sub_genre_eventhandler(change):\n",
    "    output_sub_genre.clear_output()\n",
    "    with output_sub_genre:\n",
    "        if (change.new == ALL):\n",
    "            display(df_books)\n",
    "        else:\n",
    "            display(df_books[df_books.sub_genre == change.new])        \n",
    "        \n",
    "dropdown_sub_genre = widgets.Dropdown(options = unique_sorted_values_plus_ALL(df_books.sub_genre))\n",
    "\n",
    "output_sub_genre = widgets.Output()\n",
    "\n",
    "dropdown_sub_genre.observe(dropdown_sub_genre_eventhandler, names='value')\n",
    "\n",
    "\n",
    "\n",
    "def dropdown_author_eventhandler(change):\n",
    "    output_author.clear_output()\n",
    "    with output_author:\n",
    "        if (change.new == ALL):\n",
    "            display(df_books)\n",
    "        else:\n",
    "            display(df_books[df_books.author == change.new])        \n",
    "        \n",
    "dropdown_author = widgets.Dropdown(options = unique_sorted_values_plus_ALL(df_books.author))\n",
    "\n",
    "output_author = widgets.Output()\n",
    "\n",
    "dropdown_author.observe(dropdown_author_eventhandler, names='value')\n",
    "\n"
   ]
  },
  {
   "cell_type": "code",
   "execution_count": 13,
   "metadata": {},
   "outputs": [
    {
     "data": {
      "application/vnd.jupyter.widget-view+json": {
       "model_id": "d7f005eb2a474cf0858ef163e005c286",
       "version_major": 2,
       "version_minor": 0
      },
      "text/plain": [
       "Dropdown(options=('ALL', 'Fiction'), value='ALL')"
      ]
     },
     "metadata": {},
     "output_type": "display_data"
    }
   ],
   "source": [
    "display(dropdown_main_genre)"
   ]
  },
  {
   "cell_type": "code",
   "execution_count": 14,
   "metadata": {},
   "outputs": [
    {
     "data": {
      "application/vnd.jupyter.widget-view+json": {
       "model_id": "4983d07e747944b28c5e1e81650d1e8f",
       "version_major": 2,
       "version_minor": 0
      },
      "text/plain": [
       "Output()"
      ]
     },
     "metadata": {},
     "output_type": "display_data"
    }
   ],
   "source": [
    "display(output_main_genre)"
   ]
  },
  {
   "cell_type": "code",
   "execution_count": null,
   "metadata": {},
   "outputs": [],
   "source": []
  },
  {
   "cell_type": "code",
   "execution_count": 15,
   "metadata": {},
   "outputs": [
    {
     "data": {
      "application/vnd.jupyter.widget-view+json": {
       "model_id": "a1b3709d746942f180724d762051bd4b",
       "version_major": 2,
       "version_minor": 0
      },
      "text/plain": [
       "Dropdown(options=('ALL', 'Horror', 'Philosophy', 'Science Fiction'), value='ALL')"
      ]
     },
     "metadata": {},
     "output_type": "display_data"
    }
   ],
   "source": [
    "display(dropdown_sub_genre)"
   ]
  },
  {
   "cell_type": "code",
   "execution_count": 16,
   "metadata": {},
   "outputs": [
    {
     "data": {
      "application/vnd.jupyter.widget-view+json": {
       "model_id": "e7a65716eede49c2a71770f3f58c9cc1",
       "version_major": 2,
       "version_minor": 0
      },
      "text/plain": [
       "Output()"
      ]
     },
     "metadata": {},
     "output_type": "display_data"
    }
   ],
   "source": [
    "display(output_sub_genre)"
   ]
  },
  {
   "cell_type": "code",
   "execution_count": null,
   "metadata": {},
   "outputs": [],
   "source": []
  },
  {
   "cell_type": "code",
   "execution_count": 17,
   "metadata": {},
   "outputs": [
    {
     "data": {
      "application/vnd.jupyter.widget-view+json": {
       "model_id": "05535999f11d4dc595fc7fbb7e417d41",
       "version_major": 2,
       "version_minor": 0
      },
      "text/plain": [
       "Dropdown(options=('ALL', 'Cavan Scott', 'Claudia Gray', 'Guillermo Del Toro, Chuck Hogan', 'James Luceno', 'Ra…"
      ]
     },
     "metadata": {},
     "output_type": "display_data"
    }
   ],
   "source": [
    "display(dropdown_author)"
   ]
  },
  {
   "cell_type": "code",
   "execution_count": 18,
   "metadata": {},
   "outputs": [
    {
     "data": {
      "application/vnd.jupyter.widget-view+json": {
       "model_id": "a581ce5aa7104611bf246896a56bc4f7",
       "version_major": 2,
       "version_minor": 0
      },
      "text/plain": [
       "Output()"
      ]
     },
     "metadata": {},
     "output_type": "display_data"
    }
   ],
   "source": [
    "display(output_author)"
   ]
  },
  {
   "cell_type": "markdown",
   "metadata": {},
   "source": [
    "## Stats"
   ]
  },
  {
   "cell_type": "code",
   "execution_count": 19,
   "metadata": {},
   "outputs": [
    {
     "name": "stdout",
     "output_type": "stream",
     "text": [
      "2022: \n",
      "Total Books Read : 8 \n",
      "Total Pages Read: 3643\n"
     ]
    }
   ],
   "source": [
    "total_books = df_books['title'].count()\n",
    "total_pages = df_books['pages'].sum()\n",
    "print('2022: \\nTotal Books Read : ' + str(total_books) + ' \\nTotal Pages Read: ' + str(total_pages))\n"
   ]
  },
  {
   "cell_type": "code",
   "execution_count": 20,
   "metadata": {},
   "outputs": [],
   "source": [
    "# let's make a dataframe that contains all the different yearly 'books i have read' datasets so we can compare stuffs. =]\n",
    "\n",
    "\n",
    "def create_book_stats_dataframe():\n",
    "    book_stats = []\n",
    "    \n",
    "    df_books_2019 = books_json_to_dataframe('2019')\n",
    "    df_books_2020 = books_json_to_dataframe('2020')\n",
    "    df_books_2021 = books_json_to_dataframe('2021')\n",
    "    df_books_2022 = books_json_to_dataframe('2022')\n",
    "    \n",
    "    \n",
    "    book_stats.append([2019, df_books_2019['title'].count(), df_books_2019['pages'].sum()])\n",
    "    book_stats.append([2020, df_books_2020['title'].count(), df_books_2020['pages'].sum()])\n",
    "    book_stats.append([2021, df_books_2021['title'].count(), df_books_2021['pages'].sum()])\n",
    "    book_stats.append([2022, df_books_2022['title'].count(), df_books_2022['pages'].sum()])\n",
    "    \n",
    "    df_book_stats_ = pd.DataFrame(data=book_stats, columns=['year','total_books','total_pages'])\n",
    "    \n",
    "    return df_book_stats_"
   ]
  },
  {
   "cell_type": "code",
   "execution_count": 27,
   "metadata": {},
   "outputs": [],
   "source": [
    "import matplotlib.pyplot as plt\n",
    "import seaborn as sns"
   ]
  },
  {
   "cell_type": "code",
   "execution_count": 22,
   "metadata": {},
   "outputs": [],
   "source": [
    "df_book_stats = create_book_stats_dataframe()"
   ]
  },
  {
   "cell_type": "code",
   "execution_count": 23,
   "metadata": {},
   "outputs": [
    {
     "data": {
      "text/html": [
       "<div>\n",
       "<style scoped>\n",
       "    .dataframe tbody tr th:only-of-type {\n",
       "        vertical-align: middle;\n",
       "    }\n",
       "\n",
       "    .dataframe tbody tr th {\n",
       "        vertical-align: top;\n",
       "    }\n",
       "\n",
       "    .dataframe thead th {\n",
       "        text-align: right;\n",
       "    }\n",
       "</style>\n",
       "<table border=\"1\" class=\"dataframe\">\n",
       "  <thead>\n",
       "    <tr style=\"text-align: right;\">\n",
       "      <th></th>\n",
       "      <th>year</th>\n",
       "      <th>total_books</th>\n",
       "      <th>total_pages</th>\n",
       "    </tr>\n",
       "  </thead>\n",
       "  <tbody>\n",
       "    <tr>\n",
       "      <th>0</th>\n",
       "      <td>2019</td>\n",
       "      <td>22</td>\n",
       "      <td>6719</td>\n",
       "    </tr>\n",
       "    <tr>\n",
       "      <th>1</th>\n",
       "      <td>2020</td>\n",
       "      <td>24</td>\n",
       "      <td>9801</td>\n",
       "    </tr>\n",
       "    <tr>\n",
       "      <th>2</th>\n",
       "      <td>2021</td>\n",
       "      <td>33</td>\n",
       "      <td>13780</td>\n",
       "    </tr>\n",
       "    <tr>\n",
       "      <th>3</th>\n",
       "      <td>2022</td>\n",
       "      <td>8</td>\n",
       "      <td>3643</td>\n",
       "    </tr>\n",
       "  </tbody>\n",
       "</table>\n",
       "</div>"
      ],
      "text/plain": [
       "   year  total_books  total_pages\n",
       "0  2019           22         6719\n",
       "1  2020           24         9801\n",
       "2  2021           33        13780\n",
       "3  2022            8         3643"
      ]
     },
     "execution_count": 23,
     "metadata": {},
     "output_type": "execute_result"
    }
   ],
   "source": [
    "df_book_stats"
   ]
  },
  {
   "cell_type": "code",
   "execution_count": 25,
   "metadata": {},
   "outputs": [],
   "source": [
    "def create_basic_barplot(df, x_value, y_value, title, x_label, y_label):\n",
    "    plt.subplots(figsize=(15, 6))\n",
    "    chart = sns.barplot(x=x_value, y=y_value, data=df, palette=sns.color_palette(\"Set1\", n_colors=8, desat=.5))\n",
    "    chart.axhline(df[y_value].mean())\n",
    "    chart = chart.set_title(title, fontsize = 18)\n",
    "    chart = plt.xlabel(x_label, fontsize = 12)\n",
    "    chart = plt.ylabel(y_label, fontsize = 12)\n",
    "    # chart = plt.ylim(0, df[y_value].max())\n",
    "\n",
    "    return"
   ]
  },
  {
   "cell_type": "code",
   "execution_count": 28,
   "metadata": {},
   "outputs": [
    {
     "data": {
      "image/png": "[encoded data removed]",
      "text/plain": [
       "<Figure size 1080x432 with 1 Axes>"
      ]
     },
     "metadata": {
      "needs_background": "light"
     },
     "output_type": "display_data"
    }
   ],
   "source": [
    "create_basic_barplot(df_book_stats[['year','total_books']],'year','total_books','Total Books Read per Year','Year','Books Read')"
   ]
  },
  {
   "cell_type": "code",
   "execution_count": null,
   "metadata": {},
   "outputs": [],
   "source": []
  },
  {
   "cell_type": "code",
   "execution_count": 29,
   "metadata": {},
   "outputs": [],
   "source": [
    "# let's get an author count\n",
    "df_authors = pd.DataFrame({'total' : df_books.groupby(['author'])['author'].count()}).reset_index()\n",
    "df_authors.sort_values(by='total', ascending=False, inplace=True)"
   ]
  },
  {
   "cell_type": "code",
   "execution_count": 30,
   "metadata": {},
   "outputs": [
    {
     "data": {
      "text/html": [
       "<div>\n",
       "<style scoped>\n",
       "    .dataframe tbody tr th:only-of-type {\n",
       "        vertical-align: middle;\n",
       "    }\n",
       "\n",
       "    .dataframe tbody tr th {\n",
       "        vertical-align: top;\n",
       "    }\n",
       "\n",
       "    .dataframe thead th {\n",
       "        text-align: right;\n",
       "    }\n",
       "</style>\n",
       "<table border=\"1\" class=\"dataframe\">\n",
       "  <thead>\n",
       "    <tr style=\"text-align: right;\">\n",
       "      <th></th>\n",
       "      <th>author</th>\n",
       "      <th>total</th>\n",
       "    </tr>\n",
       "  </thead>\n",
       "  <tbody>\n",
       "    <tr>\n",
       "      <th>2</th>\n",
       "      <td>Guillermo Del Toro, Chuck Hogan</td>\n",
       "      <td>3</td>\n",
       "    </tr>\n",
       "    <tr>\n",
       "      <th>0</th>\n",
       "      <td>Cavan Scott</td>\n",
       "      <td>1</td>\n",
       "    </tr>\n",
       "    <tr>\n",
       "      <th>1</th>\n",
       "      <td>Claudia Gray</td>\n",
       "      <td>1</td>\n",
       "    </tr>\n",
       "    <tr>\n",
       "      <th>3</th>\n",
       "      <td>James Luceno</td>\n",
       "      <td>1</td>\n",
       "    </tr>\n",
       "    <tr>\n",
       "      <th>4</th>\n",
       "      <td>Ray Bradbury</td>\n",
       "      <td>1</td>\n",
       "    </tr>\n",
       "    <tr>\n",
       "      <th>5</th>\n",
       "      <td>Robert M. Pirsig</td>\n",
       "      <td>1</td>\n",
       "    </tr>\n",
       "  </tbody>\n",
       "</table>\n",
       "</div>"
      ],
      "text/plain": [
       "                            author  total\n",
       "2  Guillermo Del Toro, Chuck Hogan      3\n",
       "0                      Cavan Scott      1\n",
       "1                     Claudia Gray      1\n",
       "3                     James Luceno      1\n",
       "4                     Ray Bradbury      1\n",
       "5                 Robert M. Pirsig      1"
      ]
     },
     "execution_count": 30,
     "metadata": {},
     "output_type": "execute_result"
    }
   ],
   "source": [
    "df_authors"
   ]
  },
  {
   "cell_type": "code",
   "execution_count": 31,
   "metadata": {},
   "outputs": [
    {
     "data": {
      "text/html": [
       "<div>\n",
       "<style scoped>\n",
       "    .dataframe tbody tr th:only-of-type {\n",
       "        vertical-align: middle;\n",
       "    }\n",
       "\n",
       "    .dataframe tbody tr th {\n",
       "        vertical-align: top;\n",
       "    }\n",
       "\n",
       "    .dataframe thead th {\n",
       "        text-align: right;\n",
       "    }\n",
       "</style>\n",
       "<table border=\"1\" class=\"dataframe\">\n",
       "  <thead>\n",
       "    <tr style=\"text-align: right;\">\n",
       "      <th></th>\n",
       "      <th>author</th>\n",
       "      <th>total</th>\n",
       "    </tr>\n",
       "  </thead>\n",
       "  <tbody>\n",
       "    <tr>\n",
       "      <th>2</th>\n",
       "      <td>Guillermo Del Toro, Chuck Hogan</td>\n",
       "      <td>3</td>\n",
       "    </tr>\n",
       "    <tr>\n",
       "      <th>0</th>\n",
       "      <td>Cavan Scott</td>\n",
       "      <td>1</td>\n",
       "    </tr>\n",
       "    <tr>\n",
       "      <th>1</th>\n",
       "      <td>Claudia Gray</td>\n",
       "      <td>1</td>\n",
       "    </tr>\n",
       "  </tbody>\n",
       "</table>\n",
       "</div>"
      ],
      "text/plain": [
       "                            author  total\n",
       "2  Guillermo Del Toro, Chuck Hogan      3\n",
       "0                      Cavan Scott      1\n",
       "1                     Claudia Gray      1"
      ]
     },
     "execution_count": 31,
     "metadata": {},
     "output_type": "execute_result"
    }
   ],
   "source": [
    "# top 3 authors\n",
    "df_authors[:3]"
   ]
  },
  {
   "cell_type": "code",
   "execution_count": 32,
   "metadata": {},
   "outputs": [],
   "source": [
    "# we can also look at timeline, era, storyline\n",
    "\n",
    "# let's get an author count\n",
    "df_sub_genres = pd.DataFrame({'total' : df_books.groupby(['sub_genre'])['sub_genre'].count()}).reset_index()\n",
    "df_sub_genres.sort_values(by='total', ascending=False, inplace=True)\n",
    "\n",
    "df_main_genres = pd.DataFrame({'total' : df_books.groupby(['main_genre'])['main_genre'].count()}).reset_index()\n",
    "df_main_genres.sort_values(by='total', ascending=False, inplace=True)"
   ]
  },
  {
   "cell_type": "code",
   "execution_count": 33,
   "metadata": {},
   "outputs": [
    {
     "data": {
      "text/html": [
       "<div>\n",
       "<style scoped>\n",
       "    .dataframe tbody tr th:only-of-type {\n",
       "        vertical-align: middle;\n",
       "    }\n",
       "\n",
       "    .dataframe tbody tr th {\n",
       "        vertical-align: top;\n",
       "    }\n",
       "\n",
       "    .dataframe thead th {\n",
       "        text-align: right;\n",
       "    }\n",
       "</style>\n",
       "<table border=\"1\" class=\"dataframe\">\n",
       "  <thead>\n",
       "    <tr style=\"text-align: right;\">\n",
       "      <th></th>\n",
       "      <th>main_genre</th>\n",
       "      <th>total</th>\n",
       "    </tr>\n",
       "  </thead>\n",
       "  <tbody>\n",
       "    <tr>\n",
       "      <th>0</th>\n",
       "      <td>Fiction</td>\n",
       "      <td>8</td>\n",
       "    </tr>\n",
       "  </tbody>\n",
       "</table>\n",
       "</div>"
      ],
      "text/plain": [
       "  main_genre  total\n",
       "0    Fiction      8"
      ]
     },
     "execution_count": 33,
     "metadata": {},
     "output_type": "execute_result"
    }
   ],
   "source": [
    "df_main_genres"
   ]
  },
  {
   "cell_type": "code",
   "execution_count": 34,
   "metadata": {},
   "outputs": [
    {
     "data": {
      "text/html": [
       "<div>\n",
       "<style scoped>\n",
       "    .dataframe tbody tr th:only-of-type {\n",
       "        vertical-align: middle;\n",
       "    }\n",
       "\n",
       "    .dataframe tbody tr th {\n",
       "        vertical-align: top;\n",
       "    }\n",
       "\n",
       "    .dataframe thead th {\n",
       "        text-align: right;\n",
       "    }\n",
       "</style>\n",
       "<table border=\"1\" class=\"dataframe\">\n",
       "  <thead>\n",
       "    <tr style=\"text-align: right;\">\n",
       "      <th></th>\n",
       "      <th>sub_genre</th>\n",
       "      <th>total</th>\n",
       "    </tr>\n",
       "  </thead>\n",
       "  <tbody>\n",
       "    <tr>\n",
       "      <th>2</th>\n",
       "      <td>Science Fiction</td>\n",
       "      <td>4</td>\n",
       "    </tr>\n",
       "    <tr>\n",
       "      <th>0</th>\n",
       "      <td>Horror</td>\n",
       "      <td>3</td>\n",
       "    </tr>\n",
       "    <tr>\n",
       "      <th>1</th>\n",
       "      <td>Philosophy</td>\n",
       "      <td>1</td>\n",
       "    </tr>\n",
       "  </tbody>\n",
       "</table>\n",
       "</div>"
      ],
      "text/plain": [
       "         sub_genre  total\n",
       "2  Science Fiction      4\n",
       "0           Horror      3\n",
       "1       Philosophy      1"
      ]
     },
     "execution_count": 34,
     "metadata": {},
     "output_type": "execute_result"
    }
   ],
   "source": [
    "df_sub_genres"
   ]
  },
  {
   "cell_type": "code",
   "execution_count": null,
   "metadata": {},
   "outputs": [],
   "source": []
  },
  {
   "cell_type": "code",
   "execution_count": null,
   "metadata": {},
   "outputs": [],
   "source": []
  },
  {
   "cell_type": "code",
   "execution_count": 35,
   "metadata": {},
   "outputs": [],
   "source": [
    "# to render the dataframe as an html table\n",
    "#df_books.to_html(escape=False, formatters=dict(cover=path_to_image_html))\n",
    "\n",
    "# Saving the dataframe as a webpage\n",
    "df_books.to_html('books_i_have_read_2022.html',escape=False, formatters=dict(cover=path_to_image_html))"
   ]
  }
 ],
 "metadata": {
  "kernelspec": {
   "display_name": "Python 3 (ipykernel)",
   "language": "python",
   "name": "python3"
  },
  "language_info": {
   "codemirror_mode": {
    "name": "ipython",
    "version": 3
   },
   "file_extension": ".py",
   "mimetype": "text/x-python",
   "name": "python",
   "nbconvert_exporter": "python",
   "pygments_lexer": "ipython3",
   "version": "3.9.6"
  }
 },
 "nbformat": 4,
 "nbformat_minor": 2
}
